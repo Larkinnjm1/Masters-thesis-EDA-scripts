{
 "cells": [
  {
   "cell_type": "markdown",
   "metadata": {},
   "source": [
    "# Introduction\n",
    "\n",
    "The purpose of this notebook is to test and evaluate increase the resolution of MRI images T2SPIR and T1 dual (both phases) from 256x256 resolution to 512x512 resolution using classical super resolution methods but also pre trained deep learning methods"
   ]
  },
  {
   "cell_type": "markdown",
   "metadata": {},
   "source": [
    "# Loading in Libraries"
   ]
  },
  {
   "cell_type": "code",
   "execution_count": 1,
   "metadata": {},
   "outputs": [
    {
     "name": "stderr",
     "output_type": "stream",
     "text": [
      "Using TensorFlow backend.\n"
     ]
    }
   ],
   "source": [
    "\n",
    "from ISR.models import RDN"
   ]
  },
  {
   "cell_type": "code",
   "execution_count": 8,
   "metadata": {},
   "outputs": [
    {
     "name": "stdout",
     "output_type": "stream",
     "text": [
      "On branch master\r\n",
      "Your branch is up-to-date with 'origin/master'.\r\n",
      "\r\n",
      "Changes not staged for commit:\r\n",
      "  (use \"git add <file>...\" to update what will be committed)\r\n",
      "  (use \"git checkout -- <file>...\" to discard changes in working directory)\r\n",
      "\r\n",
      "\t\u001b[31mmodified:   jupyter_notebooks/Main notebooks/EDA grey level visualisation.ipynb\u001b[m\r\n",
      "\t\u001b[31mmodified:   jupyter_notebooks/Main notebooks/GCLM_texture_patch_small_scale_sampling.ipynb\u001b[m\r\n",
      "\t\u001b[31mmodified:   jupyter_notebooks/Main notebooks/renaming and resizing ground files.ipynb\u001b[m\r\n",
      "\r\n",
      "Untracked files:\r\n",
      "  (use \"git add <file>...\" to include in what will be committed)\r\n",
      "\r\n",
      "\t\u001b[31m.ipynb_checkpoints/Download_files_boto3-checkpoint.ipynb\u001b[m\r\n",
      "\t\u001b[31mDownload_files_boto3.ipynb\u001b[m\r\n",
      "\t\u001b[31mdata/\u001b[m\r\n",
      "\t\u001b[31mjupyter_notebooks/Main notebooks/.ipynb_checkpoints/\u001b[m\r\n",
      "\r\n",
      "no changes added to commit (use \"git add\" and/or \"git commit -a\")\r\n"
     ]
    }
   ],
   "source": [
    "!git status"
   ]
  },
  {
   "cell_type": "code",
   "execution_count": 5,
   "metadata": {},
   "outputs": [],
   "source": [
    "!git add ."
   ]
  },
  {
   "cell_type": "code",
   "execution_count": null,
   "metadata": {},
   "outputs": [],
   "source": [
    "git commit -m "
   ]
  },
  {
   "cell_type": "code",
   "execution_count": 6,
   "metadata": {},
   "outputs": [
    {
     "name": "stdout",
     "output_type": "stream",
     "text": [
      "Unstaged changes after reset:\r\n",
      "M\tjupyter_notebooks/Main notebooks/EDA grey level visualisation.ipynb\r\n",
      "M\tjupyter_notebooks/Main notebooks/GCLM_texture_patch_small_scale_sampling.ipynb\r\n",
      "M\tjupyter_notebooks/Main notebooks/renaming and resizing ground files.ipynb\r\n"
     ]
    }
   ],
   "source": [
    "!git reset"
   ]
  },
  {
   "cell_type": "code",
   "execution_count": null,
   "metadata": {},
   "outputs": [],
   "source": []
  },
  {
   "cell_type": "code",
   "execution_count": 282,
   "metadata": {},
   "outputs": [],
   "source": [
    "import PIL\n",
    "import numpy as np\n",
    "import imageio\n",
    "import pandas as pd \n",
    "import matplotlib.pyplot as plt\n",
    "from skimage.color import gray2rgb,rgb2gray\n",
    "from PIL import Image\n",
    "import os\n",
    "import cv2\n",
    "import ipdb\n",
    "import seaborn as sns"
   ]
  },
  {
   "cell_type": "markdown",
   "metadata": {},
   "source": [
    "# Loading in images for analysis"
   ]
  },
  {
   "cell_type": "code",
   "execution_count": 127,
   "metadata": {},
   "outputs": [
    {
     "name": "stdout",
     "output_type": "stream",
     "text": [
      "F:\\Biomedical images\\Train\\NIFTI_MR_N4_DICOM\n"
     ]
    }
   ],
   "source": [
    "cd F:\\Biomedical images\\Train\\NIFTI_MR_N4_DICOM"
   ]
  },
  {
   "cell_type": "code",
   "execution_count": 219,
   "metadata": {},
   "outputs": [],
   "source": [
    "#Setting up destination paths \n",
    "dst_path_256=r'F:\\Biomedical images\\Train\\NIFTI_MR_512x512 png 16grey lvl'\n",
    "dst_path_16=r'F:\\Biomedical images\\Train\\NIFTI_MR_512x512 png 256grey lvl'\n",
    "img_paths=os.listdir(dst_path_256)\n",
    "folder_types=os.listdir(os.path.join(dst_path_256,img_paths[0]))"
   ]
  },
  {
   "cell_type": "code",
   "execution_count": 432,
   "metadata": {},
   "outputs": [
    {
     "name": "stdout",
     "output_type": "stream",
     "text": [
      " Volume in drive F is Seagate Expansion Drive\n",
      " Volume Serial Number is A2E2-92D1\n",
      "\n",
      " Directory of F:\\Biomedical images\\Train\\NIFTI_MR_N4_DICOM\n",
      "\n",
      "06/10/2019  21:45    <DIR>          .\n",
      "06/10/2019  21:45    <DIR>          ..\n",
      "23/07/2019  21:52    <DIR>          1\n",
      "23/07/2019  21:52    <DIR>          10\n",
      "23/07/2019  21:52    <DIR>          13\n",
      "23/07/2019  21:52    <DIR>          15\n",
      "23/07/2019  21:52    <DIR>          19\n",
      "23/07/2019  21:52    <DIR>          2\n",
      "23/07/2019  21:52    <DIR>          20\n",
      "23/07/2019  21:52    <DIR>          21\n",
      "23/07/2019  21:52    <DIR>          22\n",
      "23/07/2019  21:52    <DIR>          3\n",
      "23/07/2019  21:52    <DIR>          31\n",
      "23/07/2019  21:52    <DIR>          32\n",
      "23/07/2019  21:52    <DIR>          33\n",
      "23/07/2019  21:52    <DIR>          34\n",
      "23/07/2019  21:52    <DIR>          36\n",
      "23/07/2019  21:52    <DIR>          37\n",
      "23/07/2019  21:52    <DIR>          38\n",
      "23/07/2019  21:53    <DIR>          39\n",
      "23/07/2019  21:53    <DIR>          5\n",
      "23/07/2019  21:53    <DIR>          8\n",
      "06/10/2019  21:42         2,986,374 CDF_Grey_16bit_per_img_type.jpeg\n",
      "06/10/2019  20:23         3,269,924 CDF_Grey_256_lvl_per_img_type.jpeg\n",
      "06/10/2019  20:23         1,824,922 histogram_bitdepth_t1dual_256_lvl.jpeg\n",
      "06/10/2019  21:45         1,599,713 histogram_bitdepth_t2spir_16bit.jpeg\n",
      "06/10/2019  20:23         1,743,529 histogram_bitdepth_t2spir_256_lvl.jpeg\n",
      "06/10/2019  21:41           524,400 t1dual_inphase_cdf_uint16.npy\n",
      "06/10/2019  21:41           524,400 t1dual_outphase_cdf_uint16.npy\n",
      "06/10/2019  21:41           524,400 t2spir_cdf_uint16.npy\n",
      "               8 File(s)     12,997,662 bytes\n",
      "              22 Dir(s)  967,796,682,752 bytes free\n"
     ]
    }
   ],
   "source": [
    "ls"
   ]
  },
  {
   "cell_type": "code",
   "execution_count": 402,
   "metadata": {},
   "outputs": [
    {
     "name": "stdout",
     "output_type": "stream",
     "text": [
      ".\\1\\T1DUAL\\DICOM_anon\\InPhase\n",
      ".\\1\\T1DUAL\\DICOM_anon\\OutPhase\n",
      ".\\1\\T1DUAL\\DICOM_anon\n",
      ".\\1\\T1DUAL\\Ground\n",
      ".\\1\\T1DUAL\n",
      ".\\1\\T2SPIR\\DICOM_anon\n",
      ".\\1\\T2SPIR\\Ground\n",
      ".\\1\\T2SPIR\n",
      ".\\1\n",
      ".\\10\\T1DUAL\\DICOM_anon\\InPhase\n",
      ".\\10\\T1DUAL\\DICOM_anon\\OutPhase\n",
      ".\\10\\T1DUAL\\DICOM_anon\n",
      ".\\10\\T1DUAL\\Ground\n",
      ".\\10\\T1DUAL\n",
      ".\\10\\T2SPIR\\DICOM_anon\n",
      ".\\10\\T2SPIR\\Ground\n",
      ".\\10\\T2SPIR\n",
      ".\\10\n",
      ".\\13\\T1DUAL\\DICOM_anon\\InPhase\n",
      ".\\13\\T1DUAL\\DICOM_anon\\OutPhase\n",
      ".\\13\\T1DUAL\\DICOM_anon\n",
      ".\\13\\T1DUAL\\Ground\n",
      ".\\13\\T1DUAL\n",
      ".\\13\\T2SPIR\\DICOM_anon\n",
      ".\\13\\T2SPIR\\Ground\n",
      ".\\13\\T2SPIR\n",
      ".\\13\n",
      ".\\15\\T1DUAL\\DICOM_anon\\InPhase\n",
      ".\\15\\T1DUAL\\DICOM_anon\\OutPhase\n",
      ".\\15\\T1DUAL\\DICOM_anon\n",
      ".\\15\\T1DUAL\\Ground\n",
      ".\\15\\T1DUAL\n",
      ".\\15\\T2SPIR\\DICOM_anon\n",
      ".\\15\\T2SPIR\\Ground\n",
      ".\\15\\T2SPIR\n",
      ".\\15\n",
      ".\\19\\T1DUAL\\DICOM_anon\\InPhase\n",
      ".\\19\\T1DUAL\\DICOM_anon\\OutPhase\n",
      ".\\19\\T1DUAL\\DICOM_anon\n",
      ".\\19\\T1DUAL\\Ground\n",
      ".\\19\\T1DUAL\n",
      ".\\19\\T2SPIR\\DICOM_anon\n",
      ".\\19\\T2SPIR\\Ground\n",
      ".\\19\\T2SPIR\n",
      ".\\19\n",
      ".\\2\\T1DUAL\\DICOM_anon\\InPhase\n",
      ".\\2\\T1DUAL\\DICOM_anon\\OutPhase\n",
      ".\\2\\T1DUAL\\DICOM_anon\n",
      ".\\2\\T1DUAL\\Ground\n",
      ".\\2\\T1DUAL\n",
      ".\\2\\T2SPIR\\DICOM_anon\n",
      ".\\2\\T2SPIR\\Ground\n",
      ".\\2\\T2SPIR\n",
      ".\\2\n",
      ".\\20\\T1DUAL\\DICOM_anon\\InPhase\n",
      ".\\20\\T1DUAL\\DICOM_anon\\OutPhase\n",
      ".\\20\\T1DUAL\\DICOM_anon\n",
      ".\\20\\T1DUAL\\Ground\n",
      ".\\20\\T1DUAL\n",
      ".\\20\\T2SPIR\\DICOM_anon\n",
      ".\\20\\T2SPIR\\Ground\n",
      ".\\20\\T2SPIR\n",
      ".\\20\n",
      ".\\21\\T1DUAL\\DICOM_anon\\InPhase\n",
      ".\\21\\T1DUAL\\DICOM_anon\\OutPhase\n",
      ".\\21\\T1DUAL\\DICOM_anon\n",
      ".\\21\\T1DUAL\\Ground\n",
      ".\\21\\T1DUAL\n",
      ".\\21\\T2SPIR\\DICOM_anon\n",
      ".\\21\\T2SPIR\\Ground\n",
      ".\\21\\T2SPIR\n",
      ".\\21\n",
      ".\\22\\T1DUAL\\DICOM_anon\\InPhase\n",
      ".\\22\\T1DUAL\\DICOM_anon\\OutPhase\n",
      ".\\22\\T1DUAL\\DICOM_anon\n",
      ".\\22\\T1DUAL\\Ground\n",
      ".\\22\\T1DUAL\n",
      ".\\22\\T2SPIR\\DICOM_anon\n",
      ".\\22\\T2SPIR\\Ground\n",
      ".\\22\\T2SPIR\n",
      ".\\22\n",
      ".\\3\\T1DUAL\\DICOM_anon\\InPhase\n",
      ".\\3\\T1DUAL\\DICOM_anon\\OutPhase\n",
      ".\\3\\T1DUAL\\DICOM_anon\n",
      ".\\3\\T1DUAL\\Ground\n",
      ".\\3\\T1DUAL\n",
      ".\\3\\T2SPIR\\DICOM_anon\n",
      ".\\3\\T2SPIR\\Ground\n",
      ".\\3\\T2SPIR\n",
      ".\\3\n",
      ".\\31\\T1DUAL\\DICOM_anon\\InPhase\n",
      ".\\31\\T1DUAL\\DICOM_anon\\OutPhase\n",
      ".\\31\\T1DUAL\\DICOM_anon\n",
      ".\\31\\T1DUAL\\Ground\n",
      ".\\31\\T1DUAL\n",
      ".\\31\\T2SPIR\\DICOM_anon\n",
      ".\\31\\T2SPIR\\Ground\n",
      ".\\31\\T2SPIR\n",
      ".\\31\n",
      ".\\32\\T1DUAL\\DICOM_anon\\InPhase\n",
      ".\\32\\T1DUAL\\DICOM_anon\\OutPhase\n",
      ".\\32\\T1DUAL\\DICOM_anon\n",
      ".\\32\\T1DUAL\\Ground\n",
      ".\\32\\T1DUAL\n",
      ".\\32\\T2SPIR\\DICOM_anon\n",
      ".\\32\\T2SPIR\\Ground\n",
      ".\\32\\T2SPIR\n",
      ".\\32\n",
      ".\\33\\T1DUAL\\DICOM_anon\\InPhase\n",
      ".\\33\\T1DUAL\\DICOM_anon\\OutPhase\n",
      ".\\33\\T1DUAL\\DICOM_anon\n",
      ".\\33\\T1DUAL\\Ground\n",
      ".\\33\\T1DUAL\n",
      ".\\33\\T2SPIR\\DICOM_anon\n",
      ".\\33\\T2SPIR\\Ground\n",
      ".\\33\\T2SPIR\n",
      ".\\33\n",
      ".\\34\\T1DUAL\\DICOM_anon\\InPhase\n",
      ".\\34\\T1DUAL\\DICOM_anon\\OutPhase\n",
      ".\\34\\T1DUAL\\DICOM_anon\n",
      ".\\34\\T1DUAL\\Ground\n",
      ".\\34\\T1DUAL\n",
      ".\\34\\T2SPIR\\DICOM_anon\n",
      ".\\34\\T2SPIR\\Ground\n",
      ".\\34\\T2SPIR\n",
      ".\\34\n",
      ".\\36\\T1DUAL\\DICOM_anon\\InPhase\n",
      ".\\36\\T1DUAL\\DICOM_anon\\OutPhase\n",
      ".\\36\\T1DUAL\\DICOM_anon\n",
      ".\\36\\T1DUAL\\Ground\n",
      ".\\36\\T1DUAL\n",
      ".\\36\\T2SPIR\\DICOM_anon\n",
      ".\\36\\T2SPIR\\Ground\n",
      ".\\36\\T2SPIR\n",
      ".\\36\n",
      ".\\37\\T1DUAL\\DICOM_anon\\InPhase\n",
      ".\\37\\T1DUAL\\DICOM_anon\\OutPhase\n",
      ".\\37\\T1DUAL\\DICOM_anon\n",
      ".\\37\\T1DUAL\\Ground\n",
      ".\\37\\T1DUAL\n",
      ".\\37\\T2SPIR\\DICOM_anon\n",
      ".\\37\\T2SPIR\\Ground\n",
      ".\\37\\T2SPIR\n",
      ".\\37\n",
      ".\\38\\T1DUAL\\DICOM_anon\\InPhase\n",
      ".\\38\\T1DUAL\\DICOM_anon\\OutPhase\n",
      ".\\38\\T1DUAL\\DICOM_anon\n",
      ".\\38\\T1DUAL\\Ground\n",
      ".\\38\\T1DUAL\n",
      ".\\38\\T2SPIR\\DICOM_anon\n",
      ".\\38\\T2SPIR\\Ground\n",
      ".\\38\\T2SPIR\n",
      ".\\38\n",
      ".\\39\\T1DUAL\\DICOM_anon\\InPhase\n",
      ".\\39\\T1DUAL\\DICOM_anon\\OutPhase\n",
      ".\\39\\T1DUAL\\DICOM_anon\n",
      ".\\39\\T1DUAL\\Ground\n",
      ".\\39\\T1DUAL\n",
      ".\\39\\T2SPIR\\DICOM_anon\n",
      ".\\39\\T2SPIR\\Ground\n",
      ".\\39\\T2SPIR\n",
      ".\\39\n",
      ".\\5\\T1DUAL\\DICOM_anon\\InPhase\n",
      ".\\5\\T1DUAL\\DICOM_anon\\OutPhase\n",
      ".\\5\\T1DUAL\\DICOM_anon\n",
      ".\\5\\T1DUAL\\Ground\n",
      ".\\5\\T1DUAL\n",
      ".\\5\\T2SPIR\\DICOM_anon\n",
      ".\\5\\T2SPIR\\Ground\n",
      ".\\5\\T2SPIR\n",
      ".\\5\n",
      ".\\8\\T1DUAL\\DICOM_anon\\InPhase\n",
      ".\\8\\T1DUAL\\DICOM_anon\\OutPhase\n",
      ".\\8\\T1DUAL\\DICOM_anon\n",
      ".\\8\\T1DUAL\\Ground\n",
      ".\\8\\T1DUAL\n",
      ".\\8\\T2SPIR\\DICOM_anon\n",
      ".\\8\\T2SPIR\\Ground\n",
      ".\\8\\T2SPIR\n",
      ".\\8\n",
      ".\n"
     ]
    },
    {
     "name": "stderr",
     "output_type": "stream",
     "text": [
      "C:\\Anaconda3\\lib\\site-packages\\PIL\\Image.py:2600: DecompressionBombWarning: Image size (144000000 pixels) exceeds limit of 89478485 pixels, could be decompression bomb DOS attack.\n",
      "  DecompressionBombWarning)\n"
     ]
    }
   ],
   "source": [
    "t1dual_inphase_hists=np.zeros((65536,1)).astype(np.uint8)\n",
    "t1dual_outphase_hists=np.zeros((65536,1)).astype(np.uint8)\n",
    "t2spir_hists=np.zeros((65536,1)).astype(np.uint8)\n",
    "\n",
    "for root, dirs, files in os.walk(\".\", topdown=False):\n",
    "    print(root)\n",
    "    for file in files:\n",
    "        \n",
    "        img = imageio.imread(os.path.join(root,file))\n",
    "        #img=bytescaling(img)\n",
    "        hist = cv2.calcHist([img],[0],None,[65536],[0,65536])\n",
    "        \n",
    "        if file.lower().find('t1dualinphase')!=-1:\n",
    "            #t1dual_inphase_hists=np.concatenate((t1dual_inphase_hists,img.flatten()))\n",
    "            t1dual_inphase_hists=np.add(t1dual_inphase_hists,hist)\n",
    "            \n",
    "        elif file.lower().find('t1dualoutphase')!=-1:\n",
    "            #t1dual_outphase_hists=np.concatenate((t1dual_outphase_hists,img.flatten()))\n",
    "            t1dual_outphase_hists=np.add(t1dual_outphase_hists,hist)\n",
    "            \n",
    "        elif file.lower().find('t2spir')!=-1:\n",
    "            #t2spir_hists=np.concatenate((t2spir_hists,img.flatten()))\n",
    "            t2spir_hists=np.add(t2spir_hists,hist)\n",
    "        \n",
    "        "
   ]
  },
  {
   "cell_type": "code",
   "execution_count": 424,
   "metadata": {},
   "outputs": [
    {
     "data": {
      "text/plain": [
       "array([46092056.], dtype=float32)"
      ]
     },
     "execution_count": 424,
     "metadata": {},
     "output_type": "execute_result"
    }
   ],
   "source": [
    "sum(t1dual_inphase_hists)"
   ]
  },
  {
   "cell_type": "code",
   "execution_count": 425,
   "metadata": {},
   "outputs": [
    {
     "data": {
      "text/plain": [
       "array([[2466383.]], dtype=float32)"
      ]
     },
     "execution_count": 425,
     "metadata": {},
     "output_type": "execute_result"
    }
   ],
   "source": [
    "t1dual_inphase_hists[1:2]"
   ]
  },
  {
   "cell_type": "code",
   "execution_count": null,
   "metadata": {},
   "outputs": [],
   "source": []
  },
  {
   "cell_type": "code",
   "execution_count": 403,
   "metadata": {},
   "outputs": [],
   "source": [
    "t2spir_cdf_arr=CDF_estimation(t2spir_hists,1)\n",
    "t1dual_inphase_cdf_arr=CDF_estimation(t1dual_inphase_hists,1)\n",
    "t1dual_outphase_cdf_arr=CDF_estimation(t1dual_outphase_hists,1)"
   ]
  },
  {
   "cell_type": "code",
   "execution_count": 407,
   "metadata": {},
   "outputs": [],
   "source": [
    "np.save('t1dual_outphase_cdf_uint16',t1dual_outphase_cdf_arr,allow_pickle=True)"
   ]
  },
  {
   "cell_type": "code",
   "execution_count": 430,
   "metadata": {},
   "outputs": [
    {
     "data": {
      "text/plain": [
       "array([0.09, 0.16, 0.2 , 0.23, 0.26, 0.28, 0.29, 0.31, 0.32, 0.33, 0.34,\n",
       "       0.35, 0.36, 0.36, 0.37, 0.37, 0.38, 0.38, 0.38, 0.39, 0.39, 0.39,\n",
       "       0.4 , 0.4 , 0.4 , 0.41, 0.41, 0.41, 0.41, 0.42, 0.42, 0.42, 0.42,\n",
       "       0.42, 0.43, 0.43, 0.43, 0.43, 0.43, 0.44, 0.44, 0.44, 0.44, 0.44,\n",
       "       0.45, 0.45, 0.45, 0.45, 0.45, 0.46, 0.46, 0.46, 0.46, 0.46, 0.47,\n",
       "       0.47, 0.47, 0.47, 0.47, 0.48, 0.48, 0.48, 0.48, 0.48, 0.49, 0.49,\n",
       "       0.49, 0.49, 0.49, 0.5 , 0.5 , 0.5 , 0.5 , 0.5 , 0.51, 0.51, 0.51,\n",
       "       0.51, 0.51, 0.52, 0.52, 0.52, 0.52, 0.52, 0.53, 0.53, 0.53, 0.53,\n",
       "       0.53, 0.54, 0.54, 0.54, 0.54, 0.54, 0.55, 0.55, 0.55, 0.55, 0.55,\n",
       "       0.55, 0.56, 0.56, 0.56, 0.56, 0.56, 0.57, 0.57, 0.57, 0.57, 0.57,\n",
       "       0.58, 0.58, 0.58, 0.58, 0.58, 0.59, 0.59, 0.59, 0.59, 0.59, 0.6 ,\n",
       "       0.6 , 0.6 , 0.6 , 0.6 , 0.61, 0.61, 0.61, 0.61, 0.61, 0.62, 0.62,\n",
       "       0.62, 0.62, 0.62, 0.63, 0.63, 0.63, 0.63, 0.63, 0.63, 0.64, 0.64,\n",
       "       0.64, 0.64, 0.64, 0.64, 0.65, 0.65, 0.65, 0.65, 0.65, 0.65, 0.66,\n",
       "       0.66, 0.66, 0.66, 0.66, 0.66, 0.67, 0.67, 0.67, 0.67, 0.67, 0.67,\n",
       "       0.67, 0.68, 0.68, 0.68, 0.68, 0.68, 0.68, 0.68, 0.69, 0.69, 0.69,\n",
       "       0.69, 0.69, 0.69, 0.69, 0.69, 0.7 , 0.7 , 0.7 , 0.7 , 0.7 , 0.7 ,\n",
       "       0.7 , 0.71, 0.71, 0.71, 0.71, 0.71, 0.71, 0.71, 0.72, 0.72, 0.72,\n",
       "       0.72, 0.72, 0.72, 0.72, 0.73, 0.73, 0.73, 0.73, 0.73, 0.73, 0.73,\n",
       "       0.74, 0.74, 0.74, 0.74, 0.74, 0.74, 0.74, 0.75, 0.75, 0.75, 0.75,\n",
       "       0.75, 0.75, 0.75, 0.75, 0.76, 0.76, 0.76, 0.76, 0.76, 0.76, 0.76,\n",
       "       0.77, 0.77, 0.77, 0.77, 0.77, 0.77, 0.77, 0.78, 0.78, 0.78, 0.78,\n",
       "       0.78, 0.78, 0.78, 0.79, 0.79, 0.79, 0.79, 0.79, 0.79, 0.79, 0.8 ,\n",
       "       0.8 , 0.8 , 0.8 , 0.8 , 0.8 , 0.81, 0.81, 0.81, 0.81, 0.81, 0.81,\n",
       "       0.81, 0.82, 0.82, 0.82, 0.82, 0.82, 0.82, 0.82, 0.83, 0.83, 0.83,\n",
       "       0.83, 0.83, 0.83, 0.83, 0.83, 0.84, 0.84, 0.84, 0.84, 0.84, 0.84,\n",
       "       0.84, 0.84, 0.84, 0.85, 0.85, 0.85, 0.85, 0.85, 0.85, 0.85, 0.85,\n",
       "       0.85, 0.85, 0.86, 0.86, 0.86, 0.86, 0.86, 0.86, 0.86, 0.86, 0.86,\n",
       "       0.86, 0.86, 0.87, 0.87, 0.87, 0.87, 0.87, 0.87, 0.87, 0.87, 0.87,\n",
       "       0.87, 0.88, 0.88, 0.88, 0.88, 0.88, 0.88, 0.88, 0.88, 0.88, 0.88,\n",
       "       0.88, 0.89, 0.89, 0.89, 0.89, 0.89, 0.89, 0.89, 0.89, 0.89, 0.89,\n",
       "       0.89, 0.89, 0.89, 0.89, 0.9 , 0.9 , 0.9 , 0.9 , 0.9 ])"
      ]
     },
     "execution_count": 430,
     "metadata": {},
     "output_type": "execute_result"
    }
   ],
   "source": [
    "t1dual_outphase_cdf_arr[:350]"
   ]
  },
  {
   "cell_type": "code",
   "execution_count": null,
   "metadata": {},
   "outputs": [],
   "source": []
  },
  {
   "cell_type": "code",
   "execution_count": 411,
   "metadata": {},
   "outputs": [
    {
     "data": {
      "image/png": "[encoded data removed]",
      "text/plain": [
       "<Figure size 1440x1440 with 1 Axes>"
      ]
     },
     "metadata": {
      "needs_background": "light"
     },
     "output_type": "display_data"
    }
   ],
   "source": [
    "font = {'family' : 'normal',\n",
    "        'weight' : 'bold',\n",
    "        'size'   : 15}\n",
    "\n",
    "plt.rc('font', **font)\n",
    "\n",
    "plt.figure(figsize=(20,20))\n",
    "plt.scatter(np.arange(65534),t2spir_cdf_arr)\n",
    "plt.scatter(np.arange(65534),t1dual_inphase_cdf_arr)\n",
    "plt.scatter(np.arange(65534),t1dual_outphase_cdf_arr)\n",
    "plt.yticks(np.arange(0, 1.1, 0.1))\n",
    "plt.ylabel('% Cumulative frequency')\n",
    "plt.xlabel('Pixel depth levels of 16 bit greyscale image')\n",
    "plt.legend(['T2SPIR','T1DUAL_INPHASE','T1DUAL_OUTPHASE'])\n",
    "plt.savefig('CDF_Grey_16bit_per_img_type.jpeg',dpi=600)"
   ]
  },
  {
   "cell_type": "code",
   "execution_count": null,
   "metadata": {},
   "outputs": [],
   "source": []
  },
  {
   "cell_type": "code",
   "execution_count": 348,
   "metadata": {},
   "outputs": [],
   "source": [
    "def CDF_estimation(histogram_vals,strt_pt):\n",
    "    \n",
    "    hist_bins=histogram_vals.shape[0]\n",
    "    \n",
    "    total_val=sum(histogram_vals[strt_pt:])\n",
    "    cum_sum_arr=[]\n",
    "    \n",
    "    for i in range(strt_pt+1,hist_bins):\n",
    "   \n",
    "        tmp_cum_sum=float(sum(histogram_vals[strt_pt:i])/total_val)\n",
    "        \n",
    "        cum_sum_arr.append(round(tmp_cum_sum,2))\n",
    "        \n",
    "    return np.array(cum_sum_arr)"
   ]
  },
  {
   "cell_type": "code",
   "execution_count": 412,
   "metadata": {},
   "outputs": [
    {
     "data": {
      "image/png": "[encoded data removed]",
      "text/plain": [
       "<Figure size 1080x1080 with 1 Axes>"
      ]
     },
     "metadata": {
      "needs_background": "light"
     },
     "output_type": "display_data"
    }
   ],
   "source": [
    "plt.figure(figsize=(15,15))\n",
    "plt.hist(list(range(1,65536)),bins=65535,weights=t2spir_hists[1:],alpha=0.5,label='T2SPIR')\n",
    "\n",
    "plt.legend(loc='upper right')\n",
    "plt.ylabel('Frequency')\n",
    "plt.xlabel('Pixel depth levels of 16 bit greyscale image')\n",
    "plt.savefig('histogram_bitdepth_t2spir_16bit.jpeg',dpi=600)"
   ]
  },
  {
   "cell_type": "code",
   "execution_count": 384,
   "metadata": {},
   "outputs": [
    {
     "data": {
      "image/png": "[encoded data removed]",
      "text/plain": [
       "<Figure size 1080x1080 with 1 Axes>"
      ]
     },
     "metadata": {
      "needs_background": "light"
     },
     "output_type": "display_data"
    }
   ],
   "source": [
    "plt.figure(figsize=(15,15))\n",
    "plt.hist(list(range(1,65536)),bins=65535,weights=t1dual_inphase_hists[1:],alpha=0.5,label='T1DUAL_INPHASE')\n",
    "plt.hist(list(range(1,65536)),bins=65535,weights=t1dual_outphase_hists[1:],alpha=0.5,label='T1DUAL_OUTPHASE')\n",
    "plt.legend(loc='upper right')\n",
    "plt.ylabel('Frequency')\n",
    "plt.xlabel('Pixel depth levels of 16 bit greyscale image')\n",
    "plt.savefig('histogram_bitdepth_t1dual_16bit.jpeg',dpi=600)"
   ]
  },
  {
   "cell_type": "code",
   "execution_count": 261,
   "metadata": {},
   "outputs": [],
   "source": [
    "img = imageio.imread(os.path.join(r'F:\\Biomedical images\\Train\\NIFTI_MR_N4_DICOM\\1\\T1DUAL\\DICOM_anon\\InPhase','1T1DUALInPhase_slice_no_10.dcm'))\n",
    "\n",
    "hist = cv2.calcHist([img],[0],None,[256],[0,256])\n",
    "\n"
   ]
  },
  {
   "cell_type": "code",
   "execution_count": 254,
   "metadata": {},
   "outputs": [
    {
     "data": {
      "text/plain": [
       "'.\\\\19\\\\T1DUAL\\\\DICOM_anon\\\\InPhase\\\\19T1DUALInPhase_slice_no_1.dcm'"
      ]
     },
     "execution_count": 254,
     "metadata": {},
     "output_type": "execute_result"
    }
   ],
   "source": [
    "os.path.join(root,file)"
   ]
  },
  {
   "cell_type": "code",
   "execution_count": 221,
   "metadata": {},
   "outputs": [
    {
     "name": "stdout",
     "output_type": "stream",
     "text": [
      ".\\1\\T1DUAL\\DICOM_anon\\InPhase\n",
      "[[0 0 0 ... 0 0 0]\n",
      " [0 0 0 ... 0 0 0]\n",
      " [0 0 0 ... 0 0 0]\n",
      " ...\n",
      " [0 0 0 ... 0 0 0]\n",
      " [0 0 0 ... 0 0 0]\n",
      " [0 0 0 ... 0 0 0]]\n",
      "[[0 0 0 ... 0 0 0]\n",
      " [0 0 0 ... 0 0 0]\n",
      " [0 0 0 ... 0 0 0]\n",
      " ...\n",
      " [0 0 0 ... 0 0 0]\n",
      " [0 0 0 ... 0 0 0]\n",
      " [0 0 0 ... 0 0 0]]\n",
      ".\\1\\T1DUAL\\DICOM_anon\\OutPhase\n",
      "[[0 0 0 ... 0 0 0]\n",
      " [0 0 0 ... 0 0 0]\n",
      " [0 0 0 ... 0 0 0]\n",
      " ...\n",
      " [0 0 0 ... 0 0 0]\n",
      " [0 0 0 ... 0 0 0]\n",
      " [0 0 0 ... 0 0 0]]\n",
      "[[0 0 0 ... 0 0 0]\n",
      " [0 0 0 ... 0 0 0]\n",
      " [0 0 0 ... 0 0 0]\n",
      " ...\n",
      " [0 0 0 ... 0 0 0]\n",
      " [0 0 0 ... 0 0 0]\n",
      " [0 0 0 ... 0 0 0]]\n",
      ".\\1\\T1DUAL\\DICOM_anon\n",
      ".\\1\\T1DUAL\\Ground\n",
      ".\\1\\T1DUAL\n",
      ".\\1\\T2SPIR\\DICOM_anon\n",
      "[[0 0 0 ... 0 0 0]\n",
      " [0 0 0 ... 0 0 0]\n",
      " [0 0 0 ... 0 0 0]\n",
      " ...\n",
      " [0 0 0 ... 0 0 0]\n",
      " [0 0 0 ... 0 0 0]\n",
      " [0 0 0 ... 0 0 0]]\n",
      "[[0 0 0 ... 0 0 0]\n",
      " [0 0 0 ... 0 0 0]\n",
      " [0 0 0 ... 0 0 0]\n",
      " ...\n",
      " [0 0 0 ... 0 0 0]\n",
      " [0 0 0 ... 0 0 0]\n",
      " [0 0 0 ... 0 0 0]]\n",
      ".\\1\\T2SPIR\\Ground\n",
      ".\\1\\T2SPIR\n",
      ".\\1\n",
      ".\\10\\T1DUAL\\DICOM_anon\\InPhase\n",
      "[[0 0 0 ... 0 0 0]\n",
      " [0 0 0 ... 0 0 0]\n",
      " [0 0 0 ... 0 0 0]\n",
      " ...\n",
      " [0 0 0 ... 0 0 0]\n",
      " [0 0 0 ... 0 0 0]\n",
      " [0 0 0 ... 0 0 0]]\n",
      "[[0 0 0 ... 0 0 0]\n",
      " [0 0 0 ... 0 0 0]\n",
      " [0 0 0 ... 0 0 0]\n",
      " ...\n",
      " [0 0 0 ... 0 0 0]\n",
      " [0 0 0 ... 0 0 0]\n",
      " [0 0 0 ... 0 0 0]]\n",
      ".\\10\\T1DUAL\\DICOM_anon\\OutPhase\n",
      "[[0 0 0 ... 0 0 0]\n",
      " [0 0 0 ... 0 0 0]\n",
      " [0 0 0 ... 0 0 0]\n",
      " ...\n",
      " [0 0 0 ... 0 0 0]\n",
      " [0 0 0 ... 0 0 0]\n",
      " [0 0 0 ... 0 0 0]]\n",
      "[[0 0 0 ... 0 0 0]\n",
      " [0 0 0 ... 0 0 0]\n",
      " [0 0 0 ... 0 0 0]\n",
      " ...\n",
      " [0 0 0 ... 0 0 0]\n",
      " [0 0 0 ... 0 0 0]\n",
      " [0 0 0 ... 0 0 0]]\n",
      ".\\10\\T1DUAL\\DICOM_anon\n",
      ".\\10\\T1DUAL\\Ground\n",
      ".\\10\\T1DUAL\n",
      ".\\10\\T2SPIR\\DICOM_anon\n",
      "[[0 0 0 ... 0 0 0]\n",
      " [0 0 0 ... 0 0 0]\n",
      " [0 0 0 ... 0 0 0]\n",
      " ...\n",
      " [0 0 0 ... 0 0 0]\n",
      " [0 0 0 ... 0 0 0]\n",
      " [0 0 0 ... 0 0 0]]\n",
      "[[0 0 0 ... 0 0 0]\n",
      " [0 0 0 ... 0 0 0]\n",
      " [0 0 0 ... 0 0 0]\n",
      " ...\n",
      " [0 0 0 ... 0 0 0]\n",
      " [0 0 0 ... 0 0 0]\n",
      " [0 0 0 ... 0 0 0]]\n",
      ".\\10\\T2SPIR\\Ground\n",
      ".\\10\\T2SPIR\n",
      ".\\10\n",
      ".\\13\\T1DUAL\\DICOM_anon\\InPhase\n",
      "[[0 0 0 ... 0 0 0]\n",
      " [0 0 0 ... 0 0 0]\n",
      " [0 0 0 ... 0 0 0]\n",
      " ...\n",
      " [0 0 0 ... 0 0 0]\n",
      " [0 0 0 ... 0 0 0]\n",
      " [0 0 0 ... 0 0 0]]\n",
      "[[0 0 0 ... 0 0 0]\n",
      " [0 0 0 ... 0 0 0]\n",
      " [0 0 0 ... 0 0 0]\n",
      " ...\n",
      " [0 0 0 ... 0 0 0]\n",
      " [0 0 0 ... 0 0 0]\n",
      " [0 0 0 ... 0 0 0]]\n",
      ".\\13\\T1DUAL\\DICOM_anon\\OutPhase\n",
      "[[0 0 0 ... 0 0 0]\n",
      " [0 0 0 ... 0 0 0]\n",
      " [0 0 0 ... 0 0 0]\n",
      " ...\n",
      " [0 0 0 ... 0 0 0]\n",
      " [0 0 0 ... 0 0 0]\n",
      " [0 0 0 ... 0 0 0]]\n",
      "[[0 0 0 ... 0 0 0]\n",
      " [0 0 0 ... 0 0 0]\n",
      " [0 0 0 ... 0 0 0]\n",
      " ...\n",
      " [0 0 0 ... 0 0 0]\n",
      " [0 0 0 ... 0 0 0]\n",
      " [0 0 0 ... 0 0 0]]\n",
      ".\\13\\T1DUAL\\DICOM_anon\n",
      ".\\13\\T1DUAL\\Ground\n",
      ".\\13\\T1DUAL\n",
      ".\\13\\T2SPIR\\DICOM_anon\n",
      "[[0 0 0 ... 0 0 0]\n",
      " [0 0 0 ... 0 0 0]\n",
      " [0 0 0 ... 0 0 0]\n",
      " ...\n",
      " [0 0 0 ... 0 0 0]\n",
      " [0 0 0 ... 0 0 0]\n",
      " [0 0 0 ... 0 0 0]]\n",
      "[[0 0 0 ... 0 0 0]\n",
      " [0 0 0 ... 0 0 0]\n",
      " [0 0 0 ... 0 0 0]\n",
      " ...\n",
      " [0 0 0 ... 0 0 0]\n",
      " [0 0 0 ... 0 0 0]\n",
      " [0 0 0 ... 0 0 0]]\n",
      ".\\13\\T2SPIR\\Ground\n",
      ".\\13\\T2SPIR\n",
      ".\\13\n",
      ".\\15\\T1DUAL\\DICOM_anon\\InPhase\n",
      "[[0 0 0 ... 0 0 0]\n",
      " [0 0 0 ... 0 0 0]\n",
      " [0 0 0 ... 0 0 0]\n",
      " ...\n",
      " [0 0 0 ... 0 0 0]\n",
      " [0 0 0 ... 0 0 0]\n",
      " [0 0 0 ... 0 0 0]]\n",
      "[[0 0 0 ... 0 0 0]\n",
      " [0 0 0 ... 0 0 0]\n",
      " [0 0 0 ... 0 0 0]\n",
      " ...\n",
      " [0 0 0 ... 0 0 0]\n",
      " [0 0 0 ... 0 0 0]\n",
      " [0 0 0 ... 0 0 0]]\n",
      ".\\15\\T1DUAL\\DICOM_anon\\OutPhase\n",
      "[[0 0 0 ... 0 0 0]\n",
      " [0 0 0 ... 0 0 0]\n",
      " [0 0 0 ... 0 0 0]\n",
      " ...\n",
      " [0 0 0 ... 0 0 0]\n",
      " [0 0 0 ... 0 0 0]\n",
      " [0 0 0 ... 0 0 0]]\n",
      "[[0 0 0 ... 0 0 0]\n",
      " [0 0 0 ... 0 0 0]\n",
      " [0 0 0 ... 0 0 0]\n",
      " ...\n",
      " [0 0 0 ... 0 0 0]\n",
      " [0 0 0 ... 0 0 0]\n",
      " [0 0 0 ... 0 0 0]]\n",
      ".\\15\\T1DUAL\\DICOM_anon\n",
      ".\\15\\T1DUAL\\Ground\n",
      ".\\15\\T1DUAL\n",
      ".\\15\\T2SPIR\\DICOM_anon\n",
      "[[0 0 0 ... 0 0 0]\n",
      " [0 0 0 ... 0 0 0]\n",
      " [0 0 0 ... 0 0 0]\n",
      " ...\n",
      " [0 0 0 ... 0 0 0]\n",
      " [0 0 0 ... 0 0 0]\n",
      " [0 0 0 ... 0 0 0]]\n",
      "[[0 0 0 ... 0 0 0]\n",
      " [0 0 0 ... 0 0 0]\n",
      " [0 0 0 ... 0 0 0]\n",
      " ...\n",
      " [0 0 0 ... 0 0 0]\n",
      " [0 0 0 ... 0 0 0]\n",
      " [0 0 0 ... 0 0 0]]\n",
      ".\\15\\T2SPIR\\Ground\n",
      ".\\15\\T2SPIR\n",
      ".\\15\n",
      ".\\19\\T1DUAL\\DICOM_anon\\InPhase\n"
     ]
    },
    {
     "ename": "KeyboardInterrupt",
     "evalue": "",
     "output_type": "error",
     "traceback": [
      "\u001b[1;31m---------------------------------------------------------------------------\u001b[0m",
      "\u001b[1;31mKeyboardInterrupt\u001b[0m                         Traceback (most recent call last)",
      "\u001b[1;32m<ipython-input-221-cf52a428600a>\u001b[0m in \u001b[0;36m<module>\u001b[1;34m\u001b[0m\n\u001b[0;32m      8\u001b[0m         \u001b[0mtmp_img_256\u001b[0m\u001b[1;33m=\u001b[0m\u001b[0mbytescaling\u001b[0m\u001b[1;33m(\u001b[0m\u001b[0mtmp_img\u001b[0m\u001b[1;33m)\u001b[0m\u001b[1;33m\u001b[0m\u001b[1;33m\u001b[0m\u001b[0m\n\u001b[0;32m      9\u001b[0m         \u001b[1;31m#reducing down grey level further to 16 level grey scale image for analysis.\u001b[0m\u001b[1;33m\u001b[0m\u001b[1;33m\u001b[0m\u001b[1;33m\u001b[0m\u001b[0m\n\u001b[1;32m---> 10\u001b[1;33m         \u001b[0mtmp_img_16\u001b[0m\u001b[1;33m=\u001b[0m\u001b[0mquantize_igs\u001b[0m\u001b[1;33m(\u001b[0m\u001b[0mtmp_img_256\u001b[0m\u001b[1;33m,\u001b[0m \u001b[1;36m16\u001b[0m\u001b[1;33m,\u001b[0m \u001b[0mqtype\u001b[0m\u001b[1;33m=\u001b[0m\u001b[1;34m'igs'\u001b[0m\u001b[1;33m,\u001b[0m \u001b[0mmaxCount\u001b[0m\u001b[1;33m=\u001b[0m\u001b[1;36m255\u001b[0m\u001b[1;33m,\u001b[0m \u001b[0mdisplayLevels\u001b[0m\u001b[1;33m=\u001b[0m\u001b[1;32mNone\u001b[0m\u001b[1;33m)\u001b[0m\u001b[1;33m\u001b[0m\u001b[1;33m\u001b[0m\u001b[0m\n\u001b[0m\u001b[0;32m     11\u001b[0m \u001b[1;33m\u001b[0m\u001b[0m\n\u001b[0;32m     12\u001b[0m         \u001b[1;31m#resizing both image types to 512 resolution for analysis.\u001b[0m\u001b[1;33m\u001b[0m\u001b[1;33m\u001b[0m\u001b[1;33m\u001b[0m\u001b[0m\n",
      "\u001b[1;32m<ipython-input-196-8bb4af9af40f>\u001b[0m in \u001b[0;36mquantize_igs\u001b[1;34m(im, levels, qtype, maxCount, displayLevels)\u001b[0m\n\u001b[0;32m     54\u001b[0m             \u001b[1;32mfor\u001b[0m \u001b[0mj\u001b[0m \u001b[1;32min\u001b[0m \u001b[0mrange\u001b[0m\u001b[1;33m(\u001b[0m\u001b[0mlen\u001b[0m\u001b[1;33m(\u001b[0m\u001b[0mim\u001b[0m\u001b[1;33m[\u001b[0m\u001b[0mi\u001b[0m\u001b[1;33m]\u001b[0m\u001b[1;33m)\u001b[0m\u001b[1;33m)\u001b[0m\u001b[1;33m:\u001b[0m\u001b[1;33m\u001b[0m\u001b[1;33m\u001b[0m\u001b[0m\n\u001b[0;32m     55\u001b[0m                 \u001b[1;31m# get a new digital count with the error\u001b[0m\u001b[1;33m\u001b[0m\u001b[1;33m\u001b[0m\u001b[1;33m\u001b[0m\u001b[0m\n\u001b[1;32m---> 56\u001b[1;33m                 \u001b[0merrDC\u001b[0m \u001b[1;33m=\u001b[0m \u001b[0mim\u001b[0m\u001b[1;33m[\u001b[0m\u001b[0mi\u001b[0m\u001b[1;33m]\u001b[0m\u001b[1;33m[\u001b[0m\u001b[0mj\u001b[0m\u001b[1;33m]\u001b[0m \u001b[1;33m+\u001b[0m \u001b[0merror\u001b[0m\u001b[1;33m\u001b[0m\u001b[1;33m\u001b[0m\u001b[0m\n\u001b[0m\u001b[0;32m     57\u001b[0m                 \u001b[1;31m# save the error for the next pixel\u001b[0m\u001b[1;33m\u001b[0m\u001b[1;33m\u001b[0m\u001b[1;33m\u001b[0m\u001b[0m\n\u001b[0;32m     58\u001b[0m                 \u001b[0merror\u001b[0m \u001b[1;33m=\u001b[0m \u001b[0merrDC\u001b[0m \u001b[1;33m%\u001b[0m \u001b[1;33m(\u001b[0m\u001b[0mmaxCount\u001b[0m\u001b[1;33m/\u001b[0m\u001b[0mlevels\u001b[0m\u001b[1;33m)\u001b[0m\u001b[1;33m\u001b[0m\u001b[1;33m\u001b[0m\u001b[0m\n",
      "\u001b[1;32mC:\\Anaconda3\\lib\\site-packages\\imageio\\core\\util.py\u001b[0m in \u001b[0;36m__array_finalize__\u001b[1;34m(self, ob)\u001b[0m\n\u001b[0;32m    176\u001b[0m         \"\"\"\n\u001b[0;32m    177\u001b[0m         \u001b[1;32mif\u001b[0m \u001b[0misinstance\u001b[0m\u001b[1;33m(\u001b[0m\u001b[0mob\u001b[0m\u001b[1;33m,\u001b[0m \u001b[0mArray\u001b[0m\u001b[1;33m)\u001b[0m\u001b[1;33m:\u001b[0m\u001b[1;33m\u001b[0m\u001b[1;33m\u001b[0m\u001b[0m\n\u001b[1;32m--> 178\u001b[1;33m             \u001b[0mself\u001b[0m\u001b[1;33m.\u001b[0m\u001b[0m_copy_meta\u001b[0m\u001b[1;33m(\u001b[0m\u001b[0mob\u001b[0m\u001b[1;33m.\u001b[0m\u001b[0mmeta\u001b[0m\u001b[1;33m)\u001b[0m\u001b[1;33m\u001b[0m\u001b[1;33m\u001b[0m\u001b[0m\n\u001b[0m\u001b[0;32m    179\u001b[0m         \u001b[1;32melse\u001b[0m\u001b[1;33m:\u001b[0m\u001b[1;33m\u001b[0m\u001b[1;33m\u001b[0m\u001b[0m\n\u001b[0;32m    180\u001b[0m             \u001b[0mself\u001b[0m\u001b[1;33m.\u001b[0m\u001b[0m_copy_meta\u001b[0m\u001b[1;33m(\u001b[0m\u001b[1;33m{\u001b[0m\u001b[1;33m}\u001b[0m\u001b[1;33m)\u001b[0m\u001b[1;33m\u001b[0m\u001b[1;33m\u001b[0m\u001b[0m\n",
      "\u001b[1;32mC:\\Anaconda3\\lib\\site-packages\\imageio\\core\\util.py\u001b[0m in \u001b[0;36m_copy_meta\u001b[1;34m(self, meta)\u001b[0m\n\u001b[0;32m    161\u001b[0m         \u001b[0mself\u001b[0m\u001b[1;33m.\u001b[0m\u001b[0m_meta\u001b[0m \u001b[1;33m=\u001b[0m \u001b[0mDict\u001b[0m\u001b[1;33m(\u001b[0m\u001b[1;33m)\u001b[0m\u001b[1;33m\u001b[0m\u001b[1;33m\u001b[0m\u001b[0m\n\u001b[0;32m    162\u001b[0m         \u001b[1;32mfor\u001b[0m \u001b[0mkey\u001b[0m\u001b[1;33m,\u001b[0m \u001b[0mval\u001b[0m \u001b[1;32min\u001b[0m \u001b[0mmeta\u001b[0m\u001b[1;33m.\u001b[0m\u001b[0mitems\u001b[0m\u001b[1;33m(\u001b[0m\u001b[1;33m)\u001b[0m\u001b[1;33m:\u001b[0m\u001b[1;33m\u001b[0m\u001b[1;33m\u001b[0m\u001b[0m\n\u001b[1;32m--> 163\u001b[1;33m             \u001b[1;32mif\u001b[0m \u001b[0misinstance\u001b[0m\u001b[1;33m(\u001b[0m\u001b[0mval\u001b[0m\u001b[1;33m,\u001b[0m \u001b[0mdict\u001b[0m\u001b[1;33m)\u001b[0m\u001b[1;33m:\u001b[0m\u001b[1;33m\u001b[0m\u001b[1;33m\u001b[0m\u001b[0m\n\u001b[0m\u001b[0;32m    164\u001b[0m                 \u001b[0mval\u001b[0m \u001b[1;33m=\u001b[0m \u001b[0mDict\u001b[0m\u001b[1;33m(\u001b[0m\u001b[0mval\u001b[0m\u001b[1;33m)\u001b[0m  \u001b[1;31m# Copy this level\u001b[0m\u001b[1;33m\u001b[0m\u001b[1;33m\u001b[0m\u001b[0m\n\u001b[0;32m    165\u001b[0m             \u001b[0mself\u001b[0m\u001b[1;33m.\u001b[0m\u001b[0m_meta\u001b[0m\u001b[1;33m[\u001b[0m\u001b[0mkey\u001b[0m\u001b[1;33m]\u001b[0m \u001b[1;33m=\u001b[0m \u001b[0mval\u001b[0m\u001b[1;33m\u001b[0m\u001b[1;33m\u001b[0m\u001b[0m\n",
      "\u001b[1;31mKeyboardInterrupt\u001b[0m: "
     ]
    }
   ],
   "source": []
  },
  {
   "cell_type": "code",
   "execution_count": 223,
   "metadata": {},
   "outputs": [
    {
     "name": "stdout",
     "output_type": "stream",
     "text": [
      "F:\\Biomedical images\\Train\\NIFTI_MR_512x512 png 256grey lvl\\t1dualinphase\\Source\n"
     ]
    }
   ],
   "source": [
    "cd F:\\Biomedical images\\Train\\NIFTI_MR_512x512 png 256grey lvl\\t1dualinphase\\Source"
   ]
  },
  {
   "cell_type": "markdown",
   "metadata": {},
   "source": [
    "# Functions calls for image resizing"
   ]
  },
  {
   "cell_type": "code",
   "execution_count": 200,
   "metadata": {},
   "outputs": [],
   "source": [
    "def img_resize(img,resize_sp):\n",
    "    \"\"\"the purpose of this method is to resize image using general linear intepolation. \"\"\"\n",
    "    \n",
    "    PIL_img=Image.fromarray(img)\n",
    "    \n",
    "    PIL_img_resize=PIL_img.resize((resize_sp,resize_sp))\n",
    "    \n",
    "    return np.array(PIL_img_resize)"
   ]
  },
  {
   "cell_type": "code",
   "execution_count": 191,
   "metadata": {},
   "outputs": [],
   "source": [
    "t1_dual_splits=['inphase','outphase']\n",
    "pat_splits=['t1dual','t2spir']\n",
    "combo_split_list=[t1_dual_splits,pat_splits]\n",
    "\n",
    "def reformat_file_str_underscore(strs,combo_split_list):\n",
    "    \n",
    "    \"\"\"The purpose of this method is to rename files wrt to split of the naming concentions file structure for ease of use. \"\"\"\n",
    "    \n",
    "    tmp_str_lower=strs.lower()\n",
    "    #splitting name wrt to combo lists above. \n",
    "    split_combo=[y for x in combo_split_list for y in x if tmp_str_lower.find(y)!=-1]\n",
    "    #Splitting list by combinations.\n",
    "    tmp_str_concat=None\n",
    "    for splts in split_combo:\n",
    "        \n",
    "        if tmp_str_concat is None:\n",
    "            tmp_str_split=tmp_str_lower.split(splts)\n",
    "            tmp_str_concat=tmp_str_split[0]+'_'+splts+tmp_str_split[1]\n",
    "            \n",
    "        else:\n",
    "            tmp_str_concat=tmp_str_concat.split(splts)\n",
    "            tmp_str_concat=tmp_str_concat[0]+'_'+splts+tmp_str_concat[1]\n",
    "    \n",
    "    return tmp_str_concat\n",
    "    "
   ]
  },
  {
   "cell_type": "code",
   "execution_count": 196,
   "metadata": {},
   "outputs": [],
   "source": [
    "def quantize_igs(im, levels, qtype='uniform', maxCount=255, displayLevels=None):\n",
    "    \"\"\"\n",
    "    Function to run uniform gray-level and improved gray-scale Quantization.\n",
    "    This takes in an image, and buckets the gray values depending on the params.\n",
    "    Args:\n",
    "        im (array): image to be quantized as an array of values from 0 to 255\n",
    "        levels (int): number of levels to quantize to.\n",
    "            This should be a positive integer, and smaller than the maxCount.\n",
    "        qtype (optional[string]): the type of quantization to perform.\n",
    "            Can be either 'uniform' or 'igs'; Defaults to 'uniform'.\n",
    "        maxCount (optional[int]): the maximum value for a digital count\n",
    "        displayLevels (optional[int]): the number of gray levels to expand to.\n",
    "            By default this value is None and will shrink the range of greys.\n",
    "            This value should be a positive integer when provided.\n",
    "    Return:\n",
    "        the quantized image\n",
    "    \"\"\"\n",
    "    # default value if we need to return early\n",
    "    returnImage = im\n",
    "\n",
    "    # get int type\n",
    "    dtype = im.dtype\n",
    "\n",
    "    if (displayLevels == None):\n",
    "        # by default don't re-expand the image\n",
    "        displayCount = levels\n",
    "    elif displayLevels > 0:\n",
    "        displayCount = displayLevels-1\n",
    "    else:\n",
    "        print(\"displayLevels is an invalid value\")\n",
    "        return returnImage\n",
    "\n",
    "    # we're getting one more level than we should be, so minus 1\n",
    "    if ((levels > 0) and (levels < maxCount)):\n",
    "        levels = levels - 1\n",
    "    else:\n",
    "        print(\"levels needs to be a positive value, and smaller than the maxCount\")\n",
    "        return returnImage\n",
    "\n",
    "    if (qtype == 'uniform'):\n",
    "        # uniform method from lecture\n",
    "        returnImage = np.floor((im/((maxCount+1)/float(levels))))*(displayCount/levels)\n",
    "\n",
    "    elif (qtype == 'igs'):\n",
    "        # error diffusion method from lecture\n",
    "\n",
    "        # default error as 0 for the first pixel\n",
    "        error = 0\n",
    "\n",
    "        # the list of rows that will be turned into an image\n",
    "        returnList = []\n",
    "        for i in range(len(im)):\n",
    "            returnRow = []\n",
    "            for j in range(len(im[i])):\n",
    "                # get a new digital count with the error\n",
    "                errDC = im[i][j] + error\n",
    "                # save the error for the next pixel\n",
    "                error = errDC % (maxCount/levels)\n",
    "\n",
    "                # calculate the new digital count, and append it to the row\n",
    "                newDC = np.floor((errDC)/(maxCount/levels))\n",
    "                returnRow.append(newDC*(displayCount/levels))\n",
    "            # append the row to the final image\n",
    "            returnList.append(np.array(returnRow))\n",
    "\n",
    "        returnImage = np.array(returnList, dtype)\n",
    "\n",
    "    else:\n",
    "        # invalid qtype\n",
    "        print('qtype is an invalid value, please use \"uniform\", or \"igs\"')\n",
    "\n",
    "    print(returnImage)\n",
    "    return np.array(returnImage, dtype)"
   ]
  },
  {
   "cell_type": "code",
   "execution_count": 195,
   "metadata": {},
   "outputs": [],
   "source": [
    "def bytescaling(data, cmin=None, cmax=None, high=255, low=0):\n",
    "    \"\"\"\n",
    "    Converting the input image to uint8 dtype and scaling\n",
    "    the range to ``(low, high)`` (default 0-255). If the input image already has \n",
    "    dtype uint8, no scaling is done.\n",
    "    :param data: 16-bit image data array\n",
    "    :param cmin: bias scaling of small values (def: data.min())\n",
    "    :param cmax: bias scaling of large values (def: data.max())\n",
    "    :param high: scale max value to high. (def: 255)\n",
    "    :param low: scale min value to low. (def: 0)\n",
    "    :return: 8-bit image data array\n",
    "    \"\"\"\n",
    "    if data.dtype == np.uint8:\n",
    "        return data\n",
    "\n",
    "    if high > 255:\n",
    "        high = 255\n",
    "    if low < 0:\n",
    "        low = 0\n",
    "    if high < low:\n",
    "        raise ValueError(\"`high` should be greater than or equal to `low`.\")\n",
    "\n",
    "    if cmin is None:\n",
    "        cmin = data.min()\n",
    "    if cmax is None:\n",
    "        cmax = data.max()\n",
    "\n",
    "    cscale = cmax - cmin\n",
    "    if cscale == 0:\n",
    "        cscale = 1\n",
    "\n",
    "    scale = float(high - low) / cscale\n",
    "    bytedata = (data - cmin) * scale + low\n",
    "    return (bytedata.clip(low, high) + 0.5).astype(np.uint8)"
   ]
  },
  {
   "cell_type": "code",
   "execution_count": null,
   "metadata": {},
   "outputs": [],
   "source": []
  }
 ],
 "metadata": {
  "kernelspec": {
   "display_name": "conda_python3",
   "language": "python",
   "name": "conda_python3"
  },
  "language_info": {
   "codemirror_mode": {
    "name": "ipython",
    "version": 3
   },
   "file_extension": ".py",
   "mimetype": "text/x-python",
   "name": "python",
   "nbconvert_exporter": "python",
   "pygments_lexer": "ipython3",
   "version": "3.6.5"
  }
 },
 "nbformat": 4,
 "nbformat_minor": 2
}
