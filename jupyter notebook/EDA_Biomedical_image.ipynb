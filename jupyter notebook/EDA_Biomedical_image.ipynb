{
 "cells": [
  {
   "cell_type": "markdown",
   "metadata": {
    "toc": true
   },
   "source": [
    "<h1>Table of Contents<span class=\"tocSkip\"></span></h1>\n",
    "<div class=\"toc\"><ul class=\"toc-item\"></ul></div>"
   ]
  },
  {
   "cell_type": "code",
   "execution_count": 1,
   "metadata": {},
   "outputs": [],
   "source": [
    "import os \n",
    "import cv2\n",
    "import imageio\n",
    "import scipy.ndimage as ndi\n",
    "import matplotlib.pyplot as plt\n",
    "import numpy as np\n",
    "import pandas as pd\n",
    "import ntpath\n",
    "import re\n",
    "import math\n",
    "import dicom2nifti"
   ]
  },
  {
   "cell_type": "markdown",
   "metadata": {},
   "source": [
    "## DICOM to NIFTI pre processing "
   ]
  },
  {
   "cell_type": "code",
   "execution_count": 2,
   "metadata": {},
   "outputs": [
    {
     "data": {
      "text/plain": [
       "[('\\\\\\\\nsq024vs\\\\u8\\\\aczd087\\\\MyDocs\\\\Data science masters\\\\Thesis\\\\Dataset\\\\CHAOS_Train_Sets\\\\MR\\\\1\\\\T1DUAL\\\\DICOM_anon\\\\InPhase',\n",
       "  '\\\\\\\\nsq024vs\\\\u8\\\\aczd087\\\\MyDocs\\\\Data science masters\\\\Thesis\\\\Dataset\\\\CHAOS_Train_Sets\\\\NIFTI MR\\\\1\\\\T1DUAL\\\\DICOM_anon\\\\InPhase'),\n",
       " ('\\\\\\\\nsq024vs\\\\u8\\\\aczd087\\\\MyDocs\\\\Data science masters\\\\Thesis\\\\Dataset\\\\CHAOS_Train_Sets\\\\MR\\\\1\\\\T1DUAL\\\\DICOM_anon\\\\OutPhase',\n",
       "  '\\\\\\\\nsq024vs\\\\u8\\\\aczd087\\\\MyDocs\\\\Data science masters\\\\Thesis\\\\Dataset\\\\CHAOS_Train_Sets\\\\NIFTI MR\\\\1\\\\T1DUAL\\\\DICOM_anon\\\\OutPhase'),\n",
       " ('\\\\\\\\nsq024vs\\\\u8\\\\aczd087\\\\MyDocs\\\\Data science masters\\\\Thesis\\\\Dataset\\\\CHAOS_Train_Sets\\\\MR\\\\1\\\\T2SPIR\\\\DICOM_anon',\n",
       "  '\\\\\\\\nsq024vs\\\\u8\\\\aczd087\\\\MyDocs\\\\Data science masters\\\\Thesis\\\\Dataset\\\\CHAOS_Train_Sets\\\\NIFTI MR\\\\1\\\\T2SPIR\\\\DICOM_anon'),\n",
       " ('\\\\\\\\nsq024vs\\\\u8\\\\aczd087\\\\MyDocs\\\\Data science masters\\\\Thesis\\\\Dataset\\\\CHAOS_Train_Sets\\\\MR\\\\10\\\\T1DUAL\\\\DICOM_anon\\\\InPhase',\n",
       "  '\\\\\\\\nsq024vs\\\\u8\\\\aczd087\\\\MyDocs\\\\Data science masters\\\\Thesis\\\\Dataset\\\\CHAOS_Train_Sets\\\\NIFTI MR\\\\10\\\\T1DUAL\\\\DICOM_anon\\\\InPhase'),\n",
       " ('\\\\\\\\nsq024vs\\\\u8\\\\aczd087\\\\MyDocs\\\\Data science masters\\\\Thesis\\\\Dataset\\\\CHAOS_Train_Sets\\\\MR\\\\10\\\\T1DUAL\\\\DICOM_anon\\\\OutPhase',\n",
       "  '\\\\\\\\nsq024vs\\\\u8\\\\aczd087\\\\MyDocs\\\\Data science masters\\\\Thesis\\\\Dataset\\\\CHAOS_Train_Sets\\\\NIFTI MR\\\\10\\\\T1DUAL\\\\DICOM_anon\\\\OutPhase'),\n",
       " ('\\\\\\\\nsq024vs\\\\u8\\\\aczd087\\\\MyDocs\\\\Data science masters\\\\Thesis\\\\Dataset\\\\CHAOS_Train_Sets\\\\MR\\\\10\\\\T2SPIR\\\\DICOM_anon',\n",
       "  '\\\\\\\\nsq024vs\\\\u8\\\\aczd087\\\\MyDocs\\\\Data science masters\\\\Thesis\\\\Dataset\\\\CHAOS_Train_Sets\\\\NIFTI MR\\\\10\\\\T2SPIR\\\\DICOM_anon'),\n",
       " ('\\\\\\\\nsq024vs\\\\u8\\\\aczd087\\\\MyDocs\\\\Data science masters\\\\Thesis\\\\Dataset\\\\CHAOS_Train_Sets\\\\MR\\\\13\\\\T1DUAL\\\\DICOM_anon\\\\InPhase',\n",
       "  '\\\\\\\\nsq024vs\\\\u8\\\\aczd087\\\\MyDocs\\\\Data science masters\\\\Thesis\\\\Dataset\\\\CHAOS_Train_Sets\\\\NIFTI MR\\\\13\\\\T1DUAL\\\\DICOM_anon\\\\InPhase'),\n",
       " ('\\\\\\\\nsq024vs\\\\u8\\\\aczd087\\\\MyDocs\\\\Data science masters\\\\Thesis\\\\Dataset\\\\CHAOS_Train_Sets\\\\MR\\\\13\\\\T1DUAL\\\\DICOM_anon\\\\OutPhase',\n",
       "  '\\\\\\\\nsq024vs\\\\u8\\\\aczd087\\\\MyDocs\\\\Data science masters\\\\Thesis\\\\Dataset\\\\CHAOS_Train_Sets\\\\NIFTI MR\\\\13\\\\T1DUAL\\\\DICOM_anon\\\\OutPhase'),\n",
       " ('\\\\\\\\nsq024vs\\\\u8\\\\aczd087\\\\MyDocs\\\\Data science masters\\\\Thesis\\\\Dataset\\\\CHAOS_Train_Sets\\\\MR\\\\13\\\\T2SPIR\\\\DICOM_anon',\n",
       "  '\\\\\\\\nsq024vs\\\\u8\\\\aczd087\\\\MyDocs\\\\Data science masters\\\\Thesis\\\\Dataset\\\\CHAOS_Train_Sets\\\\NIFTI MR\\\\13\\\\T2SPIR\\\\DICOM_anon'),\n",
       " ('\\\\\\\\nsq024vs\\\\u8\\\\aczd087\\\\MyDocs\\\\Data science masters\\\\Thesis\\\\Dataset\\\\CHAOS_Train_Sets\\\\MR\\\\15\\\\T1DUAL\\\\DICOM_anon\\\\InPhase',\n",
       "  '\\\\\\\\nsq024vs\\\\u8\\\\aczd087\\\\MyDocs\\\\Data science masters\\\\Thesis\\\\Dataset\\\\CHAOS_Train_Sets\\\\NIFTI MR\\\\15\\\\T1DUAL\\\\DICOM_anon\\\\InPhase'),\n",
       " ('\\\\\\\\nsq024vs\\\\u8\\\\aczd087\\\\MyDocs\\\\Data science masters\\\\Thesis\\\\Dataset\\\\CHAOS_Train_Sets\\\\MR\\\\15\\\\T1DUAL\\\\DICOM_anon\\\\OutPhase',\n",
       "  '\\\\\\\\nsq024vs\\\\u8\\\\aczd087\\\\MyDocs\\\\Data science masters\\\\Thesis\\\\Dataset\\\\CHAOS_Train_Sets\\\\NIFTI MR\\\\15\\\\T1DUAL\\\\DICOM_anon\\\\OutPhase'),\n",
       " ('\\\\\\\\nsq024vs\\\\u8\\\\aczd087\\\\MyDocs\\\\Data science masters\\\\Thesis\\\\Dataset\\\\CHAOS_Train_Sets\\\\MR\\\\15\\\\T2SPIR\\\\DICOM_anon',\n",
       "  '\\\\\\\\nsq024vs\\\\u8\\\\aczd087\\\\MyDocs\\\\Data science masters\\\\Thesis\\\\Dataset\\\\CHAOS_Train_Sets\\\\NIFTI MR\\\\15\\\\T2SPIR\\\\DICOM_anon'),\n",
       " ('\\\\\\\\nsq024vs\\\\u8\\\\aczd087\\\\MyDocs\\\\Data science masters\\\\Thesis\\\\Dataset\\\\CHAOS_Train_Sets\\\\MR\\\\19\\\\T1DUAL\\\\DICOM_anon\\\\InPhase',\n",
       "  '\\\\\\\\nsq024vs\\\\u8\\\\aczd087\\\\MyDocs\\\\Data science masters\\\\Thesis\\\\Dataset\\\\CHAOS_Train_Sets\\\\NIFTI MR\\\\19\\\\T1DUAL\\\\DICOM_anon\\\\InPhase'),\n",
       " ('\\\\\\\\nsq024vs\\\\u8\\\\aczd087\\\\MyDocs\\\\Data science masters\\\\Thesis\\\\Dataset\\\\CHAOS_Train_Sets\\\\MR\\\\19\\\\T1DUAL\\\\DICOM_anon\\\\OutPhase',\n",
       "  '\\\\\\\\nsq024vs\\\\u8\\\\aczd087\\\\MyDocs\\\\Data science masters\\\\Thesis\\\\Dataset\\\\CHAOS_Train_Sets\\\\NIFTI MR\\\\19\\\\T1DUAL\\\\DICOM_anon\\\\OutPhase'),\n",
       " ('\\\\\\\\nsq024vs\\\\u8\\\\aczd087\\\\MyDocs\\\\Data science masters\\\\Thesis\\\\Dataset\\\\CHAOS_Train_Sets\\\\MR\\\\19\\\\T2SPIR\\\\DICOM_anon',\n",
       "  '\\\\\\\\nsq024vs\\\\u8\\\\aczd087\\\\MyDocs\\\\Data science masters\\\\Thesis\\\\Dataset\\\\CHAOS_Train_Sets\\\\NIFTI MR\\\\19\\\\T2SPIR\\\\DICOM_anon'),\n",
       " ('\\\\\\\\nsq024vs\\\\u8\\\\aczd087\\\\MyDocs\\\\Data science masters\\\\Thesis\\\\Dataset\\\\CHAOS_Train_Sets\\\\MR\\\\2\\\\T1DUAL\\\\DICOM_anon\\\\InPhase',\n",
       "  '\\\\\\\\nsq024vs\\\\u8\\\\aczd087\\\\MyDocs\\\\Data science masters\\\\Thesis\\\\Dataset\\\\CHAOS_Train_Sets\\\\NIFTI MR\\\\2\\\\T1DUAL\\\\DICOM_anon\\\\InPhase'),\n",
       " ('\\\\\\\\nsq024vs\\\\u8\\\\aczd087\\\\MyDocs\\\\Data science masters\\\\Thesis\\\\Dataset\\\\CHAOS_Train_Sets\\\\MR\\\\2\\\\T1DUAL\\\\DICOM_anon\\\\OutPhase',\n",
       "  '\\\\\\\\nsq024vs\\\\u8\\\\aczd087\\\\MyDocs\\\\Data science masters\\\\Thesis\\\\Dataset\\\\CHAOS_Train_Sets\\\\NIFTI MR\\\\2\\\\T1DUAL\\\\DICOM_anon\\\\OutPhase'),\n",
       " ('\\\\\\\\nsq024vs\\\\u8\\\\aczd087\\\\MyDocs\\\\Data science masters\\\\Thesis\\\\Dataset\\\\CHAOS_Train_Sets\\\\MR\\\\2\\\\T2SPIR\\\\DICOM_anon',\n",
       "  '\\\\\\\\nsq024vs\\\\u8\\\\aczd087\\\\MyDocs\\\\Data science masters\\\\Thesis\\\\Dataset\\\\CHAOS_Train_Sets\\\\NIFTI MR\\\\2\\\\T2SPIR\\\\DICOM_anon'),\n",
       " ('\\\\\\\\nsq024vs\\\\u8\\\\aczd087\\\\MyDocs\\\\Data science masters\\\\Thesis\\\\Dataset\\\\CHAOS_Train_Sets\\\\MR\\\\20\\\\T1DUAL\\\\DICOM_anon\\\\InPhase',\n",
       "  '\\\\\\\\nsq024vs\\\\u8\\\\aczd087\\\\MyDocs\\\\Data science masters\\\\Thesis\\\\Dataset\\\\CHAOS_Train_Sets\\\\NIFTI MR\\\\20\\\\T1DUAL\\\\DICOM_anon\\\\InPhase'),\n",
       " ('\\\\\\\\nsq024vs\\\\u8\\\\aczd087\\\\MyDocs\\\\Data science masters\\\\Thesis\\\\Dataset\\\\CHAOS_Train_Sets\\\\MR\\\\20\\\\T1DUAL\\\\DICOM_anon\\\\OutPhase',\n",
       "  '\\\\\\\\nsq024vs\\\\u8\\\\aczd087\\\\MyDocs\\\\Data science masters\\\\Thesis\\\\Dataset\\\\CHAOS_Train_Sets\\\\NIFTI MR\\\\20\\\\T1DUAL\\\\DICOM_anon\\\\OutPhase'),\n",
       " ('\\\\\\\\nsq024vs\\\\u8\\\\aczd087\\\\MyDocs\\\\Data science masters\\\\Thesis\\\\Dataset\\\\CHAOS_Train_Sets\\\\MR\\\\20\\\\T2SPIR\\\\DICOM_anon',\n",
       "  '\\\\\\\\nsq024vs\\\\u8\\\\aczd087\\\\MyDocs\\\\Data science masters\\\\Thesis\\\\Dataset\\\\CHAOS_Train_Sets\\\\NIFTI MR\\\\20\\\\T2SPIR\\\\DICOM_anon'),\n",
       " ('\\\\\\\\nsq024vs\\\\u8\\\\aczd087\\\\MyDocs\\\\Data science masters\\\\Thesis\\\\Dataset\\\\CHAOS_Train_Sets\\\\MR\\\\21\\\\T1DUAL\\\\DICOM_anon\\\\InPhase',\n",
       "  '\\\\\\\\nsq024vs\\\\u8\\\\aczd087\\\\MyDocs\\\\Data science masters\\\\Thesis\\\\Dataset\\\\CHAOS_Train_Sets\\\\NIFTI MR\\\\21\\\\T1DUAL\\\\DICOM_anon\\\\InPhase'),\n",
       " ('\\\\\\\\nsq024vs\\\\u8\\\\aczd087\\\\MyDocs\\\\Data science masters\\\\Thesis\\\\Dataset\\\\CHAOS_Train_Sets\\\\MR\\\\21\\\\T1DUAL\\\\DICOM_anon\\\\OutPhase',\n",
       "  '\\\\\\\\nsq024vs\\\\u8\\\\aczd087\\\\MyDocs\\\\Data science masters\\\\Thesis\\\\Dataset\\\\CHAOS_Train_Sets\\\\NIFTI MR\\\\21\\\\T1DUAL\\\\DICOM_anon\\\\OutPhase'),\n",
       " ('\\\\\\\\nsq024vs\\\\u8\\\\aczd087\\\\MyDocs\\\\Data science masters\\\\Thesis\\\\Dataset\\\\CHAOS_Train_Sets\\\\MR\\\\21\\\\T2SPIR\\\\DICOM_anon',\n",
       "  '\\\\\\\\nsq024vs\\\\u8\\\\aczd087\\\\MyDocs\\\\Data science masters\\\\Thesis\\\\Dataset\\\\CHAOS_Train_Sets\\\\NIFTI MR\\\\21\\\\T2SPIR\\\\DICOM_anon'),\n",
       " ('\\\\\\\\nsq024vs\\\\u8\\\\aczd087\\\\MyDocs\\\\Data science masters\\\\Thesis\\\\Dataset\\\\CHAOS_Train_Sets\\\\MR\\\\22\\\\T1DUAL\\\\DICOM_anon\\\\InPhase',\n",
       "  '\\\\\\\\nsq024vs\\\\u8\\\\aczd087\\\\MyDocs\\\\Data science masters\\\\Thesis\\\\Dataset\\\\CHAOS_Train_Sets\\\\NIFTI MR\\\\22\\\\T1DUAL\\\\DICOM_anon\\\\InPhase'),\n",
       " ('\\\\\\\\nsq024vs\\\\u8\\\\aczd087\\\\MyDocs\\\\Data science masters\\\\Thesis\\\\Dataset\\\\CHAOS_Train_Sets\\\\MR\\\\22\\\\T1DUAL\\\\DICOM_anon\\\\OutPhase',\n",
       "  '\\\\\\\\nsq024vs\\\\u8\\\\aczd087\\\\MyDocs\\\\Data science masters\\\\Thesis\\\\Dataset\\\\CHAOS_Train_Sets\\\\NIFTI MR\\\\22\\\\T1DUAL\\\\DICOM_anon\\\\OutPhase'),\n",
       " ('\\\\\\\\nsq024vs\\\\u8\\\\aczd087\\\\MyDocs\\\\Data science masters\\\\Thesis\\\\Dataset\\\\CHAOS_Train_Sets\\\\MR\\\\22\\\\T2SPIR\\\\DICOM_anon',\n",
       "  '\\\\\\\\nsq024vs\\\\u8\\\\aczd087\\\\MyDocs\\\\Data science masters\\\\Thesis\\\\Dataset\\\\CHAOS_Train_Sets\\\\NIFTI MR\\\\22\\\\T2SPIR\\\\DICOM_anon'),\n",
       " ('\\\\\\\\nsq024vs\\\\u8\\\\aczd087\\\\MyDocs\\\\Data science masters\\\\Thesis\\\\Dataset\\\\CHAOS_Train_Sets\\\\MR\\\\3\\\\T1DUAL\\\\DICOM_anon\\\\InPhase',\n",
       "  '\\\\\\\\nsq024vs\\\\u8\\\\aczd087\\\\MyDocs\\\\Data science masters\\\\Thesis\\\\Dataset\\\\CHAOS_Train_Sets\\\\NIFTI MR\\\\3\\\\T1DUAL\\\\DICOM_anon\\\\InPhase'),\n",
       " ('\\\\\\\\nsq024vs\\\\u8\\\\aczd087\\\\MyDocs\\\\Data science masters\\\\Thesis\\\\Dataset\\\\CHAOS_Train_Sets\\\\MR\\\\3\\\\T1DUAL\\\\DICOM_anon\\\\OutPhase',\n",
       "  '\\\\\\\\nsq024vs\\\\u8\\\\aczd087\\\\MyDocs\\\\Data science masters\\\\Thesis\\\\Dataset\\\\CHAOS_Train_Sets\\\\NIFTI MR\\\\3\\\\T1DUAL\\\\DICOM_anon\\\\OutPhase'),\n",
       " ('\\\\\\\\nsq024vs\\\\u8\\\\aczd087\\\\MyDocs\\\\Data science masters\\\\Thesis\\\\Dataset\\\\CHAOS_Train_Sets\\\\MR\\\\3\\\\T2SPIR\\\\DICOM_anon',\n",
       "  '\\\\\\\\nsq024vs\\\\u8\\\\aczd087\\\\MyDocs\\\\Data science masters\\\\Thesis\\\\Dataset\\\\CHAOS_Train_Sets\\\\NIFTI MR\\\\3\\\\T2SPIR\\\\DICOM_anon'),\n",
       " ('\\\\\\\\nsq024vs\\\\u8\\\\aczd087\\\\MyDocs\\\\Data science masters\\\\Thesis\\\\Dataset\\\\CHAOS_Train_Sets\\\\MR\\\\31\\\\T1DUAL\\\\DICOM_anon\\\\InPhase',\n",
       "  '\\\\\\\\nsq024vs\\\\u8\\\\aczd087\\\\MyDocs\\\\Data science masters\\\\Thesis\\\\Dataset\\\\CHAOS_Train_Sets\\\\NIFTI MR\\\\31\\\\T1DUAL\\\\DICOM_anon\\\\InPhase'),\n",
       " ('\\\\\\\\nsq024vs\\\\u8\\\\aczd087\\\\MyDocs\\\\Data science masters\\\\Thesis\\\\Dataset\\\\CHAOS_Train_Sets\\\\MR\\\\31\\\\T1DUAL\\\\DICOM_anon\\\\OutPhase',\n",
       "  '\\\\\\\\nsq024vs\\\\u8\\\\aczd087\\\\MyDocs\\\\Data science masters\\\\Thesis\\\\Dataset\\\\CHAOS_Train_Sets\\\\NIFTI MR\\\\31\\\\T1DUAL\\\\DICOM_anon\\\\OutPhase'),\n",
       " ('\\\\\\\\nsq024vs\\\\u8\\\\aczd087\\\\MyDocs\\\\Data science masters\\\\Thesis\\\\Dataset\\\\CHAOS_Train_Sets\\\\MR\\\\31\\\\T2SPIR\\\\DICOM_anon',\n",
       "  '\\\\\\\\nsq024vs\\\\u8\\\\aczd087\\\\MyDocs\\\\Data science masters\\\\Thesis\\\\Dataset\\\\CHAOS_Train_Sets\\\\NIFTI MR\\\\31\\\\T2SPIR\\\\DICOM_anon'),\n",
       " ('\\\\\\\\nsq024vs\\\\u8\\\\aczd087\\\\MyDocs\\\\Data science masters\\\\Thesis\\\\Dataset\\\\CHAOS_Train_Sets\\\\MR\\\\32\\\\T1DUAL\\\\DICOM_anon\\\\InPhase',\n",
       "  '\\\\\\\\nsq024vs\\\\u8\\\\aczd087\\\\MyDocs\\\\Data science masters\\\\Thesis\\\\Dataset\\\\CHAOS_Train_Sets\\\\NIFTI MR\\\\32\\\\T1DUAL\\\\DICOM_anon\\\\InPhase'),\n",
       " ('\\\\\\\\nsq024vs\\\\u8\\\\aczd087\\\\MyDocs\\\\Data science masters\\\\Thesis\\\\Dataset\\\\CHAOS_Train_Sets\\\\MR\\\\32\\\\T1DUAL\\\\DICOM_anon\\\\OutPhase',\n",
       "  '\\\\\\\\nsq024vs\\\\u8\\\\aczd087\\\\MyDocs\\\\Data science masters\\\\Thesis\\\\Dataset\\\\CHAOS_Train_Sets\\\\NIFTI MR\\\\32\\\\T1DUAL\\\\DICOM_anon\\\\OutPhase'),\n",
       " ('\\\\\\\\nsq024vs\\\\u8\\\\aczd087\\\\MyDocs\\\\Data science masters\\\\Thesis\\\\Dataset\\\\CHAOS_Train_Sets\\\\MR\\\\32\\\\T2SPIR\\\\DICOM_anon',\n",
       "  '\\\\\\\\nsq024vs\\\\u8\\\\aczd087\\\\MyDocs\\\\Data science masters\\\\Thesis\\\\Dataset\\\\CHAOS_Train_Sets\\\\NIFTI MR\\\\32\\\\T2SPIR\\\\DICOM_anon'),\n",
       " ('\\\\\\\\nsq024vs\\\\u8\\\\aczd087\\\\MyDocs\\\\Data science masters\\\\Thesis\\\\Dataset\\\\CHAOS_Train_Sets\\\\MR\\\\33\\\\T1DUAL\\\\DICOM_anon\\\\InPhase',\n",
       "  '\\\\\\\\nsq024vs\\\\u8\\\\aczd087\\\\MyDocs\\\\Data science masters\\\\Thesis\\\\Dataset\\\\CHAOS_Train_Sets\\\\NIFTI MR\\\\33\\\\T1DUAL\\\\DICOM_anon\\\\InPhase'),\n",
       " ('\\\\\\\\nsq024vs\\\\u8\\\\aczd087\\\\MyDocs\\\\Data science masters\\\\Thesis\\\\Dataset\\\\CHAOS_Train_Sets\\\\MR\\\\33\\\\T1DUAL\\\\DICOM_anon\\\\OutPhase',\n",
       "  '\\\\\\\\nsq024vs\\\\u8\\\\aczd087\\\\MyDocs\\\\Data science masters\\\\Thesis\\\\Dataset\\\\CHAOS_Train_Sets\\\\NIFTI MR\\\\33\\\\T1DUAL\\\\DICOM_anon\\\\OutPhase'),\n",
       " ('\\\\\\\\nsq024vs\\\\u8\\\\aczd087\\\\MyDocs\\\\Data science masters\\\\Thesis\\\\Dataset\\\\CHAOS_Train_Sets\\\\MR\\\\33\\\\T2SPIR\\\\DICOM_anon',\n",
       "  '\\\\\\\\nsq024vs\\\\u8\\\\aczd087\\\\MyDocs\\\\Data science masters\\\\Thesis\\\\Dataset\\\\CHAOS_Train_Sets\\\\NIFTI MR\\\\33\\\\T2SPIR\\\\DICOM_anon'),\n",
       " ('\\\\\\\\nsq024vs\\\\u8\\\\aczd087\\\\MyDocs\\\\Data science masters\\\\Thesis\\\\Dataset\\\\CHAOS_Train_Sets\\\\MR\\\\34\\\\T1DUAL\\\\DICOM_anon\\\\InPhase',\n",
       "  '\\\\\\\\nsq024vs\\\\u8\\\\aczd087\\\\MyDocs\\\\Data science masters\\\\Thesis\\\\Dataset\\\\CHAOS_Train_Sets\\\\NIFTI MR\\\\34\\\\T1DUAL\\\\DICOM_anon\\\\InPhase'),\n",
       " ('\\\\\\\\nsq024vs\\\\u8\\\\aczd087\\\\MyDocs\\\\Data science masters\\\\Thesis\\\\Dataset\\\\CHAOS_Train_Sets\\\\MR\\\\34\\\\T1DUAL\\\\DICOM_anon\\\\OutPhase',\n",
       "  '\\\\\\\\nsq024vs\\\\u8\\\\aczd087\\\\MyDocs\\\\Data science masters\\\\Thesis\\\\Dataset\\\\CHAOS_Train_Sets\\\\NIFTI MR\\\\34\\\\T1DUAL\\\\DICOM_anon\\\\OutPhase'),\n",
       " ('\\\\\\\\nsq024vs\\\\u8\\\\aczd087\\\\MyDocs\\\\Data science masters\\\\Thesis\\\\Dataset\\\\CHAOS_Train_Sets\\\\MR\\\\34\\\\T2SPIR\\\\DICOM_anon',\n",
       "  '\\\\\\\\nsq024vs\\\\u8\\\\aczd087\\\\MyDocs\\\\Data science masters\\\\Thesis\\\\Dataset\\\\CHAOS_Train_Sets\\\\NIFTI MR\\\\34\\\\T2SPIR\\\\DICOM_anon'),\n",
       " ('\\\\\\\\nsq024vs\\\\u8\\\\aczd087\\\\MyDocs\\\\Data science masters\\\\Thesis\\\\Dataset\\\\CHAOS_Train_Sets\\\\MR\\\\36\\\\T1DUAL\\\\DICOM_anon\\\\InPhase',\n",
       "  '\\\\\\\\nsq024vs\\\\u8\\\\aczd087\\\\MyDocs\\\\Data science masters\\\\Thesis\\\\Dataset\\\\CHAOS_Train_Sets\\\\NIFTI MR\\\\36\\\\T1DUAL\\\\DICOM_anon\\\\InPhase'),\n",
       " ('\\\\\\\\nsq024vs\\\\u8\\\\aczd087\\\\MyDocs\\\\Data science masters\\\\Thesis\\\\Dataset\\\\CHAOS_Train_Sets\\\\MR\\\\36\\\\T1DUAL\\\\DICOM_anon\\\\OutPhase',\n",
       "  '\\\\\\\\nsq024vs\\\\u8\\\\aczd087\\\\MyDocs\\\\Data science masters\\\\Thesis\\\\Dataset\\\\CHAOS_Train_Sets\\\\NIFTI MR\\\\36\\\\T1DUAL\\\\DICOM_anon\\\\OutPhase'),\n",
       " ('\\\\\\\\nsq024vs\\\\u8\\\\aczd087\\\\MyDocs\\\\Data science masters\\\\Thesis\\\\Dataset\\\\CHAOS_Train_Sets\\\\MR\\\\36\\\\T2SPIR\\\\DICOM_anon',\n",
       "  '\\\\\\\\nsq024vs\\\\u8\\\\aczd087\\\\MyDocs\\\\Data science masters\\\\Thesis\\\\Dataset\\\\CHAOS_Train_Sets\\\\NIFTI MR\\\\36\\\\T2SPIR\\\\DICOM_anon'),\n",
       " ('\\\\\\\\nsq024vs\\\\u8\\\\aczd087\\\\MyDocs\\\\Data science masters\\\\Thesis\\\\Dataset\\\\CHAOS_Train_Sets\\\\MR\\\\37\\\\T1DUAL\\\\DICOM_anon\\\\InPhase',\n",
       "  '\\\\\\\\nsq024vs\\\\u8\\\\aczd087\\\\MyDocs\\\\Data science masters\\\\Thesis\\\\Dataset\\\\CHAOS_Train_Sets\\\\NIFTI MR\\\\37\\\\T1DUAL\\\\DICOM_anon\\\\InPhase'),\n",
       " ('\\\\\\\\nsq024vs\\\\u8\\\\aczd087\\\\MyDocs\\\\Data science masters\\\\Thesis\\\\Dataset\\\\CHAOS_Train_Sets\\\\MR\\\\37\\\\T1DUAL\\\\DICOM_anon\\\\OutPhase',\n",
       "  '\\\\\\\\nsq024vs\\\\u8\\\\aczd087\\\\MyDocs\\\\Data science masters\\\\Thesis\\\\Dataset\\\\CHAOS_Train_Sets\\\\NIFTI MR\\\\37\\\\T1DUAL\\\\DICOM_anon\\\\OutPhase'),\n",
       " ('\\\\\\\\nsq024vs\\\\u8\\\\aczd087\\\\MyDocs\\\\Data science masters\\\\Thesis\\\\Dataset\\\\CHAOS_Train_Sets\\\\MR\\\\37\\\\T2SPIR\\\\DICOM_anon',\n",
       "  '\\\\\\\\nsq024vs\\\\u8\\\\aczd087\\\\MyDocs\\\\Data science masters\\\\Thesis\\\\Dataset\\\\CHAOS_Train_Sets\\\\NIFTI MR\\\\37\\\\T2SPIR\\\\DICOM_anon'),\n",
       " ('\\\\\\\\nsq024vs\\\\u8\\\\aczd087\\\\MyDocs\\\\Data science masters\\\\Thesis\\\\Dataset\\\\CHAOS_Train_Sets\\\\MR\\\\38\\\\T1DUAL\\\\DICOM_anon\\\\InPhase',\n",
       "  '\\\\\\\\nsq024vs\\\\u8\\\\aczd087\\\\MyDocs\\\\Data science masters\\\\Thesis\\\\Dataset\\\\CHAOS_Train_Sets\\\\NIFTI MR\\\\38\\\\T1DUAL\\\\DICOM_anon\\\\InPhase'),\n",
       " ('\\\\\\\\nsq024vs\\\\u8\\\\aczd087\\\\MyDocs\\\\Data science masters\\\\Thesis\\\\Dataset\\\\CHAOS_Train_Sets\\\\MR\\\\38\\\\T1DUAL\\\\DICOM_anon\\\\OutPhase',\n",
       "  '\\\\\\\\nsq024vs\\\\u8\\\\aczd087\\\\MyDocs\\\\Data science masters\\\\Thesis\\\\Dataset\\\\CHAOS_Train_Sets\\\\NIFTI MR\\\\38\\\\T1DUAL\\\\DICOM_anon\\\\OutPhase'),\n",
       " ('\\\\\\\\nsq024vs\\\\u8\\\\aczd087\\\\MyDocs\\\\Data science masters\\\\Thesis\\\\Dataset\\\\CHAOS_Train_Sets\\\\MR\\\\38\\\\T2SPIR\\\\DICOM_anon',\n",
       "  '\\\\\\\\nsq024vs\\\\u8\\\\aczd087\\\\MyDocs\\\\Data science masters\\\\Thesis\\\\Dataset\\\\CHAOS_Train_Sets\\\\NIFTI MR\\\\38\\\\T2SPIR\\\\DICOM_anon'),\n",
       " ('\\\\\\\\nsq024vs\\\\u8\\\\aczd087\\\\MyDocs\\\\Data science masters\\\\Thesis\\\\Dataset\\\\CHAOS_Train_Sets\\\\MR\\\\39\\\\T1DUAL\\\\DICOM_anon\\\\InPhase',\n",
       "  '\\\\\\\\nsq024vs\\\\u8\\\\aczd087\\\\MyDocs\\\\Data science masters\\\\Thesis\\\\Dataset\\\\CHAOS_Train_Sets\\\\NIFTI MR\\\\39\\\\T1DUAL\\\\DICOM_anon\\\\InPhase'),\n",
       " ('\\\\\\\\nsq024vs\\\\u8\\\\aczd087\\\\MyDocs\\\\Data science masters\\\\Thesis\\\\Dataset\\\\CHAOS_Train_Sets\\\\MR\\\\39\\\\T1DUAL\\\\DICOM_anon\\\\OutPhase',\n",
       "  '\\\\\\\\nsq024vs\\\\u8\\\\aczd087\\\\MyDocs\\\\Data science masters\\\\Thesis\\\\Dataset\\\\CHAOS_Train_Sets\\\\NIFTI MR\\\\39\\\\T1DUAL\\\\DICOM_anon\\\\OutPhase'),\n",
       " ('\\\\\\\\nsq024vs\\\\u8\\\\aczd087\\\\MyDocs\\\\Data science masters\\\\Thesis\\\\Dataset\\\\CHAOS_Train_Sets\\\\MR\\\\39\\\\T2SPIR\\\\DICOM_anon',\n",
       "  '\\\\\\\\nsq024vs\\\\u8\\\\aczd087\\\\MyDocs\\\\Data science masters\\\\Thesis\\\\Dataset\\\\CHAOS_Train_Sets\\\\NIFTI MR\\\\39\\\\T2SPIR\\\\DICOM_anon'),\n",
       " ('\\\\\\\\nsq024vs\\\\u8\\\\aczd087\\\\MyDocs\\\\Data science masters\\\\Thesis\\\\Dataset\\\\CHAOS_Train_Sets\\\\MR\\\\5\\\\T1DUAL\\\\DICOM_anon\\\\InPhase',\n",
       "  '\\\\\\\\nsq024vs\\\\u8\\\\aczd087\\\\MyDocs\\\\Data science masters\\\\Thesis\\\\Dataset\\\\CHAOS_Train_Sets\\\\NIFTI MR\\\\5\\\\T1DUAL\\\\DICOM_anon\\\\InPhase'),\n",
       " ('\\\\\\\\nsq024vs\\\\u8\\\\aczd087\\\\MyDocs\\\\Data science masters\\\\Thesis\\\\Dataset\\\\CHAOS_Train_Sets\\\\MR\\\\5\\\\T1DUAL\\\\DICOM_anon\\\\OutPhase',\n",
       "  '\\\\\\\\nsq024vs\\\\u8\\\\aczd087\\\\MyDocs\\\\Data science masters\\\\Thesis\\\\Dataset\\\\CHAOS_Train_Sets\\\\NIFTI MR\\\\5\\\\T1DUAL\\\\DICOM_anon\\\\OutPhase'),\n",
       " ('\\\\\\\\nsq024vs\\\\u8\\\\aczd087\\\\MyDocs\\\\Data science masters\\\\Thesis\\\\Dataset\\\\CHAOS_Train_Sets\\\\MR\\\\5\\\\T2SPIR\\\\DICOM_anon',\n",
       "  '\\\\\\\\nsq024vs\\\\u8\\\\aczd087\\\\MyDocs\\\\Data science masters\\\\Thesis\\\\Dataset\\\\CHAOS_Train_Sets\\\\NIFTI MR\\\\5\\\\T2SPIR\\\\DICOM_anon'),\n",
       " ('\\\\\\\\nsq024vs\\\\u8\\\\aczd087\\\\MyDocs\\\\Data science masters\\\\Thesis\\\\Dataset\\\\CHAOS_Train_Sets\\\\MR\\\\8\\\\T1DUAL\\\\DICOM_anon\\\\InPhase',\n",
       "  '\\\\\\\\nsq024vs\\\\u8\\\\aczd087\\\\MyDocs\\\\Data science masters\\\\Thesis\\\\Dataset\\\\CHAOS_Train_Sets\\\\NIFTI MR\\\\8\\\\T1DUAL\\\\DICOM_anon\\\\InPhase'),\n",
       " ('\\\\\\\\nsq024vs\\\\u8\\\\aczd087\\\\MyDocs\\\\Data science masters\\\\Thesis\\\\Dataset\\\\CHAOS_Train_Sets\\\\MR\\\\8\\\\T1DUAL\\\\DICOM_anon\\\\OutPhase',\n",
       "  '\\\\\\\\nsq024vs\\\\u8\\\\aczd087\\\\MyDocs\\\\Data science masters\\\\Thesis\\\\Dataset\\\\CHAOS_Train_Sets\\\\NIFTI MR\\\\8\\\\T1DUAL\\\\DICOM_anon\\\\OutPhase'),\n",
       " ('\\\\\\\\nsq024vs\\\\u8\\\\aczd087\\\\MyDocs\\\\Data science masters\\\\Thesis\\\\Dataset\\\\CHAOS_Train_Sets\\\\MR\\\\8\\\\T2SPIR\\\\DICOM_anon',\n",
       "  '\\\\\\\\nsq024vs\\\\u8\\\\aczd087\\\\MyDocs\\\\Data science masters\\\\Thesis\\\\Dataset\\\\CHAOS_Train_Sets\\\\NIFTI MR\\\\8\\\\T2SPIR\\\\DICOM_anon')]"
      ]
     },
     "execution_count": 2,
     "metadata": {},
     "output_type": "execute_result"
    }
   ],
   "source": [
    "os.chdir(r'\\\\nsq024vs\\u8\\aczd087\\MyDocs\\Data science masters\\Thesis\\Dataset\\CHAOS_Train_Sets\\MR')\n",
    "#Iterating through the directory and finding only the MRI images for analysis \n",
    "input_dir_list = list()\n",
    "output_dir_list=list()\n",
    "output_dir=r'\\\\nsq024vs\\u8\\aczd087\\MyDocs\\Data science masters\\Thesis\\Dataset\\CHAOS_Train_Sets\\NIFTI MR'\n",
    "name_list=['MR','DICOM_anon']\n",
    "\n",
    "for root,dirs,files in os.walk(os.getcwd()):\n",
    "    \n",
    "    if not dirs and all(x in root for x in name_list):\n",
    "        input_dir_list.append(root)\n",
    "\n",
    "for root,dirs,files in os.walk(output_dir):\n",
    "    \n",
    "    if not dirs and all(x in root for x in name_list):\n",
    "        output_dir_list.append(root)\n",
    "        \n",
    "final_output=list(zip(input_dir_list, output_dir_list))\n",
    "final_output"
   ]
  },
  {
   "cell_type": "code",
   "execution_count": 40,
   "metadata": {},
   "outputs": [
    {
     "data": {
      "text/plain": [
       "'\\\\\\\\nsq024vs\\\\u8\\\\aczd087\\\\MyDocs\\\\Data science masters\\\\Thesis\\\\Dataset\\\\CHAOS_Train_Sets\\\\MR\\\\1\\\\T1DUAL\\\\DICOM_anon\\\\InPhase'"
      ]
     },
     "execution_count": 40,
     "metadata": {},
     "output_type": "execute_result"
    }
   ],
   "source": [
    "with open('input_output_dir')"
   ]
  },
  {
   "cell_type": "code",
   "execution_count": null,
   "metadata": {},
   "outputs": [],
   "source": [
    "final_oupu"
   ]
  },
  {
   "cell_type": "code",
   "execution_count": 3,
   "metadata": {},
   "outputs": [],
   "source": [
    "#Iterating through list of directorys above and writing to \n",
    "\n",
    "for folders in final_output:\n",
    "    dicom2nifti.convert_directory(folders[0], folders[1], compression=True,reorient=False)"
   ]
  },
  {
   "cell_type": "code",
   "execution_count": 2,
   "metadata": {},
   "outputs": [],
   "source": [
    "#Function which will return file name at end of string of file /directory. \n",
    "def path_leaf(path):\n",
    "    head, tail = ntpath.split(path)\n",
    "    return tail or ntpath.basename(head)"
   ]
  },
  {
   "cell_type": "code",
   "execution_count": 3,
   "metadata": {},
   "outputs": [],
   "source": [
    "class data_generator():\n",
    "    \"\"\"The purpose of this class is to create a set of numpy arrays \n",
    "    for a given image directory for analysis to be performed on them below with the subsequent classes\"\"\"\n",
    "    def __init__(self,image_dir,mask_dir):\n",
    "        self.image_dir=image_dir\n",
    "        self.mask_dir=mask_dir\n",
    "        self.list_organs=list_organs\n",
    "        "
   ]
  },
  {
   "cell_type": "code",
   "execution_count": 4,
   "metadata": {},
   "outputs": [],
   "source": [
    "class image_organ_intensity_analysis():\n",
    "    \"\"\"The purpose of this analysis is to inspect the intensity variation of each organ classified by the mask\"\"\"\n",
    "    \n",
    "    def __init__(self,ground_image,MRI_images,MRI_type):\n",
    "        \"\"\"Note image pics fed in as numpy arrays\"\"\"\n",
    "        self.ground=ground_image\n",
    "        self.MRI_images=MRI_images\n",
    "        self.MRI_type=MRI_type\n",
    "        \n",
    "    def resize_image():\n",
    "        \n",
    "        pass\n",
    "    \n",
    "        return stat_summary\n",
    "    \n",
    "    def det_n_unique_val(self):\n",
    "        \"\"\"The purpose of this function is to return iterable df for number of unique slices per image category\"\"\"\n",
    "        return pd.DataFrame(self.image_database.groupby('Person_id')['Slice_id'].nunique(),\n",
    "                  columns=['Slice_id'])\n",
    "    \n",
    "    def gen_stat_df(self):\n",
    "        \n",
    "        No_slices_per_person=self.det_n_unique_val()\n",
    "        #Iterating through each\n",
    "        for vals in trl2.index:\n",
    "            print(vals)\n",
    "            No_slices=int(trl2.loc[vals])\n",
    "            \n",
    "            for j in range(1,No_slices+1):\n",
    "                self.image_database.loc[self.image_database['Person_id']==vals,\n",
    "                                        self.image_database['Slice_id']==j]\n",
    "        \n",
    "        \n",
    "        \n",
    "        self.det_num_organs(self)\n",
    "        \n",
    "        \n",
    "        "
   ]
  },
  {
   "cell_type": "code",
   "execution_count": 5,
   "metadata": {},
   "outputs": [],
   "source": [
    "from pathlib import Path\n",
    "\n",
    "directory=r'\\\\nsq024vs\\u8\\aczd087\\MyDocs\\Data science masters\\Thesis\\Dataset\\CHAOS_Train_Sets\\Train_Sets\\MR'\n",
    "#\n",
    "#r'C:\\Users\\niall\\OneDrive\\Documents\\Data science masters\\Thesis\\Biomedical images\\CHAOS_Train_Sets\\Train_Sets\\MR'\n",
    "rootdir = Path(directory)\n",
    "# Return a list of regular files only, not directories\n",
    "file_list = [f for f in rootdir.glob('**/*') if f.is_file()]"
   ]
  },
  {
   "cell_type": "code",
   "execution_count": 6,
   "metadata": {},
   "outputs": [
    {
     "data": {
      "text/plain": [
       "array(['T1DUAL', 'T2SPIR'], dtype=object)"
      ]
     },
     "execution_count": 6,
     "metadata": {},
     "output_type": "execute_result"
    }
   ],
   "source": [
    "\n",
    "Img_categories={'MR_modes':['T1DUAL','T2SPIR'],\n",
    "                'Image_type':['Ground','InPhase','OutPhase']}\n",
    "start_id='\\\\MR\\\\'\n",
    "\n",
    "class return_gnrl_info():\n",
    "    \"\"\"The purpose of this class is to take in file directory list and \n",
    "    iterate through and create a parsable dataframe for image analysis\"\"\"\n",
    "    def __init__(self,Img_categories,start_id,file_list):\n",
    "        \n",
    "        self.start_id=start_id\n",
    "        self.Img_categories=Img_categories\n",
    "        self.file_list=file_list\n",
    "        \n",
    "    def Create_file_dictionary(self,tmp):\n",
    "        \n",
    "        #iterating through file system for different image file types and importing them for meta analysis\n",
    "        tmp_image_file=imageio.imread(tmp)\n",
    "        tmp_dict=tmp_image_file.meta\n",
    "        tmp_dict['Image_type']=None\n",
    "        for key_items,values in self.Img_categories.items():\n",
    "        #Iterating through values \n",
    "            for val in values:\n",
    "                #Iterating through string file name and assigning name categories to it. \n",
    "                if val in tmp:\n",
    "                    tmp_dict[key_items]=val\n",
    "                    \n",
    "        #Endid of DICOM or jpeg files based on review of file strings.             \n",
    "        end_id=\"\\\\\"+tmp_dict['MR_modes']\n",
    "        #Acquiring person id from file string based on end time points.\n",
    "        person_id=tmp[tmp.find(start_id)+len(start_id):tmp.rfind(end_id)]\n",
    "        tmp_dict['Person_id']=person_id\n",
    "        tmp_dict['File_location']=tmp\n",
    "        tmp_dict['File_name']=path_leaf(tmp)\n",
    "        \n",
    "        tmp_dict['Slice_id']=self.__get_slice_no(tmp_dict['MR_modes'],\n",
    "                                                    tmp_dict['Image_type'],\n",
    "                                                    tmp_dict['File_name'])\n",
    "        \n",
    "        return tmp_dict\n",
    "    \n",
    "    def __get_slice_no(self,image_mode,image_type,file_name):\n",
    "        \"\"\"Purpose of this method to return slice number based on file outlay\"\"\"\n",
    "        Slice_No=self.__reg_ex_filename(file_name)\n",
    "        \n",
    "        #T2 spiral no registration\n",
    "        if image_mode=='T2SPIR':\n",
    "                Slice_No=Slice_No\n",
    "        #T1Dual slice no registration\n",
    "        elif image_mode=='T1DUAL':\n",
    "            if  image_type=='InPhase' or image_type=='Ground':\n",
    "                Slice_No=Slice_No/2\n",
    "            #Roundup function used to get odd number frequency count rather than using a counter approach. \n",
    "            elif image_type=='OutPhase':\n",
    "                Slice_No=int(math.ceil((Slice_No/2)))\n",
    "            else:\n",
    "                print('T1Dual missing input')\n",
    "        else:\n",
    "            print('T2Spir missing input')\n",
    "        return Slice_No    \n",
    "    \n",
    "    def __reg_ex_filename(self,filename):\n",
    "        \"\"\"Purpose of this file is to remove file name from filename\"\"\"\n",
    "        #Regex splits file into separate number strings based on - and . delimiters\n",
    "        temp_file_name=re.split(r'-|\\.',filename)\n",
    "        \n",
    "        #Return slice number as a float for further processing if required. \n",
    "        return float(temp_file_name[2].lstrip(\"0\"))\n",
    "        \n",
    "    \n",
    "    def Create_data_frame(self):\n",
    "        \"\"\"Purpose of this method is a wrapper function which generated dataframe from dictionary attributes of each file\"\"\"\n",
    "        file_info=[]\n",
    "        \n",
    "        for files in self.file_list:\n",
    "            tmp=str(files)\n",
    "            \n",
    "            tmp_dictionary=self.Create_file_dictionary(tmp)\n",
    "            \n",
    "            file_info.append(tmp_dictionary)\n",
    "        \n",
    "        unedited_df=pd.DataFrame(file_info)\n",
    "                \n",
    "        return self.Edit_data_frame(unedited_df)\n",
    "    \n",
    "    def Edit_data_frame(self,unedited_df):\n",
    "        \"\"\"The purpose of this method is to relabel MR modes to 5 different categories to ease analysis in image class\"\"\"\n",
    "        unedited_df.replace({'Image_type': None}, 'T2SPIR_data',inplace=True)\n",
    "        \n",
    "        Image_type=['InPhase','OutPhase','Ground','Ground','T2SPIR_data']\n",
    "        MR_Mode=['T1DUAL','T1DUAL','T1DUAL','T2SPIR','T2SPIR']\n",
    "        Image_renames=['T1Dual_InPhase','T1Dual_OutPhase','T1Dual_Ground','T2SPIR_Ground','T2SPIR_data']\n",
    "        \n",
    "        mask_T1Dual_Inphase=(unedited_df['Image_type']=='InPhase')&(unedited_df['MR_modes']=='T1DUAL')\n",
    "        unedited_df['Image_type'] = unedited_df['Image_type'].mask(mask_T1Dual_Inphase,'T1Dual_InPhase')\n",
    "\n",
    "        mask_T1Dual_Outphase=(unedited_df['Image_type']=='OutPhase')&(unedited_df['MR_modes']=='T1DUAL')\n",
    "        unedited_df['Image_type'] = unedited_df['Image_type'].mask(mask_T1Dual_Outphase,'T1Dual_OutPhase')\n",
    "\n",
    "        #mask_T1Dual_Ground=(unedited_df['Image_type']=='Ground')&(unedited_df['MR_modes']=='T1DUAL')\n",
    "        #unedited_df['Image_type'] = unedited_df['Image_type'].mask(mask_T1Dual_Ground,'T1Dual_Ground')\n",
    "\n",
    "        #mask_T2SPIR_Ground=(unedited_df['Image_type']=='Ground')&(unedited_df['MR_modes']=='T2SPIR')\n",
    "        #unedited_df['Image_type'] = unedited_df['Image_type'].mask(mask_T2SPIR_Ground,'T2SPIR_Ground')\n",
    "        \n",
    "        mask_T2SPIR_data=(unedited_df['Image_type']=='T2SPIR_data')&(unedited_df['MR_modes']=='T2SPIR')\n",
    "        unedited_df['Image_type'] = unedited_df['Image_type'].mask(mask_T2SPIR_data,'T2SPIR_data')\n",
    "        \n",
    "        return unedited_df\n",
    "\n",
    "gnrl_info_method=return_gnrl_info(Img_categories,start_id,file_list)\n",
    "\n",
    "gnrl_info_df=gnrl_info_method.Create_data_frame()\n",
    "\n",
    "gnrl_info_df['MR_modes'].unique()\n"
   ]
  },
  {
   "cell_type": "code",
   "execution_count": 56,
   "metadata": {},
   "outputs": [
    {
     "data": {
      "text/plain": [
       "array(['T1Dual_InPhase', 'T1Dual_OutPhase', 'Ground', 'T2SPIR_data'],\n",
       "      dtype=object)"
      ]
     },
     "execution_count": 56,
     "metadata": {},
     "output_type": "execute_result"
    }
   ],
   "source": [
    "gnrl_info_df.loc[:,'Image_type'].unique()"
   ]
  },
  {
   "cell_type": "code",
   "execution_count": 7,
   "metadata": {},
   "outputs": [
    {
     "data": {
      "text/plain": [
       "{'Ground': Image([[0, 0, 0, ..., 0, 0, 0],\n",
       "        [0, 0, 0, ..., 0, 0, 0],\n",
       "        [0, 0, 0, ..., 0, 0, 0],\n",
       "        ...,\n",
       "        [0, 0, 0, ..., 0, 0, 0],\n",
       "        [0, 0, 0, ..., 0, 0, 0],\n",
       "        [0, 0, 0, ..., 0, 0, 0]], dtype=uint8),\n",
       " 'T1Dual_InPhase': Image([[0, 0, 0, ..., 0, 0, 0],\n",
       "        [0, 0, 0, ..., 0, 0, 0],\n",
       "        [0, 0, 0, ..., 0, 0, 0],\n",
       "        ...,\n",
       "        [0, 0, 0, ..., 0, 0, 0],\n",
       "        [0, 0, 0, ..., 0, 0, 0],\n",
       "        [0, 0, 0, ..., 0, 0, 0]], dtype=uint16),\n",
       " 'T1Dual_OutPhase': Image([[0, 0, 0, ..., 0, 0, 0],\n",
       "        [0, 0, 0, ..., 0, 0, 0],\n",
       "        [0, 0, 0, ..., 0, 0, 0],\n",
       "        ...,\n",
       "        [0, 0, 0, ..., 0, 0, 0],\n",
       "        [0, 0, 0, ..., 0, 0, 0],\n",
       "        [0, 0, 0, ..., 0, 0, 0]], dtype=uint16),\n",
       " 'organs': {'Background': 0,\n",
       "  'Left Kidney': None,\n",
       "  'Liver': 63,\n",
       "  'Right Kidney': None,\n",
       "  'Spleen': 252}}"
      ]
     },
     "execution_count": 7,
     "metadata": {},
     "output_type": "execute_result"
    }
   ],
   "source": [
    "class gen_file_output():\n",
    "    \n",
    "    \n",
    "    def __init__(self,gnrl_df,MR_MOD,slice_no,patient_no):\n",
    "        self.gnrl_df=gnrl_df\n",
    "        self.MR_MOD=MR_MOD\n",
    "        self.slice_no=slice_no\n",
    "        self.patient_no=patient_no\n",
    "    \n",
    "    def return_file_loc(self):\n",
    "        #\"\"\"The purpose of this function is to iterate through df and return \n",
    "        #    the file names of a medical images mask and its associated MRI\"\"\"\n",
    "        #Return unique values\n",
    "        Unique_vals=list(self.gnrl_df.loc[self.gnrl_df['MR_modes']==self.MR_MOD,'Image_type'].unique())\n",
    "        #Dictionary to store file locations for each image\n",
    "        file_loc={}\n",
    "        #Iterating through each image set for analysis\n",
    "        for vals in Unique_vals:\n",
    "\n",
    "            Row_Int=self.gnrl_df[(self.gnrl_df['Slice_id'] == self.slice_no) & \n",
    "                      (self.gnrl_df['Person_id'] ==self.patient_no) & \n",
    "                      (self.gnrl_df['Image_type']==vals)&\n",
    "                           (self.gnrl_df['MR_modes']==self.MR_MOD)]\n",
    "\n",
    "\n",
    "            file_loc[vals]=Row_Int['File_location'].item()\n",
    "        return file_loc\n",
    "\n",
    "    def Determine_no_organs(self):\n",
    "    #'''The purpose of this function is to assess the mask for organ types and return dictionary to that effect'''\n",
    "    #Finding ground file\n",
    "        file_loc=self.files_loc_image()\n",
    "        \n",
    "        image=file_loc['Ground']\n",
    "\n",
    "        organs_chk={'Liver':63,\n",
    "                   'Right Kidney':126,\n",
    "                   'Left Kidney':189,\n",
    "                   'Spleen':252,\n",
    "                   'Background':0}\n",
    "\n",
    "        No_organs=np.unique(image)\n",
    "        #Iterating through organ dictionary to find matches\n",
    "        for keys, vals in organs_chk.items():\n",
    "\n",
    "            if organs_chk[keys] not in No_organs:\n",
    "                organs_chk[keys]=None\n",
    "\n",
    "        No_organs={'organs':organs_chk}\n",
    "        return No_organs \n",
    "\n",
    "    def files_loc_image(self):\n",
    "        \n",
    "    #\"\"\"The purpose of this method is to import file locations and \n",
    "    #return dictionary numpy arrays to save on multiple imports and to cache images\"\"\"\n",
    "        file_loc=self.return_file_loc()\n",
    "        \n",
    "        for keys,vals in file_loc.items():\n",
    "            file_loc[keys]=imageio.imread(vals)\n",
    "        \n",
    "        return file_loc\n",
    "    \n",
    "    def gen_image_organ_dictionary(self):\n",
    "        #The purpose of this wrapper function is to generate an image from the \n",
    "        images_dictionary=self.files_loc_image()\n",
    "        organs_dictionary=self.Determine_no_organs()\n",
    "        \n",
    "        images_dictionary.update(organs_dictionary)\n",
    "        \n",
    "        return images_dictionary\n",
    "    \n",
    "\n",
    "trl=gen_file_output(gnrl_info_df,'T1DUAL',15,'2')\n",
    "        \n",
    "trl2=trl.files_loc_image() \n",
    "trl3=trl.return_file_loc()\n",
    "trl4=trl.Determine_no_organs()\n",
    "trl2.update(trl4)\n",
    "trl2"
   ]
  },
  {
   "cell_type": "code",
   "execution_count": 16,
   "metadata": {},
   "outputs": [
    {
     "data": {
      "text/plain": [
       "dict_keys(['allowed_keys', 'T1Dual_InPhase', 'T1Dual_OutPhase', 'Ground', 'organs', 'T1Dual_InPhaseLivermask', 'T1Dual_InPhaseSpleenmask', 'T1Dual_InPhaseBackgroundmask', 'T1Dual_OutPhaseLivermask', 'T1Dual_OutPhaseSpleenmask', 'T1Dual_OutPhaseBackgroundmask'])"
      ]
     },
     "execution_count": 16,
     "metadata": {},
     "output_type": "execute_result"
    }
   ],
   "source": [
    "\n",
    "slice_chk=Per_slice_analysis(**trl2)\n",
    "\n",
    "\n",
    "slice_chk.gen_org_spec_mask_image()\n",
    "slice_chk.__dict__.keys()"
   ]
  },
  {
   "cell_type": "code",
   "execution_count": 14,
   "metadata": {},
   "outputs": [
    {
     "data": {
      "image/png": "[encoded data removed]",
      "text/plain": [
       "<matplotlib.figure.Figure at 0x25fb7d77400>"
      ]
     },
     "metadata": {
      "needs_background": "light"
     },
     "output_type": "display_data"
    }
   ],
   "source": [
    "trl_background=slice_chk.T1Dual_InPhaseBackgroundmask\n",
    "\n",
    "import matplotlib.pyplot as plt\n",
    "plt.imshow(trl, cmap='gray')\n",
    "plt.axis('off')\n",
    "plt.show()"
   ]
  },
  {
   "cell_type": "code",
   "execution_count": 15,
   "metadata": {},
   "outputs": [
    {
     "data": {
      "image/png": "[encoded data removed]",
      "text/plain": [
       "<matplotlib.figure.Figure at 0x25fb844d2b0>"
      ]
     },
     "metadata": {
      "needs_background": "light"
     },
     "output_type": "display_data"
    }
   ],
   "source": [
    "trl_liver=slice_chk.T1Dual_InPhaseLivermask\n",
    "\n",
    "import matplotlib.pyplot as plt\n",
    "plt.imshow(trl_liver, cmap='gray')\n",
    "plt.axis('off')\n",
    "plt.show()"
   ]
  },
  {
   "cell_type": "code",
   "execution_count": 17,
   "metadata": {},
   "outputs": [
    {
     "data": {
      "image/png": "[encoded data removed]",
      "text/plain": [
       "<matplotlib.figure.Figure at 0x25fba5f4898>"
      ]
     },
     "metadata": {
      "needs_background": "light"
     },
     "output_type": "display_data"
    }
   ],
   "source": [
    "trl_spleen=slice_chk.T1Dual_InPhaseSpleenmask\n",
    "\n",
    "import matplotlib.pyplot as plt\n",
    "plt.imshow(trl_spleen, cmap='gray')\n",
    "plt.axis('off')\n",
    "plt.show()"
   ]
  },
  {
   "cell_type": "code",
   "execution_count": 18,
   "metadata": {},
   "outputs": [
    {
     "data": {
      "image/png": "[encoded data removed]",
      "text/plain": [
       "<matplotlib.figure.Figure at 0x25fb81bf828>"
      ]
     },
     "metadata": {
      "needs_background": "light"
     },
     "output_type": "display_data"
    }
   ],
   "source": [
    "trl_all=slice_chk.T1Dual_InPhase\n",
    "\n",
    "import matplotlib.pyplot as plt\n",
    "plt.imshow(trl_all, cmap='gray')\n",
    "plt.axis('off')\n",
    "plt.show()"
   ]
  },
  {
   "cell_type": "code",
   "execution_count": null,
   "metadata": {},
   "outputs": [],
   "source": []
  },
  {
   "cell_type": "code",
   "execution_count": null,
   "metadata": {},
   "outputs": [],
   "source": [
    "cv2.imshow(\"test\", slice_chk.T1Dual_InPhaseBackgroundmask)\n",
    "cv2.waitKey(0)\n",
    "cv2.destroyAllWindows(0)\n"
   ]
  },
  {
   "cell_type": "code",
   "execution_count": 9,
   "metadata": {},
   "outputs": [],
   "source": [
    "class Per_slice_analysis():\n",
    "    \n",
    "    def __init__(self, **Test_images_organs):\n",
    "        #Updating dicitonary of class attributes with \n",
    "        \n",
    "        self.allowed_keys = {'T1Dual_InPhase', 'T1Dual_OutPhase', 'Ground', 'organs','T2SPIR_data'}\n",
    "        self.__dict__.update((k, v) for k, v in Test_images_organs.items() if k in self.allowed_keys)\n",
    "        \n",
    "    def gen_org_spec_mask_image(self):\n",
    "        \n",
    "        \"\"\"The purpose of this step is to generate a mask of intensity values for analysis\n",
    "        based on key value inputs of input dictionary. \"\"\"\n",
    "        #Iterating though all class keys looking for specific key items for analysis. \n",
    "        #temporary dictionary for storing information. \n",
    "        temp_dict={}\n",
    "        for MRI_type,MRI_data in self.__dict__.items():\n",
    "            #Iterating through specific images only. \n",
    "            if 'T1Dual' in MRI_type or 'T2Spir' in MRI_type:\n",
    "                \n",
    "                #Iterating through each organ for analysis \n",
    "                for organ_name,intensities in self.organs.items():\n",
    "                    \n",
    "                    if intensities!=None:\n",
    "                                            \n",
    "                        new_key=MRI_type+organ_name+'mask'\n",
    "\n",
    "                        mask_image=np.where(self.Ground==intensities,\n",
    "                                       MRI_data,0)\n",
    "                        temp_dict[new_key]=mask_image\n",
    "                        \n",
    "        self.__dict__.update(temp_dict)\n",
    "        \n",
    "    \n",
    "    def gen_image_mask_histogram(self,mask_image):\n",
    "        \"\"\"The purpose of this step is to generate a histogram of the particular \n",
    "        image intensity values and save to directory\n",
    "       \"\"\" \n",
    "        \n",
    "        temp_image=ndi.measurements.histogram(mask_image,min=0,max=256,bins=256)\n",
    "        \n",
    "        return temp_image\n",
    "    \n",
    "    def basic_int_stats(self,mask_image):\n",
    "        \"\"\"The purpose of this method is to acquire basic statistical on intensity value distributions for each organ\"\"\"\n",
    "        return {'image_intensity_mean':ndi.mean(mask_image),\n",
    "                'image_intensity_median':ndi.median(mask_image),\n",
    "                'image_intensity_variance':ndi.variance(mask_image)} \n",
    "    \n",
    "    def signal_to_noise_ROI_ratio(self):\n",
    "        \"\"\"The purpose of this method is to produce a signal to noise ratio for masked images\"\"\"\n",
    "        \n",
    "        \n",
    "        \n",
    "    def organ_slice_wrapper_analysis(self):\n",
    "        \n",
    "        organ_dict=self.No_organs\n",
    "        #Copy of organ dictionary for dumping final values into\n",
    "        \n",
    "        for keys,values in organ_dict.items():\n",
    "            if values==None:\n",
    "                slice_info[keys]=None\n",
    "            else:\n",
    "                self.gen_mask_image(keys,values)\n",
    "                \n",
    "            temp_histogram=self.basic_int_stats(temp_mask)\n",
    "            temp_intensity_stat=self.basic_int_stats(temp_mask)\n",
    "            temp_stat_dict={'Intensity_histogram':temp_histogram,\n",
    "                           'Intensity_statistics':temp_intensity_stat}\n",
    "            organ_dict[keys]=temp_stat_dict\n",
    "                \n",
    "                \n",
    "        \n",
    "        \n",
    "        "
   ]
  },
  {
   "cell_type": "code",
   "execution_count": 7,
   "metadata": {},
   "outputs": [
    {
     "ename": "AttributeError",
     "evalue": "module 'scipy.ndimage' has no attribute 'signal_to_noise_ROI_ratio'",
     "output_type": "error",
     "traceback": [
      "\u001b[1;31m---------------------------------------------------------------------------\u001b[0m",
      "\u001b[1;31mAttributeError\u001b[0m                            Traceback (most recent call last)",
      "\u001b[1;32m<ipython-input-7-78345b7072a6>\u001b[0m in \u001b[0;36m<module>\u001b[1;34m()\u001b[0m\n\u001b[0;32m      1\u001b[0m \u001b[1;32mimport\u001b[0m \u001b[0minspect\u001b[0m\u001b[1;33m\u001b[0m\u001b[0m\n\u001b[0;32m      2\u001b[0m \u001b[1;33m\u001b[0m\u001b[0m\n\u001b[1;32m----> 3\u001b[1;33m \u001b[0minspect\u001b[0m\u001b[1;33m.\u001b[0m\u001b[0mgetargspec\u001b[0m\u001b[1;33m(\u001b[0m\u001b[0mndi\u001b[0m\u001b[1;33m.\u001b[0m\u001b[0msignal_to_noise_ROI_ratio\u001b[0m\u001b[1;33m(\u001b[0m\u001b[1;33m)\u001b[0m\u001b[1;33m)\u001b[0m\u001b[1;33m\u001b[0m\u001b[0m\n\u001b[0m",
      "\u001b[1;31mAttributeError\u001b[0m: module 'scipy.ndimage' has no attribute 'signal_to_noise_ROI_ratio'"
     ]
    }
   ],
   "source": [
    "import inspect \n",
    "\n",
    "    inspect.getargspec(ndi.f)"
   ]
  },
  {
   "cell_type": "code",
   "execution_count": null,
   "metadata": {},
   "outputs": [],
   "source": []
  },
  {
   "cell_type": "code",
   "execution_count": null,
   "metadata": {},
   "outputs": [],
   "source": [
    "class image_preprocessing():\n",
    "    \n",
    "    \n",
    "    def __init__(self,file_location):\n",
    "        \n",
    "        self.file_location=file_location\n",
    "        \n",
    "    def image_normalisation(self):\n",
    "        \n",
    "        \n",
    "    def N3_image_preprocessing(self):\n",
    "        \"\"\"The purpose of this method is to perform N4 image normalisation as per \n",
    "        N. Tustison et al., N4ITK: Improved N3 Bias Correction, \n",
    "        IEEE Transactions on Medical Imaging, 29(6):1310-1320, June 2010\n",
    "        to improve signal to noise ratio between organs to background in MRI image slices\"\"\"\n",
    "        \n",
    "        from nipype.interfaces.ants import N4BiasFieldCorrection\n",
    "        \n",
    "        n4 = N4BiasFieldCorrection()\n",
    "        n4.inputs.input_image=self.file_location\n",
    "        n4.inputs.save_bias=True\n",
    "        n4.inputs.dimension=2\n",
    "        n4.Outputs\n",
    "        \n",
    "    def normalize(arr):\n",
    "        \n",
    "        \"\"\"\n",
    "        Linear normalization\n",
    "        http://en.wikipedia.org/wiki/Normalization_%28image_processing%29\n",
    "        \"\"\"\n",
    "        arr = arr.astype('float')\n",
    "        # Do not touch the alpha channel\n",
    "        for i in range(3):\n",
    "            minval = arr[...,i].min()\n",
    "            maxval = arr[...,i].max()\n",
    "            if minval != maxval:\n",
    "                arr[...,i] -= minval\n",
    "                arr[...,i] *= (255.0/(maxval-minval))\n",
    "        return arr\n",
    "\n",
    "    def demo_normalize(self):\n",
    "        img = imageio.imread(self.file_location)\n",
    "        arr = np.array(img)\n",
    "        new_img = Image.fromarray(normalize(arr).astype('uint8'),'RGBA')\n",
    "        new_img_name=re.split('[.-]',self.file_location)\n",
    "        \n",
    "        return new_img.save('/tmp/normalized.png')\n",
    "        \n",
    "        \n",
    "        \n",
    "        "
   ]
  },
  {
   "cell_type": "code",
   "execution_count": 59,
   "metadata": {},
   "outputs": [
    {
     "ename": "AttributeError",
     "evalue": "module 'scipy.ndimage' has no attribute 'imread'",
     "output_type": "error",
     "traceback": [
      "\u001b[1;31m---------------------------------------------------------------------------\u001b[0m",
      "\u001b[1;31mAttributeError\u001b[0m                            Traceback (most recent call last)",
      "\u001b[1;32m<ipython-input-59-dfeb21a84f46>\u001b[0m in \u001b[0;36m<module>\u001b[1;34m()\u001b[0m\n\u001b[0;32m     11\u001b[0m \u001b[1;33m\u001b[0m\u001b[0m\n\u001b[0;32m     12\u001b[0m \u001b[1;31m#inputImage = sitk.ReadImage(file[0],sitk.sitkFloat32)\u001b[0m\u001b[1;33m\u001b[0m\u001b[1;33m\u001b[0m\u001b[0m\n\u001b[1;32m---> 13\u001b[1;33m \u001b[0minputImage\u001b[0m\u001b[1;33m=\u001b[0m\u001b[0mndi\u001b[0m\u001b[1;33m.\u001b[0m\u001b[0mimread\u001b[0m\u001b[1;33m(\u001b[0m\u001b[0mfile\u001b[0m\u001b[1;33m[\u001b[0m\u001b[1;36m0\u001b[0m\u001b[1;33m]\u001b[0m\u001b[1;33m)\u001b[0m\u001b[1;33m\u001b[0m\u001b[0m\n\u001b[0m\u001b[0;32m     14\u001b[0m \u001b[0mcorrector\u001b[0m \u001b[1;33m=\u001b[0m \u001b[0msitk\u001b[0m\u001b[1;33m.\u001b[0m\u001b[0mN4BiasFieldCorrectionImageFilter\u001b[0m\u001b[1;33m(\u001b[0m\u001b[1;33m)\u001b[0m\u001b[1;33m;\u001b[0m\u001b[1;33m\u001b[0m\u001b[0m\n\u001b[0;32m     15\u001b[0m \u001b[1;31m#inputImage = sitk.Cast(inputImage,sitk.sitkFloat32)\u001b[0m\u001b[1;33m\u001b[0m\u001b[1;33m\u001b[0m\u001b[0m\n",
      "\u001b[1;31mAttributeError\u001b[0m: module 'scipy.ndimage' has no attribute 'imread'"
     ]
    }
   ],
   "source": [
    "#from nipype.interfaces.ants import N4BiasFieldCorrection\n",
    "import SimpleITK as sitk\n",
    "file=gnrl_info_df.loc[1,['File_location']].values.tolist()\n",
    "\n",
    "#n4 = N4BiasFieldCorrection()\n",
    "#n4.inputs.input_image=str(file[0])\n",
    "#n4.inputs.save_bias=True\n",
    "#n4.inputs.dimension=2\n",
    "#n4.cmdline\n",
    "inputImage2 = imageio.imread(file[0])\n",
    "\n",
    "#inputImage = sitk.ReadImage(file[0],sitk.sitkFloat32)\n",
    "inputImage=ndi.imread(file[0])\n",
    "corrector = sitk.N4BiasFieldCorrectionImageFilter();\n",
    "#inputImage = sitk.Cast(inputImage,sitk.sitkFloat32)\n",
    "maskImage = sitk.OtsuThreshold(inputImage,0,1,200)\n",
    "\n",
    "\n",
    "sitk.WriteImage(maskImage, \"trial.dcm\")\n",
    "output = corrector.Execute(inputImage)\n"
   ]
  },
  {
   "cell_type": "code",
   "execution_count": 75,
   "metadata": {},
   "outputs": [
    {
     "ename": "AttributeError",
     "evalue": "'N4BiasFieldCorrection' object has no attribute 'cmd_line'",
     "output_type": "error",
     "traceback": [
      "\u001b[1;31m---------------------------------------------------------------------------\u001b[0m",
      "\u001b[1;31mAttributeError\u001b[0m                            Traceback (most recent call last)",
      "\u001b[1;32m<ipython-input-75-262bfae0759d>\u001b[0m in \u001b[0;36m<module>\u001b[1;34m()\u001b[0m\n\u001b[0;32m      4\u001b[0m \u001b[0mn4\u001b[0m\u001b[1;33m.\u001b[0m\u001b[0minputs\u001b[0m\u001b[1;33m.\u001b[0m\u001b[0minput_image\u001b[0m\u001b[1;33m=\u001b[0m\u001b[0mfile\u001b[0m\u001b[1;33m[\u001b[0m\u001b[1;36m0\u001b[0m\u001b[1;33m]\u001b[0m\u001b[1;31m#inputImage2\u001b[0m\u001b[1;33m\u001b[0m\u001b[0m\n\u001b[0;32m      5\u001b[0m \u001b[1;31m#n4._cmd=r'C:\\Users\\niall\\Anaconda3\\Lib\\site-packages\\nipype'\u001b[0m\u001b[1;33m\u001b[0m\u001b[1;33m\u001b[0m\u001b[0m\n\u001b[1;32m----> 6\u001b[1;33m \u001b[0mn4\u001b[0m\u001b[1;33m.\u001b[0m\u001b[0mcmd_line\u001b[0m\u001b[1;33m\u001b[0m\u001b[0m\n\u001b[0m",
      "\u001b[1;31mAttributeError\u001b[0m: 'N4BiasFieldCorrection' object has no attribute 'cmd_line'"
     ]
    }
   ],
   "source": [
    "from nipype.interfaces.ants import N4BiasFieldCorrection\n",
    "\n",
    "n4 = N4BiasFieldCorrection()\n",
    "n4.inputs.input_image=file[0]#inputImage2\n",
    "#n4._cmd=r'C:\\Users\\niall\\Anaconda3\\Lib\\site-packages\\nipype'\n",
    "n4.inputs.cmd"
   ]
  },
  {
   "cell_type": "code",
   "execution_count": 74,
   "metadata": {},
   "outputs": [
    {
     "data": {
      "text/plain": [
       "'N4BiasFieldCorrection'"
      ]
     },
     "execution_count": 74,
     "metadata": {},
     "output_type": "execute_result"
    }
   ],
   "source": [
    "n4._cmd"
   ]
  },
  {
   "cell_type": "code",
   "execution_count": 52,
   "metadata": {},
   "outputs": [
    {
     "data": {
      "text/plain": [
       "{'this': <Swig Object of type 'itk::simple::N4BiasFieldCorrectionImageFilter *' at 0x0000025FBF387540>}"
      ]
     },
     "execution_count": 52,
     "metadata": {},
     "output_type": "execute_result"
    }
   ],
   "source": [
    "import inspect\n",
    "corrector.\n",
    "#inspect.getargvalues(corrector)\n"
   ]
  },
  {
   "cell_type": "code",
   "execution_count": null,
   "metadata": {},
   "outputs": [],
   "source": []
  },
  {
   "cell_type": "code",
   "execution_count": 23,
   "metadata": {},
   "outputs": [
    {
     "data": {
      "text/plain": [
       "Image([[0, 0, 0, ..., 0, 0, 0],\n",
       "       [0, 0, 0, ..., 0, 0, 0],\n",
       "       [0, 0, 0, ..., 0, 0, 0],\n",
       "       ...,\n",
       "       [0, 0, 0, ..., 0, 0, 0],\n",
       "       [0, 0, 0, ..., 0, 0, 0],\n",
       "       [0, 0, 0, ..., 0, 0, 0]], dtype=uint16)"
      ]
     },
     "execution_count": 23,
     "metadata": {},
     "output_type": "execute_result"
    }
   ],
   "source": [
    "inputImage"
   ]
  },
  {
   "cell_type": "code",
   "execution_count": 21,
   "metadata": {},
   "outputs": [
    {
     "data": {
      "text/plain": [
       "1"
      ]
     },
     "execution_count": 21,
     "metadata": {},
     "output_type": "execute_result"
    }
   ],
   "source": [
    "inputImage.GetDepth()\n"
   ]
  },
  {
   "cell_type": "code",
   "execution_count": null,
   "metadata": {},
   "outputs": [],
   "source": [
    "inputImage"
   ]
  },
  {
   "cell_type": "code",
   "execution_count": 27,
   "metadata": {},
   "outputs": [
    {
     "data": {
      "text/plain": [
       "'C:\\\\Users\\\\niall\\\\OneDrive\\\\Documents\\\\Data science masters\\\\Thesis\\\\Scripts\\\\Python\\\\EDA'"
      ]
     },
     "execution_count": 27,
     "metadata": {},
     "output_type": "execute_result"
    }
   ],
   "source": [
    "pwd"
   ]
  },
  {
   "cell_type": "code",
   "execution_count": 41,
   "metadata": {},
   "outputs": [],
   "source": [
    "MR_MOD='T1DUAL'\n",
    "slice_no=2\n",
    "patient_no='2'\n",
    "vals='T2SPIR_data'\n"
   ]
  },
  {
   "cell_type": "code",
   "execution_count": 71,
   "metadata": {},
   "outputs": [
    {
     "data": {
      "text/plain": [
       "'C:\\\\Users\\\\niall\\\\OneDrive\\\\Documents\\\\Data science masters\\\\Thesis\\\\Biomedical images\\\\CHAOS_Train_Sets\\\\Train_Sets\\\\MR\\\\2\\\\T2SPIR\\\\DICOM_anon\\\\IMG-0007-00002.dcm'"
      ]
     },
     "execution_count": 71,
     "metadata": {},
     "output_type": "execute_result"
    }
   ],
   "source": [
    "MR_MOD='T2SPIR'\n",
    "slice_no=2\n",
    "patient_no='2'\n",
    "vals='T2SPIR_data'\n",
    "\n",
    "trl1=gnrl_info_df[(gnrl_info_df['Slice_id'] == slice_no) & \n",
    "                  (gnrl_info_df['Person_id'] ==patient_no) & \n",
    "                  (gnrl_info_df['Image_type']==vals) ]\n",
    "#& (gnrl_info_df['Image_type']==vals)           \n",
    "\n",
    "trl1['File_location'].item()"
   ]
  },
  {
   "cell_type": "code",
   "execution_count": null,
   "metadata": {},
   "outputs": [],
   "source": [
    "No_slices_per_person=pd.DataFrame(gnrl_info_df.groupby('Person_id')['Slice_id'].nunique(),\n",
    "                  columns=['Slice_id'])\n",
    "MR_type={'T1DUAL_InPhase':['InPhase','Ground'],'T1DUAL_OutPhase':['OutPhase','Ground'],'T2SPIR':[None,'Ground']}\n",
    "\n",
    "\n",
    "\n",
    "for vals in No_slices_per_person.index:\n",
    "    print(vals)\n",
    "    No_slices=int(No_slices_per_person.loc[vals])\n",
    "\n",
    "    for j in range(1,No_slices+1):\n",
    "        \n",
    "        ROI=gnrl_info_df.loc[gnrl_info_df['Person_id']==vals]\n",
    "        "
   ]
  },
  {
   "cell_type": "code",
   "execution_count": null,
   "metadata": {},
   "outputs": [],
   "source": []
  }
 ],
 "metadata": {
  "kernelspec": {
   "display_name": "Python 3",
   "language": "python",
   "name": "python3"
  },
  "language_info": {
   "codemirror_mode": {
    "name": "ipython",
    "version": 3
   },
   "file_extension": ".py",
   "mimetype": "text/x-python",
   "name": "python",
   "nbconvert_exporter": "python",
   "pygments_lexer": "ipython3",
   "version": "3.7.3"
  },
  "toc": {
   "base_numbering": 1,
   "nav_menu": {},
   "number_sections": true,
   "sideBar": true,
   "skip_h1_title": false,
   "title_cell": "Table of Contents",
   "title_sidebar": "Contents",
   "toc_cell": true,
   "toc_position": {},
   "toc_section_display": true,
   "toc_window_display": false
  }
 },
 "nbformat": 4,
 "nbformat_minor": 2
}
