{
 "cells": [
  {
   "cell_type": "markdown",
   "metadata": {},
   "source": [
    "# Importing main libraries for analysis"
   ]
  },
  {
   "cell_type": "code",
   "execution_count": null,
   "metadata": {},
   "outputs": [],
   "source": [
    "import matplotlib.pyplot as plt\n",
    "import os\n",
    "import pandas as pd\n",
    "import numpy as np\n",
    "import re\n",
    "import seaborn as sns\n",
    "import glob\n",
    "import imageio\n",
    "from sklearn.feature_extraction import image\n",
    "import json\n",
    "import scipy.stats"
   ]
  },
  {
   "cell_type": "markdown",
   "metadata": {},
   "source": [
    "# Import data for analysis"
   ]
  },
  {
   "cell_type": "code",
   "execution_count": null,
   "metadata": {},
   "outputs": [],
   "source": [
    "trl_df=pd.read_excel(r'C:\\Users\\aczd087\\Downloads/organ_blob_dimension_info.xlsx')"
   ]
  },
  {
   "cell_type": "code",
   "execution_count": null,
   "metadata": {},
   "outputs": [],
   "source": [
    "cd F:\\Biomedical images\\Train\\NIFTI_MR_512x512 seg_rename\\NIFTI_MR_512x512\\NIFTI_MR_512x512_png_64grey_lvl\\t1dual_outphase\\ground"
   ]
  },
  {
   "cell_type": "code",
   "execution_count": null,
   "metadata": {},
   "outputs": [],
   "source": [
    "mask_intensities={0:'Background',63:'Liver',126:'r_kidney',189:'l_kidney',252:'spleen'}"
   ]
  },
  {
   "cell_type": "code",
   "execution_count": null,
   "metadata": {},
   "outputs": [],
   "source": [
    "mask_file_list=glob.glob('*.png')\n",
    "mask_file_list[0]"
   ]
  },
  {
   "cell_type": "code",
   "execution_count": null,
   "metadata": {},
   "outputs": [],
   "source": [
    "Pat_str='pat_'\n",
    "img_type_str='_t1dual'\n",
    "img_types_lst=['t2spir','t1dual']"
   ]
  },
  {
   "cell_type": "code",
   "execution_count": null,
   "metadata": {},
   "outputs": [],
   "source": [
    "\n",
    "final_lst=[]\n",
    "for file in mask_file_list:\n",
    "    \n",
    "    Pat_id_act=int(file[file.lower().find(Pat_str)+len(Pat_str):file.lower().find(img_type_str)])\n",
    "    \n",
    "    tmp_img_type=[x for x in img_types_lst if file.lower().find(x)!=-1]\n",
    "    \n",
    "    #Getting slice no from file name\n",
    "    slic_no_lwr_bnd=file.lower().find('slice_no_')\n",
    "    slic_no_uppr_bnd=file.lower().rfind('_512x512')\n",
    "    slice_no=int(file[slic_no_lwr_bnd+len('slice_no_'):slic_no_uppr_bnd])\n",
    "    \n",
    "    tmp_img=imageio.imread(file)\n",
    "    \n",
    "    tmp_img_uniq_val=np.unique(tmp_img,return_counts=True)\n",
    "    tmp_dict={}\n",
    "    for int_val,pixel_cnts in list(zip(tmp_img_uniq_val[0],tmp_img_uniq_val[1])):\n",
    "        int_val_key=mask_intensities[int_val]\n",
    "        \n",
    "        tmp_dict[int_val_key]=pixel_cnts\n",
    "    \n",
    "    tmp_dict['slice_no']=slice_no\n",
    "    tmp_dict['image_type']=tmp_img_type[0]\n",
    "    tmp_dict['Patient_id']=Pat_id_act\n",
    "    \n",
    "    final_lst.append(tmp_dict)\n"
   ]
  },
  {
   "cell_type": "code",
   "execution_count": null,
   "metadata": {},
   "outputs": [],
   "source": [
    "org_area_df=pd.DataFrame(final_lst)\n",
    "\n",
    "org_area_df_melt=org_area_df.melt(id_vars=['Patient_id','image_type','slice_no'],\n",
    "                                  value_vars=['spleen','Background','Liver',\n",
    "                             'r_kidney','l_kidney'])\n",
    "\n",
    "org_area_df_melt_t1dual=org_area_df_melt"
   ]
  },
  {
   "cell_type": "code",
   "execution_count": null,
   "metadata": {},
   "outputs": [],
   "source": [
    "cd .."
   ]
  },
  {
   "cell_type": "code",
   "execution_count": null,
   "metadata": {},
   "outputs": [],
   "source": [
    "org_area_df_melt_final.head()"
   ]
  },
  {
   "cell_type": "code",
   "execution_count": null,
   "metadata": {},
   "outputs": [],
   "source": [
    "org_area_df_melt_final=org_area_df_melt_t1dual.append(org_area_df_melt_t2spir,ignore_index=True)\n",
    "org_area_df_melt_final.to_excel('Pixel_cnts_per_org_per_imgtype_perPatientperslice_table.xlsx')"
   ]
  },
  {
   "cell_type": "code",
   "execution_count": null,
   "metadata": {},
   "outputs": [],
   "source": [
    "#org_area_df_melt_final[(org_area_df_melt_final['variable']!='Background')&\n",
    "gen_boxplot(org_area_df_melt_final[(org_area_df_melt_final['image_type']=='t1dual')],\n",
    "            'Patient_id','value','Patient ID','Pixel count',\n",
    "            'boxplot_patient_id_vs_pixel_cnt_vs_org_type_plus_bkgrnd_t1dual.jpeg','variable',fig_dim=(20,20),\n",
    "                dpi_sp=600,fontsize_sp=25,tick_f_size_sp=20)"
   ]
  },
  {
   "cell_type": "code",
   "execution_count": null,
   "metadata": {},
   "outputs": [],
   "source": [
    "#(org_area_df_melt_final['variable']!='Background')&\n",
    "gen_lineplot(org_area_df_melt_final[(org_area_df_melt_final['variable']!='Background')&(org_area_df_melt_final['image_type']=='t1dual')],\n",
    "             'slice_no','value','Slice No.','Pixel count',\n",
    "             'lineplot_t1dual_slice_no_vs_pixel_cnt_vs_org_type_no_background.jpeg','variable',\n",
    "                 fig_dim=(20,20),dpi_sp=600,fontsize_sp=20,tick_f_size_sp=16)\n"
   ]
  },
  {
   "cell_type": "code",
   "execution_count": null,
   "metadata": {},
   "outputs": [],
   "source": [
    "ls"
   ]
  },
  {
   "cell_type": "code",
   "execution_count": null,
   "metadata": {},
   "outputs": [],
   "source": []
  },
  {
   "cell_type": "markdown",
   "metadata": {},
   "source": [
    "# Pre process data for analysis "
   ]
  },
  {
   "cell_type": "code",
   "execution_count": null,
   "metadata": {},
   "outputs": [],
   "source": [
    "file_types=trl_df['image_type'].unique()\n",
    "pat_nos=trl_df['patient_id'].unique()\n",
    "org_types=trl_df['organ_type'].unique()\n",
    "\n"
   ]
  },
  {
   "cell_type": "code",
   "execution_count": null,
   "metadata": {},
   "outputs": [],
   "source": [
    "trl_df.keys()"
   ]
  },
  {
   "cell_type": "code",
   "execution_count": null,
   "metadata": {},
   "outputs": [],
   "source": [
    "file_types"
   ]
  },
  {
   "cell_type": "code",
   "execution_count": null,
   "metadata": {},
   "outputs": [],
   "source": [
    "grouped_img_type_vs_org = trl_df.groupby(['image_type', 'organ_type']).agg({'tmp_area': ['mean','min','max','var']})\n",
    "grouped_img_type_vs_org"
   ]
  },
  {
   "cell_type": "markdown",
   "metadata": {},
   "source": [
    "# Visualise results for analysis organ analysis"
   ]
  },
  {
   "cell_type": "code",
   "execution_count": null,
   "metadata": {},
   "outputs": [],
   "source": [
    "grouped_img_type_vs_org_slice_id = trl_df.groupby(['image_type', 'organ_type','slice_id']).agg({'tmp_area': ['mean','min','max','var']})\n",
    "grouped_img_type_vs_org_slice_id"
   ]
  },
  {
   "cell_type": "code",
   "execution_count": null,
   "metadata": {},
   "outputs": [],
   "source": [
    "sns.catplot(ax=ax,x='image_type',y='tmp_area',hue='organ_type',data=trl_df,kind='box')\n",
    "ax.set_xlabel('Image type',fontsize=20)\n",
    "ax.set_ylabel('Organ contour area (pixel values)',fontsize=20)\n",
    "figure.savefig('boxplot_img_type_vs_tmp_area_vs_org_type.jpeg',dpi=dpi_sp)"
   ]
  },
  {
   "cell_type": "code",
   "execution_count": null,
   "metadata": {},
   "outputs": [],
   "source": [
    "trl_df.loc[(trl_df['image_type']=='t2spir_data')&(trl_df['image_type']=='t1dual_inphase'),:]"
   ]
  },
  {
   "cell_type": "code",
   "execution_count": null,
   "metadata": {},
   "outputs": [],
   "source": []
  },
  {
   "cell_type": "code",
   "execution_count": null,
   "metadata": {},
   "outputs": [],
   "source": [
    "gen_boxplot(trl_df[(trl_df['image_type']=='t1dual_inphase')|(trl_df['image_type']=='t2spir_data')],\n",
    "            'image_type','tmp_area','Image type','Organ contour area (pixel values)',\n",
    "            'boxplot_img_type_2_vs_tmp_area_vs_org_type.jpeg','organ_type',fig_dim=(20,20),\n",
    "                dpi_sp=600,fontsize_sp=25,tick_f_size_sp=20)"
   ]
  },
  {
   "cell_type": "code",
   "execution_count": null,
   "metadata": {},
   "outputs": [],
   "source": [
    "gen_boxplot(trl_df,'image_type','tmp_area','Image type','Organ contour area (pixel values)',\n",
    "            'boxplot_img_type_vs_tmp_area_vs_org_type.jpeg','organ_type',fig_dim=(20,20),\n",
    "                dpi_sp=600,fontsize_sp=25,tick_f_size_sp=20)\n",
    "\n",
    "gen_boxplot(trl_df[trl_df['image_type']=='t1dual_outphase'],'patient_id','tmp_area',\n",
    "            'Image type','Organ contour area (pixel values)',\n",
    "            'boxplot_t1dual_outphase_pat_id_vs_tmp_area_vs_org_type.jpeg',\n",
    "            'organ_type',fig_dim=(20,20),dpi_sp=600,fontsize_sp=25,tick_f_size_sp=20)\n",
    "\n",
    "gen_boxplot(trl_df[trl_df['image_type']=='t1dual_inphase'],'patient_id','tmp_area',\n",
    "            'Image type','Organ contour area (pixel values)',\n",
    "            'boxplot_t1dual_inphase_pat_id_vs_tmp_area_vs_org_type.jpeg',\n",
    "            'organ_type',fig_dim=(20,20),dpi_sp=600,fontsize_sp=25,tick_f_size_sp=20)\n",
    "\n",
    "gen_boxplot(trl_df[trl_df['image_type']=='t2spir_data'],'patient_id','tmp_area',\n",
    "            'Image type','Organ contour area (pixel values)',\n",
    "            'boxplot_t2spir_pat_id_vs_tmp_area_vs_org_type.jpeg',\n",
    "            'organ_type',fig_dim=(20,20),dpi_sp=600,fontsize_sp=25,tick_f_size_sp=20)"
   ]
  },
  {
   "cell_type": "code",
   "execution_count": null,
   "metadata": {},
   "outputs": [],
   "source": [
    "gen_lineplot(trl_df[trl_df['image_type']=='t1dual_outphase'],\n",
    "             'patient_id','tmp_area','Patient ID','Organ contour area (pixel values)',\n",
    "             'lineplot_t1dual_outphase_pat_id_vs_tmp_area_vs_org_type.jpeg','organ_type',\n",
    "                 fig_dim=(20,20),dpi_sp=600,fontsize_sp=20,tick_f_size_sp=16)\n",
    "\n",
    "gen_lineplot(trl_df[trl_df['image_type']=='t1dual_inphase'],\n",
    "             'patient_id','tmp_area','Patient ID','Organ contour area (pixel values)',\n",
    "             'lineplot_t1dual_inphase_pat_id_vs_tmp_area_vs_org_type.jpeg','organ_type',\n",
    "                 fig_dim=(20,20),dpi_sp=600,fontsize_sp=20,tick_f_size_sp=16)\n",
    "\n",
    "gen_lineplot(trl_df[trl_df['image_type']=='t2spir_data'],\n",
    "             'patient_id','tmp_area','Patient ID','Organ contour area (pixel values)',\n",
    "             'lineplot_t2spir_inphase_pat_id_vs_tmp_area_vs_org_type.jpeg','organ_type',\n",
    "                 fig_dim=(20,20),dpi_sp=600,fontsize_sp=20,tick_f_size_sp=16)"
   ]
  },
  {
   "cell_type": "code",
   "execution_count": null,
   "metadata": {},
   "outputs": [],
   "source": [
    "gen_lineplot(trl_df[trl_df['image_type']=='t1dual_outphase'],\n",
    "             'slice_id','tmp_area','MRI Slice No','Organ contour area (pixel values)',\n",
    "             'lineplot_t1dual_outphase_slc_no_vs_tmp_area_vs_org_type.jpeg','organ_type',\n",
    "                 fig_dim=(20,20),dpi_sp=600,fontsize_sp=20,tick_f_size_sp=16)\n",
    "\n",
    "gen_lineplot(trl_df[trl_df['image_type']=='t1dual_inphase'],\n",
    "             'slice_id','tmp_area','MRI Slice No','Organ contour area (pixel values)',\n",
    "             'lineplot_t1dual_inphase_slc_no_vs_tmp_area_vs_org_type.jpeg','organ_type',\n",
    "                 fig_dim=(20,20),dpi_sp=600,fontsize_sp=20,tick_f_size_sp=16)\n",
    "\n",
    "gen_lineplot(trl_df[trl_df['image_type']=='t2spir_data'],\n",
    "             'slice_id','tmp_area','MRI Slice No','Organ contour area (pixel values)',\n",
    "             'lineplot_t2spir_inphase_slc_no_vs_tmp_area_vs_org_type.jpeg','organ_type',\n",
    "                 fig_dim=(20,20),dpi_sp=600,fontsize_sp=20,tick_f_size_sp=16)"
   ]
  },
  {
   "cell_type": "code",
   "execution_count": 125,
   "metadata": {},
   "outputs": [],
   "source": [
    "def gen_boxplot(df_set,x_val_col,y_val_col,xlabel,ylabel,fig_f_name,hue_col=None,fig_dim=(20,20),\n",
    "                dpi_sp=600,fontsize_sp=20,tick_f_size_sp=30):\n",
    "    \"\"\"the purpose of this method i sto generate boxplots in a uniform manner\"\"\"\n",
    "    \n",
    "    fig, ax=plt.subplots(figsize=fig_dim)\n",
    "\n",
    "    sns.catplot(ax=ax,x=x_val_col,y=y_val_col,hue=hue_col,data=df_set,kind='box')\n",
    "    #Generate x and y labels\n",
    "    ax.legend(fontsize='22', title_fontsize='20')\n",
    "    ax.set_xlabel(xlabel,fontsize=fontsize_sp)\n",
    "    ax.set_ylabel(ylabel,fontsize=fontsize_sp)\n",
    "    ax.tick_params(labelsize=tick_f_size_sp)\n",
    "    \n",
    "    figure = ax.get_figure()    \n",
    "    figure.savefig(fig_f_name,dpi=dpi_sp)\n",
    "    "
   ]
  },
  {
   "cell_type": "code",
   "execution_count": 124,
   "metadata": {},
   "outputs": [],
   "source": [
    "def gen_lineplot(df_set,x_val_col,y_val_col,xlabel,ylabel,fig_f_name,hue_col=None,\n",
    "                 fig_dim=(20,20),dpi_sp=600,fontsize_sp=20,tick_f_size_sp=16):\n",
    "    \n",
    "    fig, ax=plt.subplots(figsize=fig_dim)\n",
    "    \n",
    "        \n",
    "    sns.lineplot(ax=ax,x=x_val_col,y=y_val_col,hue=hue_col,data=df_set)\n",
    "    \n",
    "    \n",
    "    ax.legend(fontsize='22', title_fontsize='20')\n",
    "    ax.set_xlabel(xlabel,fontsize=fontsize_sp)\n",
    "    ax.set_ylabel(ylabel,fontsize=fontsize_sp)\n",
    "    ax.tick_params(labelsize=tick_f_size_sp)\n",
    "    \n",
    "    figure = ax.get_figure()    \n",
    "    figure.savefig(fig_f_name,dpi=dpi_sp)\n",
    "    \n"
   ]
  },
  {
   "cell_type": "code",
   "execution_count": null,
   "metadata": {},
   "outputs": [],
   "source": [
    "def bytescaling(data, cmin=None, cmax=None, high=255, low=0):\n",
    "    \"\"\"\n",
    "    Converting the input image to uint8 dtype and scaling\n",
    "    the range to ``(low, high)`` (default 0-255). If the input image already has \n",
    "    dtype uint8, no scaling is done.\n",
    "    :param data: 16-bit image data array\n",
    "    :param cmin: bias scaling of small values (def: data.min())\n",
    "    :param cmax: bias scaling of large values (def: data.max())\n",
    "    :param high: scale max value to high. (def: 255)\n",
    "    :param low: scale min value to low. (def: 0)\n",
    "    :return: 8-bit image data array\n",
    "    \"\"\"\n",
    "    if data.dtype == np.uint8:\n",
    "        return data\n",
    "\n",
    "    if high > 255:\n",
    "        high = 255\n",
    "    if low < 0:\n",
    "        low = 0\n",
    "    if high < low:\n",
    "        raise ValueError(\"`high` should be greater than or equal to `low`.\")\n",
    "\n",
    "    if cmin is None:\n",
    "        cmin = data.min()\n",
    "    if cmax is None:\n",
    "        cmax = data.max()\n",
    "\n",
    "    cscale = cmax - cmin\n",
    "    if cscale == 0:\n",
    "        cscale = 1\n",
    "\n",
    "    scale = float(high - low) / cscale\n",
    "    bytedata = (data - cmin) * scale + low\n",
    "    return (bytedata.clip(low, high) + 0.5).astype(np.uint8)"
   ]
  },
  {
   "cell_type": "markdown",
   "metadata": {},
   "source": [
    "# Visualise results for Organ intensity"
   ]
  },
  {
   "cell_type": "code",
   "execution_count": 44,
   "metadata": {},
   "outputs": [],
   "source": [
    "img_types=['t2spir','t1dual_inphase','t1dual_outphase']\n",
    "organs=['background','liver','right kidney','left kidney','r_kidney','spleen','l_kidney']\n",
    "Pat_str='patient_id_'\n",
    "pat_id_lst=['t1d','t2s']\n",
    "dir_pth='F:\\Biomedical images\\Train\\mask_orgn_spec_img'"
   ]
  },
  {
   "cell_type": "markdown",
   "metadata": {},
   "source": [
    "## Image organ extraction functions"
   ]
  },
  {
   "cell_type": "code",
   "execution_count": null,
   "metadata": {},
   "outputs": [],
   "source": [
    "def div_patches_img(tmp_img_255,pat_size=(3,3)):\n",
    "    \"\"\"The purpose of this method is to divide patch of an imageinto sections and filter off mainly black background pieces\n",
    "    for variance mean etc statisitcal analysis.\"\"\"\n",
    "    patches = image.extract_patches_2d(tmp_img_255, pat_size)\n",
    "    bool_set=np.any(patches!=0,axis=(1,2))\n",
    "    return patches[bool_set,:,:]\n",
    "\n",
    "def np_stat_sum(tmp_img_pat):\n",
    "    \"\"\"The purpose of this method is to perform statical analysis in regards to numpy statisicall summayr analysis\"\"\"\n",
    "    \n",
    "    return (tmp_img_pat.mean(),np.median(tmp_img_pat),np.var(tmp_img_pat.flatten()),\n",
    "           np.min(tmp_img_pat),np.max(tmp_img_pat))"
   ]
  },
  {
   "cell_type": "code",
   "execution_count": null,
   "metadata": {},
   "outputs": [],
   "source": [
    "def dict_concat_np(dict_set,array_key,array):\n",
    "    \"\"\"The purpose of this method is to perform numpy concatenation between arrays\"\"\"\n",
    "    \n",
    "    if array_key in dict_set.keys():        \n",
    "        dict_set[array_key]=np.concatenate((dict_set[array_key],\n",
    "                                           array.flatten()))\n",
    "    else:\n",
    "        dict_set[array_key]=array.flatten()\n",
    "        \n",
    "    return dict_set\n",
    "\n",
    "def gen_np_dict(dict_set,dict_name):\n",
    "    \"\"\"Generate dictionary set json\"\"\"\n",
    "    np.save(dict_name,dict_set)"
   ]
  },
  {
   "cell_type": "code",
   "execution_count": null,
   "metadata": {},
   "outputs": [],
   "source": [
    "cd F:\\Biomedical images\\Train\\EDA info"
   ]
  },
  {
   "cell_type": "markdown",
   "metadata": {},
   "source": [
    "## Write /aggregate organ intensity's to numpy dict files for analysis and visualisation "
   ]
  },
  {
   "cell_type": "code",
   "execution_count": null,
   "metadata": {},
   "outputs": [],
   "source": [
    "#Iterate through for files in directory path. \n",
    "Analysis_lst=[]\n",
    "\n",
    "per_img_pat_org={}\n",
    "per_img_slc_org={}\n",
    "per_img_org={}\n",
    "\n",
    "for file in glob.glob(dir_pth+'/*.png'):\n",
    "    #print(file)\n",
    "    tmp_img=imageio.imread(file)\n",
    "    \n",
    "    img=[x for x in img_types if file.lower().find(x)!=-1]\n",
    "    organ=[y for y in organs if file.lower().find(y)!=-1]\n",
    "    #Patient id determined from \n",
    "    file_idx=[file.lower().find(x) for x in pat_id_lst if file.lower().find(x)!=-1]\n",
    "    Pat_id_act=file[file.lower().find(Pat_str)+len(Pat_str):file_idx[0]]\n",
    "    #Getting slice no from file name\n",
    "    slic_no_uppr_bnd=file.lower().find('uint8.png')\n",
    "    slic_no_lwr_bnd=file.lower().rfind('mask_')\n",
    "    slice_no=file[slic_no_lwr_bnd+len('mask_'):slic_no_uppr_bnd]\n",
    "    \n",
    "        #Dividing image into patches\n",
    "    tmp_img_pat=div_patches_img(tmp_img)\n",
    "    try:        \n",
    "        #Getting statistics\n",
    "        mean,median,var,min_val,max_val=np_stat_sum(tmp_img_pat)\n",
    "        #Generating list for analysis\n",
    "        \n",
    "        \n",
    "    except ValueError as e:\n",
    "        print('val error')\n",
    "        print(tmp_img_pat.shape)\n",
    "        tmp_img_pat=div_patches_img(tmp_img,(2,2))\n",
    "        print(tmp_img_pat.shape)\n",
    "        if tmp_img_pat.shape[0]!=0:\n",
    "            #Getting statistics\n",
    "            mean,median,var,min_val,max_val=np_stat_sum(tmp_img_pat)\n",
    "        else:\n",
    "            tmp_img_pat=div_patches_img(tmp_img,(1,1))\n",
    "            #mean,median,var,min_val,max_val=np_stat_sum(tmp_img_pat)\n",
    "    \n",
    "    \n",
    "    img_pat_org_key=img[0]+'_'+organ[0]+'_'+Pat_id_act\n",
    "    img_pat_slc_key=img[0]+'_'+organ[0]+'_'+slice_no\n",
    "    per_img_org_key=img[0]+'_'+organ[0]\n",
    "    \n",
    "    per_img_pat_org=dict_concat_np(per_img_pat_org,img_pat_org_key,tmp_img_pat)\n",
    "    per_img_slc_org=dict_concat_np(per_img_slc_org,img_pat_slc_key,tmp_img_pat)\n",
    "    per_img_org=dict_concat_np(per_img_org,per_img_org_key,tmp_img_pat)"
   ]
  },
  {
   "cell_type": "code",
   "execution_count": null,
   "metadata": {},
   "outputs": [],
   "source": [
    "\n",
    "gen_np_dict(per_img_pat_org,'per_img_per_pat_org_arrs_dict.npy')\n",
    "gen_np_dict(per_img_slc_org,'per_img_per_slc_org_arrs_dict.npy')\n",
    "gen_np_dict(per_img_org,'per_img_org_arrs_dict.npy')"
   ]
  },
  {
   "cell_type": "markdown",
   "metadata": {},
   "source": [
    "## Load numpy dictionary for visualisation"
   ]
  },
  {
   "cell_type": "code",
   "execution_count": null,
   "metadata": {},
   "outputs": [],
   "source": [
    "per_img_pat_org=np.load('per_img_per_pat_org_arrs_dict.npy').all()\n",
    "per_img_slc_org=np.load('per_img_per_slc_org_arrs_dict.npy').all()\n",
    "per_img_org=np.load('per_img_org_arrs_dict.npy').all()"
   ]
  },
  {
   "cell_type": "code",
   "execution_count": null,
   "metadata": {},
   "outputs": [],
   "source": []
  },
  {
   "cell_type": "markdown",
   "metadata": {},
   "source": [
    "## Visualisation functions"
   ]
  },
  {
   "cell_type": "code",
   "execution_count": null,
   "metadata": {},
   "outputs": [],
   "source": [
    "def gen_man_clr_palette(filt_df:pd.DataFrame,col_str:str,clr_palette_dict:dict)->list:\n",
    "    \"\"\"Generate manual colour palette based on dictionary for applying to seaborn boxplots\"\"\"\n",
    "    man_colour_palette=[]\n",
    "    #Iterating through dataframe columns and returning generic dicitonary of values. \n",
    "    for org_types in list(filt_df[col_str]):\n",
    "        man_colour_palette.append(clr_palette_dict[org_types])\n",
    "        \n",
    "    return man_colour_palette"
   ]
  },
  {
   "cell_type": "code",
   "execution_count": null,
   "metadata": {},
   "outputs": [],
   "source": [
    "def gen_man_xtick_lbls(filt_df:pd.DataFrame,col_name:str,xtick_step_size:tuple)->list:\n",
    "    #Creating custom xticks for analysis\n",
    "    xtick_lst=list(filt_df[col_name])\n",
    "    \n",
    "    return [s if (i+xtick_step_size[0])%xtick_step_size[1]==0 else '' for i,s in enumerate(xtick_lst)]"
   ]
  },
  {
   "cell_type": "code",
   "execution_count": null,
   "metadata": {},
   "outputs": [],
   "source": [
    "def gen_np_df_boxplot(filt_df:pd.DataFrame,array_col:str,xtick_labels:list,\n",
    "                   hue_clr_palette:list,uniq_clr_palette:dict,x_axis_lbl:str,y_axis_lbl:str,\n",
    "                   fig_dim=(30,30),lgd_x_y_axis_font_size='22',tick_font_size=20):\n",
    "    \"\"\"the purpose of this method is to generate a plot using a numpy array column in a dataframe with manual colour palette\n",
    "    and x tick label inputs for analysisas seaborn does not work well with wide data sets. \"\"\"\n",
    "    \n",
    "    fig,ax=plt.subplots(figsize=fig_dim)\n",
    "\n",
    "    sns.boxplot(ax=ax,data=list(filt_df[array_col]),palette=hue_clr_palette)\n",
    "\n",
    "    ax.set_xticklabels(xtick_labels)\n",
    "    markers = [plt.Line2D([0,0],[0,0],color=color, marker='o', linestyle='') for color in uniq_clr_palette.values()]\n",
    "    ax.legend(markers, uniq_clr_palette.keys(), numpoints=1,loc=1,\n",
    "              fontsize=lgd_x_y_axis_font_size, title_fontsize='20',facecolor='white', framealpha=1)\n",
    "\n",
    "    ax.set_xlabel(x_axis_lbl,fontsize=lgd_x_y_axis_font_size)\n",
    "    ax.set_ylabel(y_axis_lbl,fontsize=lgd_x_y_axis_font_size)\n",
    "\n",
    "    ax.tick_params(labelsize=tick_font_size)"
   ]
  },
  {
   "cell_type": "code",
   "execution_count": null,
   "metadata": {},
   "outputs": [],
   "source": [
    "def gen_np_df_lineplot(filt_df:pd.DataFrame,array_col:str,xtick_labels:list,\n",
    "                   hue_clr_palette:list,uniq_clr_palette:dict,x_axis_lbl:str,y_axis_lbl:str,\n",
    "                   fig_dim=(30,30),lgd_x_y_axis_font_size='22',tick_font_size=20):\n",
    "    \"\"\"the purpose of this method is to generate a plot using a numpy array column in a dataframe with manual colour palette\n",
    "    and x tick label inputs for analysisas seaborn does not work well with wide data sets. \"\"\"\n",
    "    \n",
    "    fig,ax=plt.subplots(figsize=fig_dim)\n",
    "\n",
    "    sns.lineplot(ax=ax,data=list(filt_df[array_col]))\n",
    "\n",
    "    ax.set_xticklabels(xtick_labels)\n",
    "    markers = [plt.Line2D([0,0],[0,0],color=color, marker='o', linestyle='') for color in uniq_clr_palette.values()]\n",
    "    ax.legend(markers, uniq_clr_palette.keys(), numpoints=1,loc=1,\n",
    "              fontsize=lgd_x_y_axis_font_size, title_fontsize='20',facecolor='white', framealpha=1)\n",
    "\n",
    "    ax.set_xlabel(x_axis_lbl,fontsize=lgd_x_y_axis_font_size)\n",
    "    ax.set_ylabel(y_axis_lbl,fontsize=lgd_x_y_axis_font_size)\n",
    "\n",
    "    ax.tick_params(labelsize=tick_font_size)"
   ]
  },
  {
   "cell_type": "code",
   "execution_count": null,
   "metadata": {},
   "outputs": [],
   "source": [
    "def gen_man_lineplot_with_err_bars(filt_df:pd.DataFrame,cat_col_str:str,\n",
    "                                   x_cat_col_str:str,y_cat_col_str:str,x_lbl_txt,y_lbl_txt,cat_filt_list=['background'],\n",
    "                                   x_y_lbl_fontsize=20,tick_fontsize=15,figdim=(20,20))->plt.figure:\n",
    "    \"\"\"the purpose of this method to generate manual error bars based on manual numpy array lists\"\"\"\n",
    "    plt.figure(figsize=figdim)\n",
    "    \n",
    "    for vals in filt_df[cat_col_str].unique():\n",
    "\n",
    "        if vals.lower() not in cat_filt_list:\n",
    "\n",
    "            filt_df_org=filt_df[filt_df[cat_col_str]==vals].sort_values(x_cat_col_str)\n",
    "\n",
    "            y_val=[np.median(x) for x in filt_df_org[y_cat_col_str]]\n",
    "            x_val=[y for y in filt_df_org[x_cat_col_str]]\n",
    "            y_val_err=[3*np.std(y) for y in filt_df_org[y_cat_col_str]]\n",
    "            plt.errorbar(x_val, y_val, y_val_err,label=vals,alpha=0.5,\n",
    "                         capsize=8,elinewidth=2,markeredgewidth=2)\n",
    "    plt.grid(True)\n",
    "    plt.legend(loc=0,fontsize=x_y_lbl_fontsize)\n",
    "    plt.xlabel(x_lbl_txt,fontsize=x_y_lbl_fontsize)\n",
    "    plt.ylabel(y_lbl_txt,fontsize=20)\n",
    "    plt.tick_params(labelsize=tick_fontsize)\n",
    "    "
   ]
  },
  {
   "cell_type": "markdown",
   "metadata": {},
   "source": [
    "## Per image type analysis"
   ]
  },
  {
   "cell_type": "code",
   "execution_count": null,
   "metadata": {},
   "outputs": [],
   "source": [
    "per_img_org"
   ]
  },
  {
   "cell_type": "code",
   "execution_count": null,
   "metadata": {},
   "outputs": [],
   "source": [
    "per_img_slc_org_idx=[]\n",
    "\n",
    "for k,v in per_img_org.items():\n",
    "    #Image set for analysis\n",
    "    #ipdb.set_trace()\n",
    "    img=[x for x in img_types if k.lower().find(x)!=-1]\n",
    "    #Organ set for analysis\n",
    "    organ=[y for y in organs if k.lower().find(y)!=-1]\n",
    "    \n",
    "    #mean,median,var,min_val,max_val=np_stat_sum(v)\n",
    "    \n",
    "    per_img_slc_org_idx.append([img[0],organ[0],v])\n",
    "\n",
    "per_img_org_df=pd.DataFrame(per_img_slc_org_idx,columns=['image_type','organ','array'])"
   ]
  },
  {
   "cell_type": "code",
   "execution_count": null,
   "metadata": {},
   "outputs": [],
   "source": [
    "\n",
    "\n",
    "xtick_set=gen_man_xtick_lbls(per_img_org_df,'image_type',(3,5))\n",
    "\n",
    "man_clr_palette=gen_man_clr_palette(per_img_org_df,'organ',flatui_palette_code)\n",
    "\n",
    "gen_np_df_boxplot(per_img_org_df,'array',xtick_set,\n",
    "                   man_clr_palette,flatui_palette_code,'Image type','8 bit grey scale intensity level',\n",
    "                   fig_dim=(30,30),lgd_x_y_axis_font_size='22',tick_font_size=20)\n",
    "\n",
    "final_fig=plt.gcf()\n",
    "\n",
    "file_name='boxplot_org_hue_img_type_vs_8bit_greyscale_int_img_type_'+img_types+'.jpeg'\n",
    "\n",
    "final_fig.savefig(file_name,dpi=600)"
   ]
  },
  {
   "cell_type": "code",
   "execution_count": null,
   "metadata": {},
   "outputs": [],
   "source": [
    "file_name='boxplot_org_hue_img_type_vs_8bit_greyscale_int_img_type.jpeg'\n",
    "\n",
    "final_fig.savefig(file_name,dpi=600)"
   ]
  },
  {
   "cell_type": "markdown",
   "metadata": {},
   "source": [
    "## Per image slice analysis "
   ]
  },
  {
   "cell_type": "code",
   "execution_count": null,
   "metadata": {},
   "outputs": [],
   "source": [
    "per_img_slc_org_idx"
   ]
  },
  {
   "cell_type": "code",
   "execution_count": null,
   "metadata": {},
   "outputs": [],
   "source": [
    "per_img_slc_org_idx=[]\n",
    "\n",
    "for k,v in per_img_slc_org.items():\n",
    "    ipdb.set_trace()\n",
    "    #Image set for analysis\n",
    "    img=[x for x in img_types if k.lower().find(x)!=-1]\n",
    "    #Organ set for analysis\n",
    "    organ=[y for y in organs if k.lower().find(y)!=-1]\n",
    "    #Patient id \n",
    "    pat_id=int(k.split('_')[-1])\n",
    "    \n",
    "    #mean,median,var,min_val,max_val=np_stat_sum(v)\n",
    "    \n",
    "    per_img_slc_org_idx.append([img[0],organ[0],pat_id,v])\n",
    "\n",
    "per_img_slc_no_org_df=pd.DataFrame(per_img_slc_org_idx,columns=['image_type','organ','slc_no','array'])"
   ]
  },
  {
   "cell_type": "code",
   "execution_count": null,
   "metadata": {},
   "outputs": [],
   "source": [
    "per_img_slc_no_org_df.head()"
   ]
  },
  {
   "cell_type": "code",
   "execution_count": null,
   "metadata": {},
   "outputs": [],
   "source": [
    "per_img_slc_no_org_df.to_excel('per_img_per_slc_no_int_arr_df.xlsx')"
   ]
  },
  {
   "cell_type": "code",
   "execution_count": null,
   "metadata": {},
   "outputs": [],
   "source": [
    "flatui_palette_code= {'background':\"#9b59b6\",'left kidney':\"#3498db\",\n",
    "          'right kidney':\"#e74c3c\",'spleen':\"#34495e\",'liver':\"#2ecc71\"}"
   ]
  },
  {
   "cell_type": "code",
   "execution_count": null,
   "metadata": {},
   "outputs": [],
   "source": [
    "per_img_pat_org_df.to_excel('per_img_per_pat_int_arr_df.xlsx')"
   ]
  },
  {
   "cell_type": "code",
   "execution_count": null,
   "metadata": {},
   "outputs": [],
   "source": [
    "per_img_slc_no_org_df['image_type'].unique()"
   ]
  },
  {
   "cell_type": "markdown",
   "metadata": {},
   "source": [
    "### Analysis on slice no and array values"
   ]
  },
  {
   "cell_type": "code",
   "execution_count": null,
   "metadata": {},
   "outputs": [],
   "source": [
    "for imgs in per_img_slc_no_org_df['image_type'].unique():\n",
    "        \n",
    "    filt_df=per_img_slc_no_org_df[per_img_slc_no_org_df['image_type']==imgs]\n",
    "\n",
    "    gen_man_lineplot_with_err_bars(filt_df,'organ',\n",
    "                                       'slc_no','array','Slice No.','8 bit grey level intensity')\n",
    "    \n",
    "    final_fig=plt.gcf()\n",
    "\n",
    "    file_name='lineplot_org_hue_slice_no_vs_8bit_greyscale_int_img_type_median_'+imgs+'.jpeg'\n",
    "\n",
    "    final_fig.savefig(file_name,dpi=600)\n",
    "    \n",
    "    "
   ]
  },
  {
   "cell_type": "markdown",
   "metadata": {},
   "source": [
    "### Analysis on patient id and array intensity values"
   ]
  },
  {
   "cell_type": "code",
   "execution_count": null,
   "metadata": {},
   "outputs": [],
   "source": [
    "#Generating per patient images. \n",
    "for img_types in per_img_pat_org_df['image_type'].unique():\n",
    "    \n",
    "    print(img_types)\n",
    "\n",
    "    filt_df=per_img_pat_org_df[per_img_pat_org_df['image_type']==img_types]\n",
    "\n",
    "    xtick_set=gen_man_xtick_lbls(filt_df,'patient_id',(3,5))\n",
    "\n",
    "    man_clr_palette=gen_man_clr_palette(filt_df,'organ',flatui_palette_code)\n",
    "\n",
    "    gen_np_df_boxplot(filt_df,'array',xtick_set,\n",
    "                       man_clr_palette,flatui_palette_code,'Patient ID','8 bit grey scale intensity level',\n",
    "                       fig_dim=(30,30),lgd_x_y_axis_font_size='22',tick_font_size=20)\n",
    "\n",
    "    final_fig=plt.gcf()\n",
    "\n",
    "    file_name='boxplot_org_hue_pat_id_vs_8bit_greyscale_int_img_type_'+img_types+'.jpeg'\n",
    "\n",
    "    final_fig.savefig(file_name,dpi=600)\n",
    "    "
   ]
  },
  {
   "cell_type": "code",
   "execution_count": null,
   "metadata": {},
   "outputs": [],
   "source": [
    "for img_types in per_img_pat_org_df['image_type'].unique():\n",
    "        \n",
    "    print(img_types)\n",
    "\n",
    "    filt_df=per_img_pat_org_df[per_img_pat_org_df['image_type']==img_types]\n",
    "\n",
    "    xtick_set=gen_man_xtick_lbls(filt_df,'patient_id',(3,5))\n",
    "\n",
    "    man_clr_palette=gen_man_clr_palette(filt_df,'organ',flatui_palette_code)\n",
    "\n",
    "    gen_np_df_boxplot(filt_df,'array',xtick_set,\n",
    "                       man_clr_palette,flatui_palette_code,'Patient ID','8 bit grey scale intensity level',\n",
    "                       fig_dim=(30,30),lgd_x_y_axis_font_size='22',tick_font_size=20)\n",
    "\n",
    "    final_fig=plt.gcf()\n",
    "\n",
    "    file_name='boxplot_org_hue_pat_id_vs_8bit_greyscale_int_img_type_'+img_types+'.jpeg'\n",
    "\n",
    "    final_fig.savefig(file_name,dpi=600)"
   ]
  },
  {
   "cell_type": "code",
   "execution_count": null,
   "metadata": {},
   "outputs": [],
   "source": []
  },
  {
   "cell_type": "code",
   "execution_count": null,
   "metadata": {},
   "outputs": [],
   "source": [
    "fig,ax=plt.subplots(figsize=(30,30))\n",
    "\n",
    "sns.boxplot(ax=ax,data=list(filt_df['array']),palette=colour_palette)\n",
    "\n",
    "ax.set_xticklabels(pat_id_lst_subsample)\n",
    "markers = [plt.Line2D([0,0],[0,0],color=color, marker='o', linestyle='') for color in flatui_palette_code.values()]\n",
    "ax.legend(markers, flatui_palette_code.keys(), numpoints=1,loc=1,\n",
    "          fontsize='22', title_fontsize='20',facecolor='white', framealpha=1)\n",
    "\n",
    "ax.set_xlabel('Patient ID',fontsize='20')\n",
    "ax.set_ylabel('8 bit pixel intensity',fontsize='20')\n",
    "\n",
    "ax.tick_params(labelsize=20)"
   ]
  },
  {
   "cell_type": "markdown",
   "metadata": {},
   "source": [
    "## Generate distance metrics between different patient distributions"
   ]
  },
  {
   "cell_type": "code",
   "execution_count": null,
   "metadata": {},
   "outputs": [],
   "source": [
    "def gen_filt_dict(dict_orig,dict_vals):\n",
    "    \"\"\"The method to filter dictionary on key values for methods\"\"\"\n",
    "    new_dict=dict()\n",
    "    \n",
    "    for vals in dict_vals:\n",
    "        new_dict[vals]=dict_orig[vals]\n",
    "        \n",
    "    return new_dict"
   ]
  },
  {
   "cell_type": "code",
   "execution_count": 101,
   "metadata": {},
   "outputs": [],
   "source": [
    "def jensen_shannon_distance(p, q):\n",
    "    \"\"\"\n",
    "    method to compute the Jenson-Shannon Distance \n",
    "    between two probability distributions\n",
    "    \"\"\"\n",
    "\n",
    "    # convert the vectors into numpy arrays in case that they aren't\n",
    "    #p = np.array(p)\n",
    "    #q = np.array(q)\n",
    "\n",
    "    # calculate m\n",
    "    m = (p + q) / 2\n",
    "\n",
    "    # compute Jensen Shannon Divergence\n",
    "    divergence = (scipy.stats.entropy(p, m) + scipy.stats.entropy(q, m)) / 2\n",
    "\n",
    "    # compute the Jensen Shannon Distance\n",
    "    distance = np.sqrt(divergence)\n",
    "\n",
    "    return distance"
   ]
  },
  {
   "cell_type": "code",
   "execution_count": null,
   "metadata": {},
   "outputs": [],
   "source": [
    "cd F:\\Results\\EDA\\intensity analysis of images"
   ]
  },
  {
   "cell_type": "code",
   "execution_count": null,
   "metadata": {},
   "outputs": [],
   "source": [
    "per_img_per_pat_dict=np.load('per_img_per_pat_org_arrs_dict.npy').all()"
   ]
  },
  {
   "cell_type": "code",
   "execution_count": null,
   "metadata": {},
   "outputs": [],
   "source": [
    "per_img_per_pat_df=pd.read_excel('per_img_per_pat_int_arr_df.xlsx')"
   ]
  },
  {
   "cell_type": "code",
   "execution_count": 50,
   "metadata": {},
   "outputs": [],
   "source": [
    "per_img_slc_org_idx=[]\n",
    "\n",
    "for k,v in per_img_per_pat_dict.items():\n",
    "    \n",
    "    #Image set for analysis\n",
    "    img=[x for x in img_types if k.lower().find(x)!=-1]\n",
    "    #Organ set for analysis\n",
    "    organ=[y for y in organs if k.lower().find(y)!=-1]\n",
    "    #Patient id \n",
    "    pat_id=int(k.split('_')[-1])\n",
    "    \n",
    "    #mean,median,var,min_val,max_val=np_stat_sum(v)\n",
    "    \n",
    "    per_img_slc_org_idx.append([img[0],organ[0],pat_id,v])\n",
    "\n",
    "per_img_per_pat_df=pd.DataFrame(per_img_slc_org_idx,columns=['image_type','organ','patient_id','array'])"
   ]
  },
  {
   "cell_type": "code",
   "execution_count": 51,
   "metadata": {},
   "outputs": [
    {
     "data": {
      "text/html": [
       "<div>\n",
       "<style scoped>\n",
       "    .dataframe tbody tr th:only-of-type {\n",
       "        vertical-align: middle;\n",
       "    }\n",
       "\n",
       "    .dataframe tbody tr th {\n",
       "        vertical-align: top;\n",
       "    }\n",
       "\n",
       "    .dataframe thead th {\n",
       "        text-align: right;\n",
       "    }\n",
       "</style>\n",
       "<table border=\"1\" class=\"dataframe\">\n",
       "  <thead>\n",
       "    <tr style=\"text-align: right;\">\n",
       "      <th></th>\n",
       "      <th>image_type</th>\n",
       "      <th>organ</th>\n",
       "      <th>slc_no</th>\n",
       "      <th>array</th>\n",
       "    </tr>\n",
       "  </thead>\n",
       "  <tbody>\n",
       "    <tr>\n",
       "      <th>0</th>\n",
       "      <td>t1dual_inphase</td>\n",
       "      <td>background</td>\n",
       "      <td>10</td>\n",
       "      <td>[0, 0, 0, 0, 0, 0, 0, 0, 1, 0, 0, 0, 0, 0, 0, ...</td>\n",
       "    </tr>\n",
       "    <tr>\n",
       "      <th>1</th>\n",
       "      <td>t1dual_inphase</td>\n",
       "      <td>left kidney</td>\n",
       "      <td>10</td>\n",
       "      <td>[0, 0, 0, 0, 0, 0, 0, 0, 199, 0, 0, 0, 0, 0, 0...</td>\n",
       "    </tr>\n",
       "    <tr>\n",
       "      <th>2</th>\n",
       "      <td>t1dual_inphase</td>\n",
       "      <td>liver</td>\n",
       "      <td>10</td>\n",
       "      <td>[0, 0, 0, 0, 0, 0, 0, 0, 225, 0, 0, 0, 0, 0, 0...</td>\n",
       "    </tr>\n",
       "    <tr>\n",
       "      <th>3</th>\n",
       "      <td>t1dual_inphase</td>\n",
       "      <td>right kidney</td>\n",
       "      <td>10</td>\n",
       "      <td>[0, 0, 0, 0, 0, 0, 0, 0, 238, 0, 0, 0, 0, 0, 0...</td>\n",
       "    </tr>\n",
       "    <tr>\n",
       "      <th>4</th>\n",
       "      <td>t1dual_inphase</td>\n",
       "      <td>spleen</td>\n",
       "      <td>10</td>\n",
       "      <td>[0, 0, 0, 0, 0, 0, 0, 0, 203, 0, 0, 0, 0, 0, 0...</td>\n",
       "    </tr>\n",
       "  </tbody>\n",
       "</table>\n",
       "</div>"
      ],
      "text/plain": [
       "       image_type         organ  slc_no  \\\n",
       "0  t1dual_inphase    background      10   \n",
       "1  t1dual_inphase   left kidney      10   \n",
       "2  t1dual_inphase         liver      10   \n",
       "3  t1dual_inphase  right kidney      10   \n",
       "4  t1dual_inphase        spleen      10   \n",
       "\n",
       "                                               array  \n",
       "0  [0, 0, 0, 0, 0, 0, 0, 0, 1, 0, 0, 0, 0, 0, 0, ...  \n",
       "1  [0, 0, 0, 0, 0, 0, 0, 0, 199, 0, 0, 0, 0, 0, 0...  \n",
       "2  [0, 0, 0, 0, 0, 0, 0, 0, 225, 0, 0, 0, 0, 0, 0...  \n",
       "3  [0, 0, 0, 0, 0, 0, 0, 0, 238, 0, 0, 0, 0, 0, 0...  \n",
       "4  [0, 0, 0, 0, 0, 0, 0, 0, 203, 0, 0, 0, 0, 0, 0...  "
      ]
     },
     "execution_count": 51,
     "metadata": {},
     "output_type": "execute_result"
    }
   ],
   "source": [
    "per_img_per_pat_org_df.head()"
   ]
  },
  {
   "cell_type": "code",
   "execution_count": 156,
   "metadata": {},
   "outputs": [],
   "source": [
    "from itertools import combinations,permutations,product\n",
    "import ipdb"
   ]
  },
  {
   "cell_type": "code",
   "execution_count": 154,
   "metadata": {},
   "outputs": [],
   "source": [
    "def reject_outliers(data, m=2):\n",
    "    return data[abs(data - np.mean(data)) < m * np.std(data)]"
   ]
  },
  {
   "cell_type": "code",
   "execution_count": 159,
   "metadata": {},
   "outputs": [],
   "source": [
    "pat_ids=per_img_per_pat_df.patient_id.unique().tolist()\n",
    "img_types=per_img_per_pat_df.image_type.unique().tolist()\n",
    "\n",
    "pat_img_type_combo=list(product(pat_ids,img_types))\n",
    "final_lst=[]\n",
    "for vals in pat_img_type_combo:\n",
    "    #Filtering dataframe based on patient id andimage type\n",
    "    tmp_df=per_img_per_pat_df[(per_img_per_pat_df['patient_id']==vals[0])&(per_img_per_pat_df['image_type']==vals[1])]\n",
    "    #Creating organ based combinations for analysis\n",
    "    tmp_df_orgs=tmp_df['organ'].unique().tolist()\n",
    "    tmp_df_org_combos=list(combinations(tmp_df_orgs,2))\n",
    "    \n",
    "    for orgs_1,orgs_2 in tmp_df_org_combos:\n",
    "        #Generating organ specific array for information. \n",
    "        org_hist_lst_out=[tmp_df.loc[tmp_df['organ']==orgs_1,'array'].all(),tmp_df.loc[tmp_df['organ']==orgs_2,'array'].all()]\n",
    "        #Stripping outliers from dataset for analysis\n",
    "        org_hist_lst=[reject_outliers(data, m=2) for data in org_hist_lst_out]\n",
    "        \n",
    "        org_hist_shp_lst=[x.shape[0] for x in org_hist_lst]\n",
    "        org_max_hist=np.argmax(org_hist_shp_lst)\n",
    "        org_min_hist=np.argmin(org_hist_shp_lst)\n",
    "        #getting shapes of each organ. \n",
    "        org_hist_sampl=org_hist_lst[org_max_hist]\n",
    "        #Gett probaility distributoin of each value in array bsaed on frequency. \n",
    "        org_hist_sampl_pdf = pd.Series(org_hist_sampl)\n",
    "        org_hist_pdf = (org_hist_sampl_pdf.groupby(org_hist_sampl_pdf).transform('count') / len(org_hist_sampl_pdf)).values\n",
    "        #Subsampling of each entryin larger histogram based on PDF based above.\n",
    "        org_hist_sampl_2=np.random.choice(org_hist_sampl,\n",
    "                                        org_hist_shp_lst[org_min_hist])# ,p=np.divide(org_hist_pdf,org_hist_pdf.sum())\n",
    "                      \n",
    "        #Performing disbution measurement using the initial analysis. \n",
    "        tmp_dist_metr=distance.jensenshannon(org_hist_lst[org_min_hist], org_hist_sampl_2)\n",
    "        tmp_list=[vals[1],vals[0],orgs_1,orgs_2,tmp_dist_metr]\n",
    "        final_lst.append(tmp_list)\n",
    "        \n",
    "                                        \n",
    "                         \n",
    "        "
   ]
  },
  {
   "cell_type": "code",
   "execution_count": 131,
   "metadata": {},
   "outputs": [
    {
     "name": "stderr",
     "output_type": "stream",
     "text": [
      "'rm' is not recognized as an internal or external command,\n",
      "operable program or batch file.\n"
     ]
    }
   ],
   "source": [
    "!rm lineplot_t1dual_inphase_patient_id_vs_JSD_dist_vs_org_type.jpeg"
   ]
  },
  {
   "cell_type": "code",
   "execution_count": 103,
   "metadata": {},
   "outputs": [],
   "source": [
    "from scipy.spatial import distance"
   ]
  },
  {
   "cell_type": "code",
   "execution_count": 160,
   "metadata": {},
   "outputs": [
    {
     "data": {
      "text/html": [
       "<div>\n",
       "<style scoped>\n",
       "    .dataframe tbody tr th:only-of-type {\n",
       "        vertical-align: middle;\n",
       "    }\n",
       "\n",
       "    .dataframe tbody tr th {\n",
       "        vertical-align: top;\n",
       "    }\n",
       "\n",
       "    .dataframe thead th {\n",
       "        text-align: right;\n",
       "    }\n",
       "</style>\n",
       "<table border=\"1\" class=\"dataframe\">\n",
       "  <thead>\n",
       "    <tr style=\"text-align: right;\">\n",
       "      <th></th>\n",
       "      <th>Image_type</th>\n",
       "      <th>Patient_ID</th>\n",
       "      <th>Organ1</th>\n",
       "      <th>Organ2</th>\n",
       "      <th>JS distance metric</th>\n",
       "      <th>org_to_org</th>\n",
       "    </tr>\n",
       "  </thead>\n",
       "  <tbody>\n",
       "    <tr>\n",
       "      <th>0</th>\n",
       "      <td>t1dual_inphase</td>\n",
       "      <td>10</td>\n",
       "      <td>background</td>\n",
       "      <td>left kidney</td>\n",
       "      <td>0.520638</td>\n",
       "      <td>background_to_left kidney</td>\n",
       "    </tr>\n",
       "    <tr>\n",
       "      <th>1</th>\n",
       "      <td>t1dual_inphase</td>\n",
       "      <td>10</td>\n",
       "      <td>background</td>\n",
       "      <td>liver</td>\n",
       "      <td>0.476345</td>\n",
       "      <td>background_to_liver</td>\n",
       "    </tr>\n",
       "    <tr>\n",
       "      <th>2</th>\n",
       "      <td>t1dual_inphase</td>\n",
       "      <td>10</td>\n",
       "      <td>background</td>\n",
       "      <td>right kidney</td>\n",
       "      <td>0.523927</td>\n",
       "      <td>background_to_right kidney</td>\n",
       "    </tr>\n",
       "    <tr>\n",
       "      <th>3</th>\n",
       "      <td>t1dual_inphase</td>\n",
       "      <td>10</td>\n",
       "      <td>background</td>\n",
       "      <td>spleen</td>\n",
       "      <td>0.524887</td>\n",
       "      <td>background_to_spleen</td>\n",
       "    </tr>\n",
       "    <tr>\n",
       "      <th>4</th>\n",
       "      <td>t1dual_inphase</td>\n",
       "      <td>10</td>\n",
       "      <td>left kidney</td>\n",
       "      <td>liver</td>\n",
       "      <td>0.280519</td>\n",
       "      <td>left kidney_to_liver</td>\n",
       "    </tr>\n",
       "  </tbody>\n",
       "</table>\n",
       "</div>"
      ],
      "text/plain": [
       "       Image_type  Patient_ID       Organ1        Organ2  JS distance metric  \\\n",
       "0  t1dual_inphase          10   background   left kidney            0.520638   \n",
       "1  t1dual_inphase          10   background         liver            0.476345   \n",
       "2  t1dual_inphase          10   background  right kidney            0.523927   \n",
       "3  t1dual_inphase          10   background        spleen            0.524887   \n",
       "4  t1dual_inphase          10  left kidney         liver            0.280519   \n",
       "\n",
       "                   org_to_org  \n",
       "0   background_to_left kidney  \n",
       "1         background_to_liver  \n",
       "2  background_to_right kidney  \n",
       "3        background_to_spleen  \n",
       "4        left kidney_to_liver  "
      ]
     },
     "execution_count": 160,
     "metadata": {},
     "output_type": "execute_result"
    }
   ],
   "source": [
    "JSD_df_pat_id=pd.DataFrame(final_lst,columns=['Image_type','Patient_ID','Organ1','Organ2','JS distance metric'])\n",
    "\n",
    "JSD_df_pat_id['org_to_org'] = JSD_df_pat_id[['Organ1', 'Organ2']].apply(lambda x: '_to_'.join(x), axis=1)\n",
    "JSD_df_pat_id.head()"
   ]
  },
  {
   "cell_type": "code",
   "execution_count": 137,
   "metadata": {},
   "outputs": [
    {
     "data": {
      "text/plain": [
       "array(['background', 'left kidney', 'liver', 'right kidney'], dtype=object)"
      ]
     },
     "execution_count": 137,
     "metadata": {},
     "output_type": "execute_result"
    }
   ],
   "source": [
    "JSD_df_pat_id['Organ1'].unique()"
   ]
  },
  {
   "cell_type": "code",
   "execution_count": 186,
   "metadata": {},
   "outputs": [
    {
     "ename": "NameError",
     "evalue": "name 'index' is not defined",
     "output_type": "error",
     "traceback": [
      "\u001b[1;31m---------------------------------------------------------------------------\u001b[0m",
      "\u001b[1;31mNameError\u001b[0m                                 Traceback (most recent call last)",
      "\u001b[1;32m<ipython-input-186-7c8c33cf1b0e>\u001b[0m in \u001b[0;36m<module>\u001b[1;34m\u001b[0m\n\u001b[0;32m      4\u001b[0m \u001b[0mtrl_ln3\u001b[0m\u001b[1;33m.\u001b[0m\u001b[0mcolumns\u001b[0m\u001b[1;33m=\u001b[0m\u001b[1;33m[\u001b[0m\u001b[1;34m'background to organ distances'\u001b[0m\u001b[1;33m,\u001b[0m\u001b[1;34m'Inter organ distances'\u001b[0m\u001b[1;33m]\u001b[0m\u001b[1;33m\u001b[0m\u001b[1;33m\u001b[0m\u001b[0m\n\u001b[0;32m      5\u001b[0m \u001b[0mtrl_ln3\u001b[0m\u001b[1;33m[\u001b[0m\u001b[1;34m'Average organ distances'\u001b[0m\u001b[1;33m]\u001b[0m\u001b[1;33m=\u001b[0m\u001b[0mtrl_ln3\u001b[0m\u001b[1;33m[\u001b[0m\u001b[1;33m[\u001b[0m\u001b[1;34m'background to organ distances'\u001b[0m\u001b[1;33m,\u001b[0m\u001b[1;34m'Inter organ distances'\u001b[0m\u001b[1;33m]\u001b[0m\u001b[1;33m]\u001b[0m\u001b[1;33m.\u001b[0m\u001b[0mmean\u001b[0m\u001b[1;33m(\u001b[0m\u001b[0maxis\u001b[0m\u001b[1;33m=\u001b[0m\u001b[1;36m1\u001b[0m\u001b[1;33m)\u001b[0m\u001b[1;33m\u001b[0m\u001b[1;33m\u001b[0m\u001b[0m\n\u001b[1;32m----> 6\u001b[1;33m \u001b[0mtrl_ln3\u001b[0m\u001b[1;33m.\u001b[0m\u001b[0mplot\u001b[0m\u001b[1;33m.\u001b[0m\u001b[0mline\u001b[0m\u001b[1;33m(\u001b[0m\u001b[0mx\u001b[0m\u001b[1;33m=\u001b[0m\u001b[0mindex\u001b[0m\u001b[1;33m.\u001b[0m\u001b[0mvalues\u001b[0m\u001b[1;33m,\u001b[0m\u001b[0my\u001b[0m\u001b[1;33m=\u001b[0m\u001b[1;34m'Average organ distances'\u001b[0m\u001b[1;33m)\u001b[0m\u001b[1;33m\u001b[0m\u001b[1;33m\u001b[0m\u001b[0m\n\u001b[0m\u001b[0;32m      7\u001b[0m \u001b[1;33m\u001b[0m\u001b[0m\n\u001b[0;32m      8\u001b[0m \u001b[0mtrl_ln1\u001b[0m\u001b[1;33m=\u001b[0m\u001b[0mJSD_df_pat_id\u001b[0m\u001b[1;33m[\u001b[0m\u001b[1;33m(\u001b[0m\u001b[0mJSD_df_pat_id\u001b[0m\u001b[1;33m[\u001b[0m\u001b[1;34m'Image_type'\u001b[0m\u001b[1;33m]\u001b[0m\u001b[1;33m==\u001b[0m\u001b[1;34m't1dual_inphase'\u001b[0m\u001b[1;33m)\u001b[0m\u001b[1;33m&\u001b[0m\u001b[1;33m(\u001b[0m\u001b[0mJSD_df_pat_id\u001b[0m\u001b[1;33m[\u001b[0m\u001b[1;34m'Organ1'\u001b[0m\u001b[1;33m]\u001b[0m\u001b[1;33m==\u001b[0m\u001b[1;34m'background'\u001b[0m\u001b[1;33m)\u001b[0m\u001b[1;33m]\u001b[0m\u001b[1;33m.\u001b[0m\u001b[0mgroupby\u001b[0m\u001b[1;33m(\u001b[0m\u001b[1;34m'Patient_ID'\u001b[0m\u001b[1;33m)\u001b[0m\u001b[1;33m.\u001b[0m\u001b[0mmean\u001b[0m\u001b[1;33m(\u001b[0m\u001b[1;33m)\u001b[0m\u001b[1;33m\u001b[0m\u001b[1;33m\u001b[0m\u001b[0m\n",
      "\u001b[1;31mNameError\u001b[0m: name 'index' is not defined"
     ]
    }
   ],
   "source": [
    "trl_ln1=JSD_df_pat_id[(JSD_df_pat_id['Image_type']=='t2spir')&(JSD_df_pat_id['Organ1']=='background')].groupby('Patient_ID').mean()\n",
    "trl_ln2=JSD_df_pat_id[(JSD_df_pat_id['Image_type']=='t2spir')&(JSD_df_pat_id['Organ1']!='background')].groupby('Patient_ID').mean()\n",
    "trl_ln3=df3 = pd.concat([trl_ln1, trl_ln2],axis=1)\n",
    "trl_ln3.columns=['background to organ distances','Inter organ distances']\n",
    "trl_ln3['Average organ distances']=trl_ln3[['background to organ distances','Inter organ distances']].mean(axis=1)\n",
    "trl_ln3.plot.line(x=index.values,y='Average organ distances')\n",
    "\n",
    "trl_ln1=JSD_df_pat_id[(JSD_df_pat_id['Image_type']=='t1dual_inphase')&(JSD_df_pat_id['Organ1']=='background')].groupby('Patient_ID').mean()\n",
    "trl_ln2=JSD_df_pat_id[(JSD_df_pat_id['Image_type']=='t1dual_inphase')&(JSD_df_pat_id['Organ1']!='background')].groupby('Patient_ID').mean()\n",
    "trl_ln3=df3 = pd.concat([trl_ln1, trl_ln2],axis=1)\n",
    "trl_ln3['avrg_inter_org_vs_bckgrnd']=trl_ln3[['JS distance metric','JS distance metric']].mean(axis=1)\n",
    "trl_ln3.plot.line()\n",
    "\n",
    "trl_ln1=JSD_df_pat_id[(JSD_df_pat_id['Image_type']=='t1dual_outphase')&(JSD_df_pat_id['Organ1']=='background')].groupby('Patient_ID').mean()\n",
    "trl_ln2=JSD_df_pat_id[(JSD_df_pat_id['Image_type']=='t1dual_outphase')&(JSD_df_pat_id['Organ1']!='background')].groupby('Patient_ID').mean()\n",
    "trl_ln3=df3 = pd.concat([trl_ln1, trl_ln2],axis=1)\n",
    "trl_ln3['avrg_inter_org_vs_bckgrnd']=trl_ln3[['JS distance metric','JS distance metric']].mean(axis=1)\n",
    "trl_ln3.plot.line()\n",
    "\n",
    "trl_ln1=JSD_df_pat_id[(JSD_df_pat_id['Organ1']=='background')].groupby('Patient_ID').mean()\n",
    "trl_ln2=JSD_df_pat_id[(JSD_df_pat_id['Organ1']!='background')].groupby('Patient_ID').mean()\n",
    "trl_ln3=df3 = pd.concat([trl_ln1, trl_ln2],axis=1)\n",
    "trl_ln3['avrg_inter_org_vs_bckgrnd']=trl_ln3[['JS distance metric','JS distance metric']].mean(axis=1)\n",
    "trl_ln3.plot.line()"
   ]
  },
  {
   "cell_type": "code",
   "execution_count": 209,
   "metadata": {},
   "outputs": [],
   "source": [
    "import shutil\n",
    "dst_path='F:\\Biomedical images\\MR_test\\Labelled test data'\n",
    "pat_no=[2,3,8,39]\n",
    "pat_no_str=['Pat_'+str(x)+'_' for x in pat_no]\n",
    "for root,subdir,files in os.walk(os.getcwd()):\n",
    "    if len(files)>0:\n",
    "        root_split=root.split('\\\\')\n",
    "        \n",
    "        root_split_rejoin='\\\\'.join(root_split[-3:])\n",
    "        tmp_dir=os.path.join(dst_path,root_split_rejoin)\n",
    "        if not os.path.exists(tmp_dir):\n",
    "            os.makedirs(tmp_dir)\n",
    "            \n",
    "        for file in files:\n",
    "            \n",
    "            file_chk=[x for x in pat_no_str if file.find(x)!=-1]\n",
    "            \n",
    "            if len(file_chk)==1:\n",
    "                print(file)\n",
    "                #src_img_path=os.path.join(root,file)\n",
    "                #dst_img_path=os.path.join(tmp_dir,file)\n",
    "                #shutil.move(src_img_path, dst_img_path)\n",
    "            \n",
    "    "
   ]
  },
  {
   "cell_type": "code",
   "execution_count": 214,
   "metadata": {},
   "outputs": [
    {
     "data": {
      "text/plain": [
       "'F:\\\\Biomedical images\\\\Train\\\\NIFTI_MR_512x512 seg_rename'"
      ]
     },
     "execution_count": 214,
     "metadata": {},
     "output_type": "execute_result"
    }
   ],
   "source": [
    "pwd"
   ]
  },
  {
   "cell_type": "code",
   "execution_count": 212,
   "metadata": {},
   "outputs": [
    {
     "data": {
      "text/html": [
       "<div>\n",
       "<style scoped>\n",
       "    .dataframe tbody tr th:only-of-type {\n",
       "        vertical-align: middle;\n",
       "    }\n",
       "\n",
       "    .dataframe tbody tr th {\n",
       "        vertical-align: top;\n",
       "    }\n",
       "\n",
       "    .dataframe thead th {\n",
       "        text-align: right;\n",
       "    }\n",
       "</style>\n",
       "<table border=\"1\" class=\"dataframe\">\n",
       "  <thead>\n",
       "    <tr style=\"text-align: right;\">\n",
       "      <th></th>\n",
       "      <th>Patient_ID</th>\n",
       "      <th>JS distance metric</th>\n",
       "    </tr>\n",
       "  </thead>\n",
       "  <tbody>\n",
       "    <tr>\n",
       "      <th>0</th>\n",
       "      <td>1</td>\n",
       "      <td>0.298417</td>\n",
       "    </tr>\n",
       "    <tr>\n",
       "      <th>1</th>\n",
       "      <td>2</td>\n",
       "      <td>0.223323</td>\n",
       "    </tr>\n",
       "    <tr>\n",
       "      <th>2</th>\n",
       "      <td>3</td>\n",
       "      <td>0.170663</td>\n",
       "    </tr>\n",
       "    <tr>\n",
       "      <th>3</th>\n",
       "      <td>5</td>\n",
       "      <td>0.317322</td>\n",
       "    </tr>\n",
       "    <tr>\n",
       "      <th>4</th>\n",
       "      <td>8</td>\n",
       "      <td>0.219591</td>\n",
       "    </tr>\n",
       "  </tbody>\n",
       "</table>\n",
       "</div>"
      ],
      "text/plain": [
       "   Patient_ID  JS distance metric\n",
       "0           1            0.298417\n",
       "1           2            0.223323\n",
       "2           3            0.170663\n",
       "3           5            0.317322\n",
       "4           8            0.219591"
      ]
     },
     "execution_count": 212,
     "metadata": {},
     "output_type": "execute_result"
    }
   ],
   "source": [
    "trl_df.head()"
   ]
  },
  {
   "cell_type": "code",
   "execution_count": 218,
   "metadata": {},
   "outputs": [
    {
     "data": {
      "image/png": "[encoded data removed]",
      "text/plain": [
       "<Figure size 1440x1440 with 1 Axes>"
      ]
     },
     "metadata": {
      "needs_background": "light"
     },
     "output_type": "display_data"
    }
   ],
   "source": [
    "cond1=JSD_df_pat_id['Image_type']=='t1dual_inphase'\n",
    "cond2=JSD_df_pat_id['Organ1']=='background'\n",
    "cond3=JSD_df_pat_id['Organ1']!='background'\n",
    "trl_df=JSD_df_pat_id[cond3].groupby(['Patient_ID','Image_type'],as_index=False).mean()#cond1&.groupby('Patient_ID',as_index=False).mean()\n",
    "#trl_df['avrg_JD_dist_across_imgs']\n",
    "\n",
    "gen_lineplot(trl_df,\n",
    "            'Patient_ID','JS distance metric','Patient ID','Jensen-Shannon Distance',\n",
    "            'lineplot_patient_id_vs_JSD_dist_vs_img_type_for_grey_lvl_int_agg_pat_img_type_mean.jpeg','Image_type',fig_dim=(20,20),\n",
    "                dpi_sp=600,fontsize_sp=25,tick_f_size_sp=20)\n",
    "\n"
   ]
  },
  {
   "cell_type": "code",
   "execution_count": 251,
   "metadata": {},
   "outputs": [],
   "source": [
    "trl_df=JSD_df_pat_id[cond3].groupby(['Patient_ID','Image_type'],as_index=False).mean()\n",
    "trl_df_mv_avrg=trl_df.groupby('Patient_ID',as_index=False)['JS distance metric'].mean()\n",
    "list_app=[]\n",
    "for vals in trl_df.iterrows():\n",
    "    list_app.append(float(trl_df_mv_avrg.loc[trl_df_mv_avrg['Patient_ID']==vals[1][0],'JS distance metric']))"
   ]
  },
  {
   "cell_type": "code",
   "execution_count": 256,
   "metadata": {},
   "outputs": [],
   "source": [
    "trl_df['Per Patient Average']=list_app\n"
   ]
  },
  {
   "cell_type": "code",
   "execution_count": 151,
   "metadata": {},
   "outputs": [
    {
     "data": {
      "text/plain": [
       "<matplotlib.axes._subplots.AxesSubplot at 0x1829bc7aa90>"
      ]
     },
     "execution_count": 151,
     "metadata": {},
     "output_type": "execute_result"
    },
    {
     "data": {
      "image/png": "[encoded data removed]",
      "text/plain": [
       "<Figure size 432x288 with 1 Axes>"
      ]
     },
     "metadata": {
      "needs_background": "light"
     },
     "output_type": "display_data"
    }
   ],
   "source": [
    "cond1=JSD_df_pat_id['Image_type']=='t1dual_inphase'\n",
    "cond2=JSD_df_pat_id['Organ1']=='background'\n",
    "cond3=JSD_df_pat_id['Organ1']!='background'\n",
    "trl_df=JSD_df_pat_id[cond1&cond3].groupby('Patient_ID',as_index=False).mean()\n",
    "trl_df.plot.scatter('Patient_ID','JS distance metric')"
   ]
  },
  {
   "cell_type": "code",
   "execution_count": null,
   "metadata": {},
   "outputs": [],
   "source": []
  },
  {
   "cell_type": "code",
   "execution_count": null,
   "metadata": {},
   "outputs": [],
   "source": [
    "gen_lineplot(JSD_df_pat_id[JSD_df_pat_id['Image_type']=='t1dual_inphase'].groupby('Patient_ID',as_index=False).mean(),\n",
    "            'Patient_ID','JS distance metric','Patient ID','Jensen-Shannon Distance',\n",
    "            'lineplot_t1dual_inphase_patient_id_vs_JSD_dist_for_grey_lvl_int_agg_pat_mean.jpeg','org_to_org',fig_dim=(20,20),\n",
    "                dpi_sp=600,fontsize_sp=25,tick_f_size_sp=20)"
   ]
  },
  {
   "cell_type": "code",
   "execution_count": null,
   "metadata": {},
   "outputs": [],
   "source": []
  },
  {
   "cell_type": "code",
   "execution_count": null,
   "metadata": {},
   "outputs": [],
   "source": []
  },
  {
   "cell_type": "code",
   "execution_count": null,
   "metadata": {},
   "outputs": [],
   "source": []
  },
  {
   "cell_type": "code",
   "execution_count": null,
   "metadata": {},
   "outputs": [],
   "source": []
  },
  {
   "cell_type": "code",
   "execution_count": null,
   "metadata": {},
   "outputs": [],
   "source": [
    "#Iterate through for files in directory path. \n",
    "Analysis_lst=[]\n",
    "\n",
    "for file in glob.glob(dir_pth+'/*.png'):\n",
    "    \n",
    "    tmp_img=imageio.imread(file)\n",
    "    \n",
    "    img=[x for x in img_types if file.lower().find(x)!=-1]\n",
    "    organ=[y for y in organs if file.lower().find(y)!=-1]\n",
    "    #Patient id determined from \n",
    "    file_idx=[file.lower().find(x) for x in pat_id_lst if file.lower().find(x)!=-1]\n",
    "    Pat_id_act=int(file[file.lower().find(Pat_str)+len(Pat_str):file_idx[0]])\n",
    "    #Getting slice no from file name\n",
    "    slic_no_uppr_bnd=file.lower().find('uint8.png')\n",
    "    slic_no_lwr_bnd=file.lower().rfind('mask_')\n",
    "    slice_no=int(file[slic_no_lwr_bnd+len('mask_'):slic_no_uppr_bnd])\n",
    "    \n",
    "    #Dividing image into patches\n",
    "    tmp_img_pat=div_patches_img(tmp_img)\n",
    "    try:        \n",
    "        #Getting statistics\n",
    "        mean,median,var,min_val,max_val=np_stat_sum(tmp_img_pat)\n",
    "        #Generating list for analysis\n",
    "        \n",
    "        \n",
    "    except ValueError as e:\n",
    "        print('val error')\n",
    "        print(tmp_img_pat.shape)\n",
    "        tmp_img_pat=div_patches_img(tmp_img,(2,2))\n",
    "        print(tmp_img_pat.shape)\n",
    "        if tmp_img_pat.shape[0]!=0:\n",
    "            #Getting statistics\n",
    "            mean,median,var,min_val,max_val=np_stat_sum(tmp_img_pat)\n",
    "        else:\n",
    "            tmp_img_pat=div_patches_img(tmp_img,(1,1))\n",
    "            mean,median,var,min_val,max_val=np_stat_sum(tmp_img_pat)\n",
    "    \n",
    "    Analysis_lst.append([img[0],organ[0],Pat_id_act,slice_no,mean,median,var,np.sqrt(var),min_val,max_val])"
   ]
  },
  {
   "cell_type": "code",
   "execution_count": null,
   "metadata": {},
   "outputs": [],
   "source": [
    "org_int_spec_summary_data=pd.DataFrame(Analysis_lst,columns=['image_type','organ_type','pat_id','slice_no',\n",
    "                                                             'mean','median','variance','std_dev','min','max'])\n",
    "org_int_spec_summary_data.to_excel('org_int_specific_summary_data.xlsx')"
   ]
  },
  {
   "cell_type": "code",
   "execution_count": null,
   "metadata": {},
   "outputs": [],
   "source": [
    "org_int_spec_summary_data['image_type'].unique()"
   ]
  },
  {
   "cell_type": "code",
   "execution_count": null,
   "metadata": {},
   "outputs": [],
   "source": []
  },
  {
   "cell_type": "code",
   "execution_count": null,
   "metadata": {},
   "outputs": [],
   "source": [
    "gen_boxplot(org_int_spec_summary_data,\n",
    "            'image_type','mean','Image type','Mean 8 bit pixel intensities',\n",
    "            'boxplot_img_type_vs_mean_int_vs_org_type.jpeg','organ_type',fig_dim=(20,20),\n",
    "                dpi_sp=600,fontsize_sp=25,tick_f_size_sp=20)"
   ]
  },
  {
   "cell_type": "code",
   "execution_count": null,
   "metadata": {},
   "outputs": [],
   "source": [
    "gen_boxplot(org_int_spec_summary_data,\n",
    "            'image_type','median','Image type','Median 8 bit pixel intensities',\n",
    "            'boxplot_img_type_vs_median_int_vs_org_type.jpeg','organ_type',fig_dim=(20,20),\n",
    "                dpi_sp=600,fontsize_sp=25,tick_f_size_sp=20)"
   ]
  },
  {
   "cell_type": "code",
   "execution_count": null,
   "metadata": {},
   "outputs": [],
   "source": [
    "gen_boxplot(org_int_spec_summary_data[org_int_spec_summary_data['image_type']=='t1dual_inphase'],\n",
    "            'pat_id','median','Patient ID','Median 8 bit pixel intensities',\n",
    "            'boxplot_t1dual_inphase_patient_id_vs_median_int_vs_org_type.jpeg','organ_type',fig_dim=(20,20),\n",
    "                dpi_sp=600,fontsize_sp=25,tick_f_size_sp=20)"
   ]
  },
  {
   "cell_type": "code",
   "execution_count": null,
   "metadata": {},
   "outputs": [],
   "source": [
    "gen_lineplot(org_int_spec_summary_data[org_int_spec_summary_data['image_type']=='t1dual_inphase'],\n",
    "            'pat_id','median','Patient ID','Median 8 bit pixel intensities',\n",
    "            'lineplot_t1dual_inphase_patient_id_vs_median_int_vs_org_type.jpeg','organ_type',fig_dim=(20,20),\n",
    "                dpi_sp=600,fontsize_sp=25,tick_f_size_sp=20)"
   ]
  },
  {
   "cell_type": "code",
   "execution_count": null,
   "metadata": {},
   "outputs": [],
   "source": [
    "gen_boxplot(org_int_spec_summary_data[org_int_spec_summary_data['image_type']=='t1dual_outphase'],\n",
    "            'pat_id','median','Patient ID','Median 8 bit pixel intensities',\n",
    "            'boxplot_t1dual_outphase_patient_id_vs_median_int_vs_org_type.jpeg','organ_type',fig_dim=(20,20),\n",
    "                dpi_sp=600,fontsize_sp=25,tick_f_size_sp=20)"
   ]
  },
  {
   "cell_type": "code",
   "execution_count": null,
   "metadata": {},
   "outputs": [],
   "source": [
    "gen_boxplot(org_int_spec_summary_data[org_int_spec_summary_data['image_type']=='t2spir'],\n",
    "            'pat_id','median','Patient ID','Median 8 bit pixel intensities',\n",
    "            'boxplot_t2spir_patient_id_vs_median_int_vs_org_type.jpeg','organ_type',fig_dim=(20,20),\n",
    "                dpi_sp=600,fontsize_sp=25,tick_f_size_sp=20)"
   ]
  },
  {
   "cell_type": "code",
   "execution_count": null,
   "metadata": {},
   "outputs": [],
   "source": []
  }
 ],
 "metadata": {
  "kernelspec": {
   "display_name": "Python 3",
   "language": "python",
   "name": "python3"
  },
  "language_info": {
   "codemirror_mode": {
    "name": "ipython",
    "version": 3
   },
   "file_extension": ".py",
   "mimetype": "text/x-python",
   "name": "python",
   "nbconvert_exporter": "python",
   "pygments_lexer": "ipython3",
   "version": "3.7.3"
  }
 },
 "nbformat": 4,
 "nbformat_minor": 2
}
