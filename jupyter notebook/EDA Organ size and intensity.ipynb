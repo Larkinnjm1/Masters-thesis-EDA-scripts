{
 "cells": [
  {
   "cell_type": "markdown",
   "metadata": {},
   "source": [
    "# Importing main libraries for analysis"
   ]
  },
  {
   "cell_type": "code",
   "execution_count": null,
   "metadata": {},
   "outputs": [],
   "source": [
    "import matplotlib.pyplot as plt\n",
    "import os\n",
    "import pandas as pd\n",
    "import numpy as np\n",
    "import re\n",
    "import seaborn as sns\n",
    "import glob\n",
    "import imageio\n",
    "from sklearn.feature_extraction import image\n",
    "import json"
   ]
  },
  {
   "cell_type": "markdown",
   "metadata": {},
   "source": [
    "# Import data for analysis"
   ]
  },
  {
   "cell_type": "code",
   "execution_count": null,
   "metadata": {},
   "outputs": [],
   "source": [
    "trl_df=pd.read_excel(r'C:\\Users\\aczd087\\Downloads/organ_blob_dimension_info.xlsx')"
   ]
  },
  {
   "cell_type": "markdown",
   "metadata": {},
   "source": [
    "# Pre process data for analysis "
   ]
  },
  {
   "cell_type": "code",
   "execution_count": null,
   "metadata": {},
   "outputs": [],
   "source": [
    "file_types=trl_df['image_type'].unique()\n",
    "pat_nos=trl_df['patient_id'].unique()\n",
    "org_types=trl_df['organ_type'].unique()\n",
    "\n"
   ]
  },
  {
   "cell_type": "code",
   "execution_count": null,
   "metadata": {},
   "outputs": [],
   "source": [
    "trl_df.keys()"
   ]
  },
  {
   "cell_type": "code",
   "execution_count": null,
   "metadata": {},
   "outputs": [],
   "source": [
    "file_types"
   ]
  },
  {
   "cell_type": "code",
   "execution_count": null,
   "metadata": {},
   "outputs": [],
   "source": [
    "grouped_img_type_vs_org = trl_df.groupby(['image_type', 'organ_type']).agg({'tmp_area': ['mean','min','max','var']})\n",
    "grouped_img_type_vs_org"
   ]
  },
  {
   "cell_type": "markdown",
   "metadata": {},
   "source": [
    "# Visualise results for analysis organ analysis"
   ]
  },
  {
   "cell_type": "code",
   "execution_count": null,
   "metadata": {},
   "outputs": [],
   "source": [
    "grouped_img_type_vs_org_slice_id = trl_df.groupby(['image_type', 'organ_type','slice_id']).agg({'tmp_area': ['mean','min','max','var']})\n",
    "grouped_img_type_vs_org_slice_id"
   ]
  },
  {
   "cell_type": "code",
   "execution_count": null,
   "metadata": {},
   "outputs": [],
   "source": [
    "sns.catplot(ax=ax,x='image_type',y='tmp_area',hue='organ_type',data=trl_df,kind='box')\n",
    "ax.set_xlabel('Image type',fontsize=20)\n",
    "ax.set_ylabel('Organ contour area (pixel values)',fontsize=20)\n",
    "figure.savefig('boxplot_img_type_vs_tmp_area_vs_org_type.jpeg',dpi=dpi_sp)"
   ]
  },
  {
   "cell_type": "code",
   "execution_count": null,
   "metadata": {},
   "outputs": [],
   "source": [
    "trl_df.loc[(trl_df['image_type']=='t2spir_data')&(trl_df['image_type']=='t1dual_inphase'),:]"
   ]
  },
  {
   "cell_type": "code",
   "execution_count": null,
   "metadata": {},
   "outputs": [],
   "source": []
  },
  {
   "cell_type": "code",
   "execution_count": null,
   "metadata": {},
   "outputs": [],
   "source": [
    "gen_boxplot(trl_df[(trl_df['image_type']=='t1dual_inphase')|(trl_df['image_type']=='t2spir_data')],\n",
    "            'image_type','tmp_area','Image type','Organ contour area (pixel values)',\n",
    "            'boxplot_img_type_2_vs_tmp_area_vs_org_type.jpeg','organ_type',fig_dim=(20,20),\n",
    "                dpi_sp=600,fontsize_sp=25,tick_f_size_sp=20)"
   ]
  },
  {
   "cell_type": "code",
   "execution_count": null,
   "metadata": {},
   "outputs": [],
   "source": [
    "gen_boxplot(trl_df,'image_type','tmp_area','Image type','Organ contour area (pixel values)',\n",
    "            'boxplot_img_type_vs_tmp_area_vs_org_type.jpeg','organ_type',fig_dim=(20,20),\n",
    "                dpi_sp=600,fontsize_sp=25,tick_f_size_sp=20)\n",
    "\n",
    "gen_boxplot(trl_df[trl_df['image_type']=='t1dual_outphase'],'patient_id','tmp_area',\n",
    "            'Image type','Organ contour area (pixel values)',\n",
    "            'boxplot_t1dual_outphase_pat_id_vs_tmp_area_vs_org_type.jpeg',\n",
    "            'organ_type',fig_dim=(20,20),dpi_sp=600,fontsize_sp=25,tick_f_size_sp=20)\n",
    "\n",
    "gen_boxplot(trl_df[trl_df['image_type']=='t1dual_inphase'],'patient_id','tmp_area',\n",
    "            'Image type','Organ contour area (pixel values)',\n",
    "            'boxplot_t1dual_inphase_pat_id_vs_tmp_area_vs_org_type.jpeg',\n",
    "            'organ_type',fig_dim=(20,20),dpi_sp=600,fontsize_sp=25,tick_f_size_sp=20)\n",
    "\n",
    "gen_boxplot(trl_df[trl_df['image_type']=='t2spir_data'],'patient_id','tmp_area',\n",
    "            'Image type','Organ contour area (pixel values)',\n",
    "            'boxplot_t2spir_pat_id_vs_tmp_area_vs_org_type.jpeg',\n",
    "            'organ_type',fig_dim=(20,20),dpi_sp=600,fontsize_sp=25,tick_f_size_sp=20)"
   ]
  },
  {
   "cell_type": "code",
   "execution_count": null,
   "metadata": {},
   "outputs": [],
   "source": [
    "gen_lineplot(trl_df[trl_df['image_type']=='t1dual_outphase'],\n",
    "             'patient_id','tmp_area','Patient ID','Organ contour area (pixel values)',\n",
    "             'lineplot_t1dual_outphase_pat_id_vs_tmp_area_vs_org_type.jpeg','organ_type',\n",
    "                 fig_dim=(20,20),dpi_sp=600,fontsize_sp=20,tick_f_size_sp=16)\n",
    "\n",
    "gen_lineplot(trl_df[trl_df['image_type']=='t1dual_inphase'],\n",
    "             'patient_id','tmp_area','Patient ID','Organ contour area (pixel values)',\n",
    "             'lineplot_t1dual_inphase_pat_id_vs_tmp_area_vs_org_type.jpeg','organ_type',\n",
    "                 fig_dim=(20,20),dpi_sp=600,fontsize_sp=20,tick_f_size_sp=16)\n",
    "\n",
    "gen_lineplot(trl_df[trl_df['image_type']=='t2spir_data'],\n",
    "             'patient_id','tmp_area','Patient ID','Organ contour area (pixel values)',\n",
    "             'lineplot_t2spir_inphase_pat_id_vs_tmp_area_vs_org_type.jpeg','organ_type',\n",
    "                 fig_dim=(20,20),dpi_sp=600,fontsize_sp=20,tick_f_size_sp=16)"
   ]
  },
  {
   "cell_type": "code",
   "execution_count": null,
   "metadata": {},
   "outputs": [],
   "source": [
    "gen_lineplot(trl_df[trl_df['image_type']=='t1dual_outphase'],\n",
    "             'slice_id','tmp_area','MRI Slice No','Organ contour area (pixel values)',\n",
    "             'lineplot_t1dual_outphase_slc_no_vs_tmp_area_vs_org_type.jpeg','organ_type',\n",
    "                 fig_dim=(20,20),dpi_sp=600,fontsize_sp=20,tick_f_size_sp=16)\n",
    "\n",
    "gen_lineplot(trl_df[trl_df['image_type']=='t1dual_inphase'],\n",
    "             'slice_id','tmp_area','MRI Slice No','Organ contour area (pixel values)',\n",
    "             'lineplot_t1dual_inphase_slc_no_vs_tmp_area_vs_org_type.jpeg','organ_type',\n",
    "                 fig_dim=(20,20),dpi_sp=600,fontsize_sp=20,tick_f_size_sp=16)\n",
    "\n",
    "gen_lineplot(trl_df[trl_df['image_type']=='t2spir_data'],\n",
    "             'slice_id','tmp_area','MRI Slice No','Organ contour area (pixel values)',\n",
    "             'lineplot_t2spir_inphase_slc_no_vs_tmp_area_vs_org_type.jpeg','organ_type',\n",
    "                 fig_dim=(20,20),dpi_sp=600,fontsize_sp=20,tick_f_size_sp=16)"
   ]
  },
  {
   "cell_type": "code",
   "execution_count": null,
   "metadata": {},
   "outputs": [],
   "source": [
    "def gen_boxplot(df_set,x_val_col,y_val_col,xlabel,ylabel,fig_f_name,hue_col=None,fig_dim=(20,20),\n",
    "                dpi_sp=600,fontsize_sp=20,tick_f_size_sp=30):\n",
    "    \"\"\"the purpose of this method i sto generate boxplots in a uniform manner\"\"\"\n",
    "    \n",
    "    fig, ax=plt.subplots(figsize=fig_dim)\n",
    "\n",
    "    sns.catplot(ax=ax,x=x_val_col,y=y_val_col,hue=hue_col,data=df_set,kind='box')\n",
    "    #Generate x and y labels\n",
    "    ax.legend(fontsize='22', title_fontsize='20')\n",
    "    ax.set_xlabel(xlabel,fontsize=fontsize_sp)\n",
    "    ax.set_ylabel(ylabel,fontsize=fontsize_sp)\n",
    "    ax.tick_params(labelsize=tick_f_size_sp)\n",
    "    \n",
    "    figure = ax.get_figure()    \n",
    "    figure.savefig(fig_f_name,dpi=dpi_sp)\n",
    "    "
   ]
  },
  {
   "cell_type": "code",
   "execution_count": null,
   "metadata": {},
   "outputs": [],
   "source": [
    "def gen_lineplot(df_set,x_val_col,y_val_col,xlabel,ylabel,fig_f_name,hue_col=None,\n",
    "                 fig_dim=(20,20),dpi_sp=600,fontsize_sp=20,tick_f_size_sp=16):\n",
    "    \n",
    "    fig, ax=plt.subplots(figsize=fig_dim)\n",
    "    \n",
    "        \n",
    "    sns.lineplot(ax=ax,x=x_val_col,y=y_val_col,hue=hue_col,data=df_set)\n",
    "    \n",
    "    \n",
    "    ax.legend(fontsize='22', title_fontsize='20')\n",
    "    ax.set_xlabel(xlabel,fontsize=fontsize_sp)\n",
    "    ax.set_ylabel(ylabel,fontsize=fontsize_sp)\n",
    "    ax.tick_params(labelsize=tick_f_size_sp)\n",
    "    \n",
    "    figure = ax.get_figure()    \n",
    "    figure.savefig(fig_f_name,dpi=dpi_sp)\n",
    "    \n"
   ]
  },
  {
   "cell_type": "code",
   "execution_count": null,
   "metadata": {},
   "outputs": [],
   "source": [
    "def bytescaling(data, cmin=None, cmax=None, high=255, low=0):\n",
    "    \"\"\"\n",
    "    Converting the input image to uint8 dtype and scaling\n",
    "    the range to ``(low, high)`` (default 0-255). If the input image already has \n",
    "    dtype uint8, no scaling is done.\n",
    "    :param data: 16-bit image data array\n",
    "    :param cmin: bias scaling of small values (def: data.min())\n",
    "    :param cmax: bias scaling of large values (def: data.max())\n",
    "    :param high: scale max value to high. (def: 255)\n",
    "    :param low: scale min value to low. (def: 0)\n",
    "    :return: 8-bit image data array\n",
    "    \"\"\"\n",
    "    if data.dtype == np.uint8:\n",
    "        return data\n",
    "\n",
    "    if high > 255:\n",
    "        high = 255\n",
    "    if low < 0:\n",
    "        low = 0\n",
    "    if high < low:\n",
    "        raise ValueError(\"`high` should be greater than or equal to `low`.\")\n",
    "\n",
    "    if cmin is None:\n",
    "        cmin = data.min()\n",
    "    if cmax is None:\n",
    "        cmax = data.max()\n",
    "\n",
    "    cscale = cmax - cmin\n",
    "    if cscale == 0:\n",
    "        cscale = 1\n",
    "\n",
    "    scale = float(high - low) / cscale\n",
    "    bytedata = (data - cmin) * scale + low\n",
    "    return (bytedata.clip(low, high) + 0.5).astype(np.uint8)"
   ]
  },
  {
   "cell_type": "markdown",
   "metadata": {},
   "source": [
    "# Visualise results for Organ intensity"
   ]
  },
  {
   "cell_type": "code",
   "execution_count": null,
   "metadata": {},
   "outputs": [],
   "source": [
    "img_types=['t2spir','t1dual_inphase','t1dual_outphase']\n",
    "organs=['background','liver','right kidney','left kidney','r_kidney','spleen','l_kidney']\n",
    "Pat_str='patient_id_'\n",
    "pat_id_lst=['t1d','t2s']\n",
    "dir_pth='F:\\Biomedical images\\Train\\mask_orgn_spec_img'"
   ]
  },
  {
   "cell_type": "code",
   "execution_count": null,
   "metadata": {},
   "outputs": [],
   "source": [
    "def div_patches_img(tmp_img_255,pat_size=(3,3)):\n",
    "    \"\"\"The purpose of this method is to divide patch of an imageinto sections and filter off mainly black background pieces\n",
    "    for variance mean etc statisitcal analysis.\"\"\"\n",
    "    patches = image.extract_patches_2d(tmp_img_255, pat_size)\n",
    "    bool_set=np.any(patches!=0,axis=(1,2))\n",
    "    return patches[bool_set,:,:]\n",
    "\n",
    "def np_stat_sum(tmp_img_pat):\n",
    "    \"\"\"The purpose of this method is to perform statical analysis in regards to numpy statisicall summayr analysis\"\"\"\n",
    "    \n",
    "    return (tmp_img_pat.mean(),np.median(tmp_img_pat),np.var(tmp_img_pat.flatten()),\n",
    "           np.min(tmp_img_pat),np.max(tmp_img_pat))"
   ]
  },
  {
   "cell_type": "code",
   "execution_count": null,
   "metadata": {},
   "outputs": [],
   "source": [
    "def dict_concat_np(dict_set,array_key,array):\n",
    "    \"\"\"The purpose of this method is to perform numpy concatenation between arrays\"\"\"\n",
    "    \n",
    "    if array_key in dict_set.keys():        \n",
    "        dict_set[array_key]=np.concatenate((dict_set[array_key],\n",
    "                                           array.flatten()))\n",
    "    else:\n",
    "        dict_set[array_key]=array.flatten()\n",
    "        \n",
    "    return dict_set\n",
    "\n",
    "def gen_np_dict(dict_set,dict_name):\n",
    "    \"\"\"Generate dictionary set json\"\"\"\n",
    "    np.save(dict_name,dict_set)"
   ]
  },
  {
   "cell_type": "code",
   "execution_count": null,
   "metadata": {},
   "outputs": [],
   "source": []
  },
  {
   "cell_type": "code",
   "execution_count": null,
   "metadata": {},
   "outputs": [],
   "source": [
    "#Iterate through for files in directory path. \n",
    "Analysis_lst=[]\n",
    "\n",
    "per_img_pat_org={}\n",
    "per_img_slc_org={}\n",
    "per_img_org={}\n",
    "\n",
    "for file in glob.glob(dir_pth+'/*.png'):\n",
    "    #print(file)\n",
    "    tmp_img=imageio.imread(file)\n",
    "    \n",
    "    img=[x for x in img_types if file.lower().find(x)!=-1]\n",
    "    organ=[y for y in organs if file.lower().find(y)!=-1]\n",
    "    #Patient id determined from \n",
    "    file_idx=[file.lower().find(x) for x in pat_id_lst if file.lower().find(x)!=-1]\n",
    "    Pat_id_act=file[file.lower().find(Pat_str)+len(Pat_str):file_idx[0]]\n",
    "    #Getting slice no from file name\n",
    "    slic_no_uppr_bnd=file.lower().find('uint8.png')\n",
    "    slic_no_lwr_bnd=file.lower().rfind('mask_')\n",
    "    slice_no=file[slic_no_lwr_bnd+len('mask_'):slic_no_uppr_bnd]\n",
    "    \n",
    "        #Dividing image into patches\n",
    "    tmp_img_pat=div_patches_img(tmp_img)\n",
    "    try:        \n",
    "        #Getting statistics\n",
    "        mean,median,var,min_val,max_val=np_stat_sum(tmp_img_pat)\n",
    "        #Generating list for analysis\n",
    "        \n",
    "        \n",
    "    except ValueError as e:\n",
    "        print('val error')\n",
    "        print(tmp_img_pat.shape)\n",
    "        tmp_img_pat=div_patches_img(tmp_img,(2,2))\n",
    "        print(tmp_img_pat.shape)\n",
    "        if tmp_img_pat.shape[0]!=0:\n",
    "            #Getting statistics\n",
    "            mean,median,var,min_val,max_val=np_stat_sum(tmp_img_pat)\n",
    "        else:\n",
    "            tmp_img_pat=div_patches_img(tmp_img,(1,1))\n",
    "            #mean,median,var,min_val,max_val=np_stat_sum(tmp_img_pat)\n",
    "    \n",
    "    \n",
    "    img_pat_org_key=img[0]+'_'+organ[0]+'_'+Pat_id_act\n",
    "    img_pat_slc_key=img[0]+'_'+organ[0]+'_'+slice_no\n",
    "    per_img_org_key=img[0]+'_'+organ[0]\n",
    "    \n",
    "    per_img_pat_org=dict_concat_np(per_img_pat_org,img_pat_org_key,tmp_img_pat)\n",
    "    per_img_slc_org=dict_concat_np(per_img_slc_org,img_pat_slc_key,tmp_img_pat)\n",
    "    per_img_org=dict_concat_np(per_img_org,per_img_org_key,tmp_img_pat)"
   ]
  },
  {
   "cell_type": "code",
   "execution_count": null,
   "metadata": {},
   "outputs": [],
   "source": [
    "\n",
    "gen_np_dict(per_img_pat_org,'per_img_per_pat_org_arrs_dict.npy')\n",
    "gen_np_dict(per_img_slc_org,'per_img_per_slc_org_arrs_dict.npy')\n",
    "gen_np_dict(per_img_org,'per_img_org_arrs_dict.npy')"
   ]
  },
  {
   "cell_type": "code",
   "execution_count": 291,
   "metadata": {},
   "outputs": [],
   "source": [
    "per_img_pat_org_idx=[]\n",
    "\n",
    "for k,v in per_img_pat_org.items():\n",
    "    #Image set for analysis\n",
    "    img=[x for x in img_types if k.lower().find(x)!=-1]\n",
    "    #Organ set for analysis\n",
    "    organ=[y for y in organs if k.lower().find(y)!=-1]\n",
    "    #Patient id \n",
    "    pat_id=int(k.split('_')[-1])\n",
    "    \n",
    "    #mean,median,var,min_val,max_val=np_stat_sum(v)\n",
    "    \n",
    "    per_img_pat_org_idx.append([img[0],organ[0],pat_id,v])\n",
    "    "
   ]
  },
  {
   "cell_type": "code",
   "execution_count": 293,
   "metadata": {},
   "outputs": [],
   "source": [
    "filt_df=per_img_pat_org_df[per_img_pat_org_df['image_type']=='t1dual_inphase']\n"
   ]
  },
  {
   "cell_type": "code",
   "execution_count": 296,
   "metadata": {},
   "outputs": [
    {
     "data": {
      "text/plain": [
       "array(['background', 'left kidney', 'liver', 'right kidney', 'spleen'],\n",
       "      dtype=object)"
      ]
     },
     "execution_count": 296,
     "metadata": {},
     "output_type": "execute_result"
    }
   ],
   "source": [
    "filt_df.organ.unique()"
   ]
  },
  {
   "cell_type": "code",
   "execution_count": 297,
   "metadata": {},
   "outputs": [],
   "source": [
    "flatui_palette_code= {'background':\"#9b59b6\",'left kidney':\"#3498db\",\n",
    "          'right kidney':\"#e74c3c\",'spleen':\"#34495e\",'liver':\"#2ecc71\"}"
   ]
  },
  {
   "cell_type": "code",
   "execution_count": 301,
   "metadata": {},
   "outputs": [],
   "source": [
    "colour_palette=[]\n",
    "\n",
    "for org_types in list(filt_df.organ):\n",
    "    \n",
    "    colour_palette.append(flatui_palette_code[org_types])"
   ]
  },
  {
   "cell_type": "code",
   "execution_count": 314,
   "metadata": {},
   "outputs": [],
   "source": [
    "#Creating custom xticks for analysis\n",
    "pat_id_lst=list(filt_df['patient_id'])\n",
    "pat_id_lst_subsample=[s if (i+3)%5==0 else '' for i,s in enumerate(pat_id_lst)]\n",
    "          "
   ]
  },
  {
   "cell_type": "code",
   "execution_count": null,
   "metadata": {},
   "outputs": [],
   "source": [
    "t1dual_inphase_pat_id=[key for key, value in per_img_pat_org.items() if 't1dual_inphase' in key.lower()]\n",
    "t1dual_outphase_pat_id=[key for key, value in per_img_pat_org.items() if 't1dual_outphase' in key.lower()]\n",
    "t2spir_pat_id=[key for key, value in per_img_pat_org.items() if 't2spir' in key.lower()]"
   ]
  },
  {
   "cell_type": "code",
   "execution_count": 317,
   "metadata": {},
   "outputs": [
    {
     "data": {
      "text/plain": [
       "<matplotlib.legend.Legend at 0x30d640d44a8>"
      ]
     },
     "execution_count": 317,
     "metadata": {},
     "output_type": "execute_result"
    },
    {
     "data": {
      "image/png": "[encoded data removed]",
      "text/plain": [
       "<Figure size 2160x2160 with 1 Axes>"
      ]
     },
     "metadata": {},
     "output_type": "display_data"
    }
   ],
   "source": [
    "fig,ax=plt.subplots(figsize=(30,30))\n",
    "\n",
    "sns.boxplot(ax=ax,data=list(filt_df['array']),palette=colour_palette)\n",
    "\n",
    "ax.set_xticklabels(pat_id_lst_subsample)\n",
    "markers = [plt.Line2D([0,0],[0,0],color=color, marker='o', linestyle='') for color in flatui_palette_code.values()]\n",
    "ax.legend(markers, flatui_palette_code.keys(), numpoints=1,loc=1)"
   ]
  },
  {
   "cell_type": "code",
   "execution_count": null,
   "metadata": {},
   "outputs": [],
   "source": []
  },
  {
   "cell_type": "code",
   "execution_count": null,
   "metadata": {},
   "outputs": [],
   "source": []
  },
  {
   "cell_type": "code",
   "execution_count": 251,
   "metadata": {},
   "outputs": [],
   "source": []
  },
  {
   "cell_type": "code",
   "execution_count": 250,
   "metadata": {},
   "outputs": [],
   "source": [
    "def gen_filt_dict(dict_orig,dict_vals):\n",
    "    \"\"\"The method to filter dictionary on key values for methods\"\"\"\n",
    "    new_dict=dict()\n",
    "    \n",
    "    for vals in dict_vals:\n",
    "        new_dict[vals]=dict_orig[vals]\n",
    "        \n",
    "    return new_dict"
   ]
  },
  {
   "cell_type": "code",
   "execution_count": null,
   "metadata": {},
   "outputs": [],
   "source": []
  },
  {
   "cell_type": "code",
   "execution_count": null,
   "metadata": {},
   "outputs": [],
   "source": [
    "gen_boxplot(per_img_pat_org_df,\n",
    "            'image_type','array','Image type','Organ contour area (pixel values)',\n",
    "            'boxplot_img_type_vs_intensity_vs_org_type.jpeg','organ',fig_dim=(20,20),\n",
    "                dpi_sp=600,fontsize_sp=25,tick_f_size_sp=20)"
   ]
  },
  {
   "cell_type": "code",
   "execution_count": null,
   "metadata": {},
   "outputs": [],
   "source": [
    "per_img_pat_org_df.to_excel('')"
   ]
  },
  {
   "cell_type": "code",
   "execution_count": null,
   "metadata": {},
   "outputs": [],
   "source": [
    "per_img_slc_org_lst=[]\n",
    "for k,v in per_img_slc_org.items():\n",
    "    #Image set for analysis\n",
    "    img=[x for x in img_types if k.lower().find(x)!=-1]\n",
    "    #Organ set for analysis\n",
    "    organ=[y for y in organs if k.lower().find(y)!=-1]\n",
    "    #Patient id \n",
    "    slc_no=int(k.split('_')[-1])\n",
    "    \n",
    "    #mean,median,var,min_val,max_val=np_stat_sum(v)\n",
    "    \n",
    "    lst_set=[img[0],organ[0],pat_id] #mean,median,var,min_val,max_val\n",
    "    \n",
    "    for i in v.T:\n",
    "        tmp_set=lst_set+[i]\n",
    "        per_img_pat_org_lst.append(tmp_set)\n",
    "    \n",
    "    per_img_slc_org_lst.append(lst_set)\n",
    "\n",
    "per_img_slc_no_org_df=pd.DataFrame(per_img_pat_org_lst,\n",
    "                                columns=['image_type','organ','slice_no',\n",
    "                                        'array'])"
   ]
  },
  {
   "cell_type": "code",
   "execution_count": null,
   "metadata": {},
   "outputs": [],
   "source": []
  },
  {
   "cell_type": "code",
   "execution_count": null,
   "metadata": {},
   "outputs": [],
   "source": []
  },
  {
   "cell_type": "code",
   "execution_count": null,
   "metadata": {},
   "outputs": [],
   "source": [
    "#Iterate through for files in directory path. \n",
    "Analysis_lst=[]\n",
    "\n",
    "for file in glob.glob(dir_pth+'/*.png'):\n",
    "    \n",
    "    tmp_img=imageio.imread(file)\n",
    "    \n",
    "    img=[x for x in img_types if file.lower().find(x)!=-1]\n",
    "    organ=[y for y in organs if file.lower().find(y)!=-1]\n",
    "    #Patient id determined from \n",
    "    file_idx=[file.lower().find(x) for x in pat_id_lst if file.lower().find(x)!=-1]\n",
    "    Pat_id_act=int(file[file.lower().find(Pat_str)+len(Pat_str):file_idx[0]])\n",
    "    #Getting slice no from file name\n",
    "    slic_no_uppr_bnd=file.lower().find('uint8.png')\n",
    "    slic_no_lwr_bnd=file.lower().rfind('mask_')\n",
    "    slice_no=int(file[slic_no_lwr_bnd+len('mask_'):slic_no_uppr_bnd])\n",
    "    \n",
    "    #Dividing image into patches\n",
    "    tmp_img_pat=div_patches_img(tmp_img)\n",
    "    try:        \n",
    "        #Getting statistics\n",
    "        mean,median,var,min_val,max_val=np_stat_sum(tmp_img_pat)\n",
    "        #Generating list for analysis\n",
    "        \n",
    "        \n",
    "    except ValueError as e:\n",
    "        print('val error')\n",
    "        print(tmp_img_pat.shape)\n",
    "        tmp_img_pat=div_patches_img(tmp_img,(2,2))\n",
    "        print(tmp_img_pat.shape)\n",
    "        if tmp_img_pat.shape[0]!=0:\n",
    "            #Getting statistics\n",
    "            mean,median,var,min_val,max_val=np_stat_sum(tmp_img_pat)\n",
    "        else:\n",
    "            tmp_img_pat=div_patches_img(tmp_img,(1,1))\n",
    "            mean,median,var,min_val,max_val=np_stat_sum(tmp_img_pat)\n",
    "    \n",
    "    Analysis_lst.append([img[0],organ[0],Pat_id_act,slice_no,mean,median,var,np.sqrt(var),min_val,max_val])"
   ]
  },
  {
   "cell_type": "code",
   "execution_count": null,
   "metadata": {},
   "outputs": [],
   "source": [
    "org_int_spec_summary_data=pd.DataFrame(Analysis_lst,columns=['image_type','organ_type','pat_id','slice_no',\n",
    "                                                             'mean','median','variance','std_dev','min','max'])\n",
    "org_int_spec_summary_data.to_excel('org_int_specific_summary_data.xlsx')"
   ]
  },
  {
   "cell_type": "code",
   "execution_count": null,
   "metadata": {},
   "outputs": [],
   "source": [
    "org_int_spec_summary_data['image_type'].unique()"
   ]
  },
  {
   "cell_type": "code",
   "execution_count": null,
   "metadata": {},
   "outputs": [],
   "source": []
  },
  {
   "cell_type": "code",
   "execution_count": null,
   "metadata": {},
   "outputs": [],
   "source": [
    "gen_boxplot(org_int_spec_summary_data,\n",
    "            'image_type','mean','Image type','Mean 8 bit pixel intensities',\n",
    "            'boxplot_img_type_vs_mean_int_vs_org_type.jpeg','organ_type',fig_dim=(20,20),\n",
    "                dpi_sp=600,fontsize_sp=25,tick_f_size_sp=20)"
   ]
  },
  {
   "cell_type": "code",
   "execution_count": null,
   "metadata": {},
   "outputs": [],
   "source": [
    "gen_boxplot(org_int_spec_summary_data,\n",
    "            'image_type','median','Image type','Median 8 bit pixel intensities',\n",
    "            'boxplot_img_type_vs_median_int_vs_org_type.jpeg','organ_type',fig_dim=(20,20),\n",
    "                dpi_sp=600,fontsize_sp=25,tick_f_size_sp=20)"
   ]
  },
  {
   "cell_type": "code",
   "execution_count": null,
   "metadata": {},
   "outputs": [],
   "source": [
    "gen_boxplot(org_int_spec_summary_data[org_int_spec_summary_data['image_type']=='t1dual_inphase'],\n",
    "            'pat_id','median','Patient ID','Median 8 bit pixel intensities',\n",
    "            'boxplot_t1dual_inphase_patient_id_vs_median_int_vs_org_type.jpeg','organ_type',fig_dim=(20,20),\n",
    "                dpi_sp=600,fontsize_sp=25,tick_f_size_sp=20)"
   ]
  },
  {
   "cell_type": "code",
   "execution_count": null,
   "metadata": {},
   "outputs": [],
   "source": [
    "gen_lineplot(org_int_spec_summary_data[org_int_spec_summary_data['image_type']=='t1dual_inphase'],\n",
    "            'pat_id','median','Patient ID','Median 8 bit pixel intensities',\n",
    "            'lineplot_t1dual_inphase_patient_id_vs_median_int_vs_org_type.jpeg','organ_type',fig_dim=(20,20),\n",
    "                dpi_sp=600,fontsize_sp=25,tick_f_size_sp=20)"
   ]
  },
  {
   "cell_type": "code",
   "execution_count": null,
   "metadata": {},
   "outputs": [],
   "source": [
    "gen_boxplot(org_int_spec_summary_data[org_int_spec_summary_data['image_type']=='t1dual_outphase'],\n",
    "            'pat_id','median','Patient ID','Median 8 bit pixel intensities',\n",
    "            'boxplot_t1dual_outphase_patient_id_vs_median_int_vs_org_type.jpeg','organ_type',fig_dim=(20,20),\n",
    "                dpi_sp=600,fontsize_sp=25,tick_f_size_sp=20)"
   ]
  },
  {
   "cell_type": "code",
   "execution_count": null,
   "metadata": {},
   "outputs": [],
   "source": [
    "gen_boxplot(org_int_spec_summary_data[org_int_spec_summary_data['image_type']=='t2spir'],\n",
    "            'pat_id','median','Patient ID','Median 8 bit pixel intensities',\n",
    "            'boxplot_t2spir_patient_id_vs_median_int_vs_org_type.jpeg','organ_type',fig_dim=(20,20),\n",
    "                dpi_sp=600,fontsize_sp=25,tick_f_size_sp=20)"
   ]
  },
  {
   "cell_type": "code",
   "execution_count": null,
   "metadata": {},
   "outputs": [],
   "source": []
  }
 ],
 "metadata": {
  "kernelspec": {
   "display_name": "Python 3",
   "language": "python",
   "name": "python3"
  },
  "language_info": {
   "codemirror_mode": {
    "name": "ipython",
    "version": 3
   },
   "file_extension": ".py",
   "mimetype": "text/x-python",
   "name": "python",
   "nbconvert_exporter": "python",
   "pygments_lexer": "ipython3",
   "version": "3.7.3"
  }
 },
 "nbformat": 4,
 "nbformat_minor": 2
}
